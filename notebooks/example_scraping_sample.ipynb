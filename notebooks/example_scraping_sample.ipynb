{
 "cells": [
  {
   "cell_type": "markdown",
   "metadata": {},
   "source": [
    "# Get started: PDF downloader for Bebauungsplane\n",
    "\n",
    "The first step necessary to run the BP downloader is to have a database that contains links to different building plans in PDF format. The input for this was the information provided in the [NRW geoportal](https://www.geoportal.nrw/?activetab=map). Clicking on the download button there, you should be able to select all the areas of NRW, select to download information from Bebauungsplane and get the information in GeoPackage format (gpkg extension). \n",
    "\n",
    "This extension can be loaded into any GIS interface, and exported into a geojson format. This is the format that the functions finally take as input.\n"
   ]
  },
  {
   "cell_type": "code",
   "execution_count": 1,
   "metadata": {},
   "outputs": [],
   "source": [
    "import geopandas as gpd\n",
    "\n",
    "from geojson_parser import parse_geojson\n",
    "from NRW_BP_PDF_scraper import run_pdf_downloader"
   ]
  },
  {
   "cell_type": "markdown",
   "metadata": {},
   "source": [
    "+ **parse_geojson:** parses geojson file with download links to different building plans. It iterates over all rows and checks if the url matches the pattern of a osp-plan.de link without a list format, meaning than the scan url is not directly to a pdf, but the pdf is contained somewhere in the html of the page. If the url matches the pattern, the html of the page is downloaded and parsed with beautiful soup. All links that start with https://www.o-sp.de/download/ are extracted and written to a dataframe.\n",
    "    + to parse only a sample of the rows, set a sample size defined by sample_n. \n",
    "\n",
    "+ **run_pdf_downloader:** goes through a GDF with PDF download links and downloads all the files. Links that return error are saved in a csv called error_links in the defined output folder. \n",
    "    + to parse only a sample of the rows, set a sample size defined by sample_n. \n",
    "\n",
    "Basic usage:"
   ]
  },
  {
   "cell_type": "code",
   "execution_count": 2,
   "metadata": {},
   "outputs": [
    {
     "name": "stderr",
     "output_type": "stream",
     "text": [
      "100%|██████████| 15/15 [00:01<00:00, 11.62it/s]\n"
     ]
    }
   ],
   "source": [
    "df = parse_geojson(\"NRW_BP_sample.geojson\", sample_n = 15)"
   ]
  },
  {
   "cell_type": "code",
   "execution_count": 3,
   "metadata": {},
   "outputs": [
    {
     "name": "stdout",
     "output_type": "stream",
     "text": [
      "Downloaded: 2408747_4.pdf\n",
      "Failed to download: https://www.o-sp.de/rheine/plan?pid=39724\n",
      "Downloaded: 2415976_4.pdf\n"
     ]
    }
   ],
   "source": [
    "# Run downloader\n",
    "\n",
    "run_pdf_downloader(df,\n",
    "                   output_folder=\"data/NRW/sample_pdf\",\n",
    "                   sample_n=3)"
   ]
  }
 ],
 "metadata": {
  "kernelspec": {
   "display_name": "land-sealing-dssgx",
   "language": "python",
   "name": "python3"
  },
  "language_info": {
   "codemirror_mode": {
    "name": "ipython",
    "version": 3
   },
   "file_extension": ".py",
   "mimetype": "text/x-python",
   "name": "python",
   "nbconvert_exporter": "python",
   "pygments_lexer": "ipython3",
   "version": "3.10.7"
  },
  "orig_nbformat": 4
 },
 "nbformat": 4,
 "nbformat_minor": 2
}
