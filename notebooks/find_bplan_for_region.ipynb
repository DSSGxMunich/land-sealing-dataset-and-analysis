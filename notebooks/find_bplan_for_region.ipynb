{
 "cells": [
  {
   "cell_type": "code",
   "execution_count": 8,
   "metadata": {
    "collapsed": true,
    "ExecuteTime": {
     "end_time": "2023-08-29T14:57:31.994648351Z",
     "start_time": "2023-08-29T14:57:31.990549864Z"
    }
   },
   "outputs": [],
   "source": [
    "path = \"/home/jonasklotz/DSSGx/dssgx_land_sealing_dataset_analysis/data/nrw/NRW_BP.geojson\""
   ]
  },
  {
   "cell_type": "code",
   "execution_count": 8,
   "outputs": [],
   "source": [],
   "metadata": {
    "collapsed": false,
    "ExecuteTime": {
     "end_time": "2023-08-29T14:57:32.274123751Z",
     "start_time": "2023-08-29T14:57:32.264579393Z"
    }
   }
  },
  {
   "cell_type": "code",
   "execution_count": 9,
   "outputs": [],
   "source": [
    "import geopandas as gpd\n"
   ],
   "metadata": {
    "collapsed": false,
    "ExecuteTime": {
     "end_time": "2023-08-29T14:57:32.507302410Z",
     "start_time": "2023-08-29T14:57:32.501768069Z"
    }
   }
  },
  {
   "cell_type": "code",
   "execution_count": 10,
   "outputs": [],
   "source": [
    "df = gpd.read_file(path)"
   ],
   "metadata": {
    "collapsed": false,
    "ExecuteTime": {
     "end_time": "2023-08-29T14:58:39.286943528Z",
     "start_time": "2023-08-29T14:57:45.355712440Z"
    }
   }
  },
  {
   "cell_type": "code",
   "execution_count": 14,
   "outputs": [],
   "source": [
    "# save first 15 rows as csv\n",
    "df.head(15).to_file(\"first_15_rows.geojson\", driver=\"GeoJSON\")"
   ],
   "metadata": {
    "collapsed": false,
    "ExecuteTime": {
     "end_time": "2023-08-29T15:02:31.787794968Z",
     "start_time": "2023-08-29T15:02:31.757586371Z"
    }
   }
  },
  {
   "cell_type": "code",
   "execution_count": 10,
   "outputs": [
    {
     "data": {
      "text/plain": "           id   objectid                 planid    levelplan  \\\n3319     3294    2329120        DE_05374012_141  infra-local   \n8761     7564    2371299   DE_05378012_039E_24A        local   \n8765     7572    2371307   DE_05378012_039E_23A        local   \n8774     7590    2371325   DE_05378012_039E_20A        local   \n8818     7672    2371399  DE_05378012_039E_15vA        local   \n...       ...        ...                    ...          ...   \n103110  55857    2418535     DE_05962032__30217        local   \n103111  55857  2418535_0     DE_05962032__30217        local   \n103112  55857  2418535_1     DE_05962032__30217        local   \n103113  55857  2418535_2     DE_05962032__30217        local   \n103114  55857  2418535_3     DE_05962032__30217        local   \n\n                                      name            kommune       gkz  \\\n3319         Derschlag - Olper Straße__141        Gummersbach  05374012   \n8761             Olpe Süd 039_24. Änderung             Kürten  05378012   \n8765             Olpe Süd 039_23. Änderung             Kürten  05378012   \n8774             Olpe Süd 039_20. Änderung             Kürten  05378012   \n8818    Olpe Süd 039_15. vereinf. Änderung             Kürten  05378012   \n...                                    ...                ...       ...   \n103110           \"Gewerbegebiet Olpendahl\"  Stadt Lüdenscheid  05962032   \n103111           \"Gewerbegebiet Olpendahl\"  Stadt Lüdenscheid  05962032   \n103112           \"Gewerbegebiet Olpendahl\"  Stadt Lüdenscheid  05962032   \n103113           \"Gewerbegebiet Olpendahl\"  Stadt Lüdenscheid  05962032   \n103114           \"Gewerbegebiet Olpendahl\"  Stadt Lüdenscheid  05962032   \n\n               nr besch                   aend  ...  \\\n3319          141                               ...   \n8761     039E_24A                 24. Änderung  ...   \n8765     039E_23A                 23. Änderung  ...   \n8774     039E_20A                 20. Änderung  ...   \n8818    039E_15vA        15. vereinf. Änderung  ...   \n...           ...   ...                    ...  ...   \n103110     _30217                               ...   \n103111     _30217                               ...   \n103112     _30217                               ...   \n103113     _30217                               ...   \n103114     _30217                               ...   \n\n                                                 sonsturl verfahren plantyp  \\\n3319                                                  NaN       NaN    1000   \n8761    https://www.kuerten.de/fileadmin/user_upload/B...      2000    4000   \n8765    https://www.kuerten.de/fileadmin/user_upload/B...      2000    4000   \n8774    https://www.kuerten.de/fileadmin/user_upload/B...      2000    4000   \n8818    https://www.kuerten.de/fileadmin/user_upload/B...      2000    4000   \n...                                                   ...       ...     ...   \n103110                                                          NaN    1000   \n103111                                                          NaN    1000   \n103112                                                          NaN    1000   \n103113                                                          NaN    1000   \n103114                                                          NaN    1000   \n\n       aendnr                                        begruendurl umweltberurl  \\\n3319      NaN                                                NaN          NaN   \n8761       24  https://www.kuerten.de/fileadmin/user_upload/B...                \n8765       23  https://www.kuerten.de/fileadmin/user_upload/B...                \n8774       20  https://www.kuerten.de/fileadmin/user_upload/B...                \n8818       15  https://www.kuerten.de/fileadmin/user_upload/B...                \n...       ...                                                ...          ...   \n103110    NaN                                                                   \n103111    NaN                                                                   \n103112    NaN                                                                   \n103113    NaN                                                                   \n103114    NaN                                                                   \n\n       erklaerungurl      shape_Length         shape_Area  \\\n3319             NaN  705.914798488757   24308.9066007564   \n8761                   1987.4397863155    135628.64175878   \n8765                  133.380147647055   1026.85239362462   \n8774                  125.579978338748  971.3398392014921   \n8818                  95.8510239645987   500.807678001566   \n...              ...               ...                ...   \n103110                1933.18117411995   121444.983553253   \n103111                1933.18117411995   121444.983553253   \n103112                1933.18117411995   121444.983553253   \n103113                1933.18117411995   121444.983553253   \n103114                1933.18117411995   121444.983553253   \n\n                                                 geometry  \n3319    POLYGON ((403653.81300 5651633.27900, 403645.9...  \n8761    POLYGON ((380318.20580 5656202.51740, 380225.5...  \n8765    POLYGON ((380313.90300 5656219.66100, 380306.5...  \n8774    POLYGON ((379994.24240 5656109.58980, 379991.4...  \n8818    POLYGON ((380236.34700 5656223.47100, 380233.5...  \n...                                                   ...  \n103110  POLYGON ((403012.66740 5677262.42530, 403023.2...  \n103111  POLYGON ((403012.66740 5677262.42530, 403023.2...  \n103112  POLYGON ((403012.66740 5677262.42530, 403023.2...  \n103113  POLYGON ((403012.66740 5677262.42530, 403023.2...  \n103114  POLYGON ((403012.66740 5677262.42530, 403023.2...  \n\n[1206 rows x 27 columns]",
      "text/html": "<div>\n<style scoped>\n    .dataframe tbody tr th:only-of-type {\n        vertical-align: middle;\n    }\n\n    .dataframe tbody tr th {\n        vertical-align: top;\n    }\n\n    .dataframe thead th {\n        text-align: right;\n    }\n</style>\n<table border=\"1\" class=\"dataframe\">\n  <thead>\n    <tr style=\"text-align: right;\">\n      <th></th>\n      <th>id</th>\n      <th>objectid</th>\n      <th>planid</th>\n      <th>levelplan</th>\n      <th>name</th>\n      <th>kommune</th>\n      <th>gkz</th>\n      <th>nr</th>\n      <th>besch</th>\n      <th>aend</th>\n      <th>...</th>\n      <th>sonsturl</th>\n      <th>verfahren</th>\n      <th>plantyp</th>\n      <th>aendnr</th>\n      <th>begruendurl</th>\n      <th>umweltberurl</th>\n      <th>erklaerungurl</th>\n      <th>shape_Length</th>\n      <th>shape_Area</th>\n      <th>geometry</th>\n    </tr>\n  </thead>\n  <tbody>\n    <tr>\n      <th>3319</th>\n      <td>3294</td>\n      <td>2329120</td>\n      <td>DE_05374012_141</td>\n      <td>infra-local</td>\n      <td>Derschlag - Olper Straße__141</td>\n      <td>Gummersbach</td>\n      <td>05374012</td>\n      <td>141</td>\n      <td></td>\n      <td></td>\n      <td>...</td>\n      <td>NaN</td>\n      <td>NaN</td>\n      <td>1000</td>\n      <td>NaN</td>\n      <td>NaN</td>\n      <td>NaN</td>\n      <td>NaN</td>\n      <td>705.914798488757</td>\n      <td>24308.9066007564</td>\n      <td>POLYGON ((403653.81300 5651633.27900, 403645.9...</td>\n    </tr>\n    <tr>\n      <th>8761</th>\n      <td>7564</td>\n      <td>2371299</td>\n      <td>DE_05378012_039E_24A</td>\n      <td>local</td>\n      <td>Olpe Süd 039_24. Änderung</td>\n      <td>Kürten</td>\n      <td>05378012</td>\n      <td>039E_24A</td>\n      <td></td>\n      <td>24. Änderung</td>\n      <td>...</td>\n      <td>https://www.kuerten.de/fileadmin/user_upload/B...</td>\n      <td>2000</td>\n      <td>4000</td>\n      <td>24</td>\n      <td>https://www.kuerten.de/fileadmin/user_upload/B...</td>\n      <td></td>\n      <td></td>\n      <td>1987.4397863155</td>\n      <td>135628.64175878</td>\n      <td>POLYGON ((380318.20580 5656202.51740, 380225.5...</td>\n    </tr>\n    <tr>\n      <th>8765</th>\n      <td>7572</td>\n      <td>2371307</td>\n      <td>DE_05378012_039E_23A</td>\n      <td>local</td>\n      <td>Olpe Süd 039_23. Änderung</td>\n      <td>Kürten</td>\n      <td>05378012</td>\n      <td>039E_23A</td>\n      <td></td>\n      <td>23. Änderung</td>\n      <td>...</td>\n      <td>https://www.kuerten.de/fileadmin/user_upload/B...</td>\n      <td>2000</td>\n      <td>4000</td>\n      <td>23</td>\n      <td>https://www.kuerten.de/fileadmin/user_upload/B...</td>\n      <td></td>\n      <td></td>\n      <td>133.380147647055</td>\n      <td>1026.85239362462</td>\n      <td>POLYGON ((380313.90300 5656219.66100, 380306.5...</td>\n    </tr>\n    <tr>\n      <th>8774</th>\n      <td>7590</td>\n      <td>2371325</td>\n      <td>DE_05378012_039E_20A</td>\n      <td>local</td>\n      <td>Olpe Süd 039_20. Änderung</td>\n      <td>Kürten</td>\n      <td>05378012</td>\n      <td>039E_20A</td>\n      <td></td>\n      <td>20. Änderung</td>\n      <td>...</td>\n      <td>https://www.kuerten.de/fileadmin/user_upload/B...</td>\n      <td>2000</td>\n      <td>4000</td>\n      <td>20</td>\n      <td>https://www.kuerten.de/fileadmin/user_upload/B...</td>\n      <td></td>\n      <td></td>\n      <td>125.579978338748</td>\n      <td>971.3398392014921</td>\n      <td>POLYGON ((379994.24240 5656109.58980, 379991.4...</td>\n    </tr>\n    <tr>\n      <th>8818</th>\n      <td>7672</td>\n      <td>2371399</td>\n      <td>DE_05378012_039E_15vA</td>\n      <td>local</td>\n      <td>Olpe Süd 039_15. vereinf. Änderung</td>\n      <td>Kürten</td>\n      <td>05378012</td>\n      <td>039E_15vA</td>\n      <td></td>\n      <td>15. vereinf. Änderung</td>\n      <td>...</td>\n      <td>https://www.kuerten.de/fileadmin/user_upload/B...</td>\n      <td>2000</td>\n      <td>4000</td>\n      <td>15</td>\n      <td>https://www.kuerten.de/fileadmin/user_upload/B...</td>\n      <td></td>\n      <td></td>\n      <td>95.8510239645987</td>\n      <td>500.807678001566</td>\n      <td>POLYGON ((380236.34700 5656223.47100, 380233.5...</td>\n    </tr>\n    <tr>\n      <th>...</th>\n      <td>...</td>\n      <td>...</td>\n      <td>...</td>\n      <td>...</td>\n      <td>...</td>\n      <td>...</td>\n      <td>...</td>\n      <td>...</td>\n      <td>...</td>\n      <td>...</td>\n      <td>...</td>\n      <td>...</td>\n      <td>...</td>\n      <td>...</td>\n      <td>...</td>\n      <td>...</td>\n      <td>...</td>\n      <td>...</td>\n      <td>...</td>\n      <td>...</td>\n      <td>...</td>\n    </tr>\n    <tr>\n      <th>103110</th>\n      <td>55857</td>\n      <td>2418535</td>\n      <td>DE_05962032__30217</td>\n      <td>local</td>\n      <td>\"Gewerbegebiet Olpendahl\"</td>\n      <td>Stadt Lüdenscheid</td>\n      <td>05962032</td>\n      <td>_30217</td>\n      <td></td>\n      <td></td>\n      <td>...</td>\n      <td></td>\n      <td>NaN</td>\n      <td>1000</td>\n      <td>NaN</td>\n      <td></td>\n      <td></td>\n      <td></td>\n      <td>1933.18117411995</td>\n      <td>121444.983553253</td>\n      <td>POLYGON ((403012.66740 5677262.42530, 403023.2...</td>\n    </tr>\n    <tr>\n      <th>103111</th>\n      <td>55857</td>\n      <td>2418535_0</td>\n      <td>DE_05962032__30217</td>\n      <td>local</td>\n      <td>\"Gewerbegebiet Olpendahl\"</td>\n      <td>Stadt Lüdenscheid</td>\n      <td>05962032</td>\n      <td>_30217</td>\n      <td></td>\n      <td></td>\n      <td>...</td>\n      <td></td>\n      <td>NaN</td>\n      <td>1000</td>\n      <td>NaN</td>\n      <td></td>\n      <td></td>\n      <td></td>\n      <td>1933.18117411995</td>\n      <td>121444.983553253</td>\n      <td>POLYGON ((403012.66740 5677262.42530, 403023.2...</td>\n    </tr>\n    <tr>\n      <th>103112</th>\n      <td>55857</td>\n      <td>2418535_1</td>\n      <td>DE_05962032__30217</td>\n      <td>local</td>\n      <td>\"Gewerbegebiet Olpendahl\"</td>\n      <td>Stadt Lüdenscheid</td>\n      <td>05962032</td>\n      <td>_30217</td>\n      <td></td>\n      <td></td>\n      <td>...</td>\n      <td></td>\n      <td>NaN</td>\n      <td>1000</td>\n      <td>NaN</td>\n      <td></td>\n      <td></td>\n      <td></td>\n      <td>1933.18117411995</td>\n      <td>121444.983553253</td>\n      <td>POLYGON ((403012.66740 5677262.42530, 403023.2...</td>\n    </tr>\n    <tr>\n      <th>103113</th>\n      <td>55857</td>\n      <td>2418535_2</td>\n      <td>DE_05962032__30217</td>\n      <td>local</td>\n      <td>\"Gewerbegebiet Olpendahl\"</td>\n      <td>Stadt Lüdenscheid</td>\n      <td>05962032</td>\n      <td>_30217</td>\n      <td></td>\n      <td></td>\n      <td>...</td>\n      <td></td>\n      <td>NaN</td>\n      <td>1000</td>\n      <td>NaN</td>\n      <td></td>\n      <td></td>\n      <td></td>\n      <td>1933.18117411995</td>\n      <td>121444.983553253</td>\n      <td>POLYGON ((403012.66740 5677262.42530, 403023.2...</td>\n    </tr>\n    <tr>\n      <th>103114</th>\n      <td>55857</td>\n      <td>2418535_3</td>\n      <td>DE_05962032__30217</td>\n      <td>local</td>\n      <td>\"Gewerbegebiet Olpendahl\"</td>\n      <td>Stadt Lüdenscheid</td>\n      <td>05962032</td>\n      <td>_30217</td>\n      <td></td>\n      <td></td>\n      <td>...</td>\n      <td></td>\n      <td>NaN</td>\n      <td>1000</td>\n      <td>NaN</td>\n      <td></td>\n      <td></td>\n      <td></td>\n      <td>1933.18117411995</td>\n      <td>121444.983553253</td>\n      <td>POLYGON ((403012.66740 5677262.42530, 403023.2...</td>\n    </tr>\n  </tbody>\n</table>\n<p>1206 rows × 27 columns</p>\n</div>"
     },
     "execution_count": 10,
     "metadata": {},
     "output_type": "execute_result"
    }
   ],
   "source": [
    "# find all rows that contain the string olpe in the columns name or kommune\n",
    "df[df[\"name\"].str.lower().str.contains(\"olpe\", case=False) | df[\"kommune\"].str.lower().str.contains(\"olpe\", case=False)]\n"
   ],
   "metadata": {
    "collapsed": false,
    "ExecuteTime": {
     "end_time": "2023-08-29T13:53:40.367453689Z",
     "start_time": "2023-08-29T13:53:40.097206118Z"
    }
   }
  },
  {
   "cell_type": "code",
   "execution_count": 12,
   "outputs": [
    {
     "data": {
      "text/plain": "          id objectid              planid    levelplan  \\\n15724  14841  2378114    DE_05970040_14/2  infra-local   \n24913  24169  2387786  DE_05970012_184312  infra-local   \n24916  24177  2387794  DE_05970012_184318  infra-local   \n24917  24178  2387795  DE_05970012_184319  infra-local   \n24927  24203  2387820  DE_05970012_184315  infra-local   \n24948  24237  2387854  DE_05970012_184301  infra-local   \n\n                                                    name      kommune  \\\n15724                    Bpl 014/2 Wittgensteiner Straße       Siegen   \n24913  4 Abschnitt I Gewerbe- und Industriepark Wittg...  Erndtebrück   \n24916  4 Abschnitt I Gewerbe- und Industriepark Wittg...  Erndtebrück   \n24917  4 Abschnitt I Gewerbe- und Industriepark Wittg...  Erndtebrück   \n24927     5 Industriepark Wittgenstein, Teilbereich West  Erndtebrück   \n24948  4 Abschnitt I Gewerbe- und Industriepark Wittg...  Erndtebrück   \n\n            gkz      nr besch      aend  ...  \\\n15724  05970040    14/2                  ...   \n24913  05970012  184312        Änderung  ...   \n24916  05970012  184318        Änderung  ...   \n24917  05970012  184319        Änderung  ...   \n24927  05970012  184315                  ...   \n24948  05970012  184301                  ...   \n\n                                               sonsturl verfahren plantyp  \\\n15724                                                        1000    1000   \n24913                                                        1000    1000   \n24916                                                        1000    1000   \n24917                                                        1000    1000   \n24927   https://webgis.kommunale.it/kreissiwibpl/ersd05      1000    1000   \n24948  https://webgis.kommunale.it/kreissiwibpl/ersd04i      1000    1000   \n\n      aendnr begruendurl umweltberurl erklaerungurl      shape_Length  \\\n15724    NaN                                         386.210494391395   \n24913    NaN                                         3959.04224200504   \n24916    NaN                                         1648.15018898587   \n24917    NaN                                         2066.20236887174   \n24927    NaN                                         2122.35930115271   \n24948    NaN                                         3970.73703850365   \n\n             shape_Area                                           geometry  \n15724  6510.49998760326  POLYGON ((432655.29080 5637091.60630, 432652.5...  \n24913   290000.85959983  POLYGON ((452251.93000 5649286.82000, 452247.8...  \n24916  147362.507400017  POLYGON ((452454.34000 5649474.19000, 452422.0...  \n24917  124214.987450043  POLYGON ((452190.45000 5649772.14000, 452111.9...  \n24927  225163.699049836  POLYGON ((450851.93000 5649703.41000, 450860.1...  \n24948  292729.038349697  POLYGON ((452248.17000 5649284.13000, 452162.6...  \n\n[6 rows x 27 columns]",
      "text/html": "<div>\n<style scoped>\n    .dataframe tbody tr th:only-of-type {\n        vertical-align: middle;\n    }\n\n    .dataframe tbody tr th {\n        vertical-align: top;\n    }\n\n    .dataframe thead th {\n        text-align: right;\n    }\n</style>\n<table border=\"1\" class=\"dataframe\">\n  <thead>\n    <tr style=\"text-align: right;\">\n      <th></th>\n      <th>id</th>\n      <th>objectid</th>\n      <th>planid</th>\n      <th>levelplan</th>\n      <th>name</th>\n      <th>kommune</th>\n      <th>gkz</th>\n      <th>nr</th>\n      <th>besch</th>\n      <th>aend</th>\n      <th>...</th>\n      <th>sonsturl</th>\n      <th>verfahren</th>\n      <th>plantyp</th>\n      <th>aendnr</th>\n      <th>begruendurl</th>\n      <th>umweltberurl</th>\n      <th>erklaerungurl</th>\n      <th>shape_Length</th>\n      <th>shape_Area</th>\n      <th>geometry</th>\n    </tr>\n  </thead>\n  <tbody>\n    <tr>\n      <th>15724</th>\n      <td>14841</td>\n      <td>2378114</td>\n      <td>DE_05970040_14/2</td>\n      <td>infra-local</td>\n      <td>Bpl 014/2 Wittgensteiner Straße</td>\n      <td>Siegen</td>\n      <td>05970040</td>\n      <td>14/2</td>\n      <td></td>\n      <td></td>\n      <td>...</td>\n      <td></td>\n      <td>1000</td>\n      <td>1000</td>\n      <td>NaN</td>\n      <td></td>\n      <td></td>\n      <td></td>\n      <td>386.210494391395</td>\n      <td>6510.49998760326</td>\n      <td>POLYGON ((432655.29080 5637091.60630, 432652.5...</td>\n    </tr>\n    <tr>\n      <th>24913</th>\n      <td>24169</td>\n      <td>2387786</td>\n      <td>DE_05970012_184312</td>\n      <td>infra-local</td>\n      <td>4 Abschnitt I Gewerbe- und Industriepark Wittg...</td>\n      <td>Erndtebrück</td>\n      <td>05970012</td>\n      <td>184312</td>\n      <td></td>\n      <td>Änderung</td>\n      <td>...</td>\n      <td></td>\n      <td>1000</td>\n      <td>1000</td>\n      <td>NaN</td>\n      <td></td>\n      <td></td>\n      <td></td>\n      <td>3959.04224200504</td>\n      <td>290000.85959983</td>\n      <td>POLYGON ((452251.93000 5649286.82000, 452247.8...</td>\n    </tr>\n    <tr>\n      <th>24916</th>\n      <td>24177</td>\n      <td>2387794</td>\n      <td>DE_05970012_184318</td>\n      <td>infra-local</td>\n      <td>4 Abschnitt I Gewerbe- und Industriepark Wittg...</td>\n      <td>Erndtebrück</td>\n      <td>05970012</td>\n      <td>184318</td>\n      <td></td>\n      <td>Änderung</td>\n      <td>...</td>\n      <td></td>\n      <td>1000</td>\n      <td>1000</td>\n      <td>NaN</td>\n      <td></td>\n      <td></td>\n      <td></td>\n      <td>1648.15018898587</td>\n      <td>147362.507400017</td>\n      <td>POLYGON ((452454.34000 5649474.19000, 452422.0...</td>\n    </tr>\n    <tr>\n      <th>24917</th>\n      <td>24178</td>\n      <td>2387795</td>\n      <td>DE_05970012_184319</td>\n      <td>infra-local</td>\n      <td>4 Abschnitt I Gewerbe- und Industriepark Wittg...</td>\n      <td>Erndtebrück</td>\n      <td>05970012</td>\n      <td>184319</td>\n      <td></td>\n      <td>Änderung</td>\n      <td>...</td>\n      <td></td>\n      <td>1000</td>\n      <td>1000</td>\n      <td>NaN</td>\n      <td></td>\n      <td></td>\n      <td></td>\n      <td>2066.20236887174</td>\n      <td>124214.987450043</td>\n      <td>POLYGON ((452190.45000 5649772.14000, 452111.9...</td>\n    </tr>\n    <tr>\n      <th>24927</th>\n      <td>24203</td>\n      <td>2387820</td>\n      <td>DE_05970012_184315</td>\n      <td>infra-local</td>\n      <td>5 Industriepark Wittgenstein, Teilbereich West</td>\n      <td>Erndtebrück</td>\n      <td>05970012</td>\n      <td>184315</td>\n      <td></td>\n      <td></td>\n      <td>...</td>\n      <td>https://webgis.kommunale.it/kreissiwibpl/ersd05</td>\n      <td>1000</td>\n      <td>1000</td>\n      <td>NaN</td>\n      <td></td>\n      <td></td>\n      <td></td>\n      <td>2122.35930115271</td>\n      <td>225163.699049836</td>\n      <td>POLYGON ((450851.93000 5649703.41000, 450860.1...</td>\n    </tr>\n    <tr>\n      <th>24948</th>\n      <td>24237</td>\n      <td>2387854</td>\n      <td>DE_05970012_184301</td>\n      <td>infra-local</td>\n      <td>4 Abschnitt I Gewerbe- und Industriepark Wittg...</td>\n      <td>Erndtebrück</td>\n      <td>05970012</td>\n      <td>184301</td>\n      <td></td>\n      <td></td>\n      <td>...</td>\n      <td>https://webgis.kommunale.it/kreissiwibpl/ersd04i</td>\n      <td>1000</td>\n      <td>1000</td>\n      <td>NaN</td>\n      <td></td>\n      <td></td>\n      <td></td>\n      <td>3970.73703850365</td>\n      <td>292729.038349697</td>\n      <td>POLYGON ((452248.17000 5649284.13000, 452162.6...</td>\n    </tr>\n  </tbody>\n</table>\n<p>6 rows × 27 columns</p>\n</div>"
     },
     "execution_count": 12,
     "metadata": {},
     "output_type": "execute_result"
    }
   ],
   "source": [
    "# find all rows that contain the string siegen-wittgenstein in the columns name or kommune\n",
    "df[df[\"name\"].str.lower().str.contains(\"wittgenstein\", case=False) | df[\"kommune\"].str.lower().str.contains(\"wittgenstein\", case=False)]\n",
    "\n"
   ],
   "metadata": {
    "collapsed": false,
    "ExecuteTime": {
     "end_time": "2023-08-29T13:54:15.511458176Z",
     "start_time": "2023-08-29T13:54:15.306791068Z"
    }
   }
  },
  {
   "cell_type": "code",
   "execution_count": null,
   "outputs": [],
   "source": [],
   "metadata": {
    "collapsed": false
   }
  }
 ],
 "metadata": {
  "kernelspec": {
   "display_name": "Python 3",
   "language": "python",
   "name": "python3"
  },
  "language_info": {
   "codemirror_mode": {
    "name": "ipython",
    "version": 2
   },
   "file_extension": ".py",
   "mimetype": "text/x-python",
   "name": "python",
   "nbconvert_exporter": "python",
   "pygments_lexer": "ipython2",
   "version": "2.7.6"
  }
 },
 "nbformat": 4,
 "nbformat_minor": 0
}
