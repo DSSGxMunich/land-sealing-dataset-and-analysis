{
 "cells": [
  {
   "cell_type": "code",
   "execution_count": 3,
   "metadata": {},
   "outputs": [],
   "source": [
    "import pandas as pd\n",
    "import requests\n",
    "\n",
    "from visualizations.missing_data_analysis import cleaning_download_links"
   ]
  },
  {
   "cell_type": "code",
   "execution_count": 4,
   "metadata": {},
   "outputs": [
    {
     "name": "stderr",
     "output_type": "stream",
     "text": [
      "c:\\Users\\LENOVO\\Desktop\\DSSGx\\dssgx_land_sealing_dataset_analysis\\src\\missing_data_analysis\\cleaning_download_links.py:82: DtypeWarning: Columns (9,11,21,22,23,24) have mixed types. Specify dtype option on import or set low_memory=False.\n",
      "  BP_links = pd.read_csv(links_path)\n"
     ]
    }
   ],
   "source": [
    "cleaning_download_links.export_processed_links(\"../data/NRW/NRW_BP_with_links.geojson\", \"../data/NRW/error_links.csv\")"
   ]
  }
 ],
 "metadata": {
  "kernelspec": {
   "display_name": "land-sealing-dssgx",
   "language": "python",
   "name": "python3"
  },
  "language_info": {
   "codemirror_mode": {
    "name": "ipython",
    "version": 3
   },
   "file_extension": ".py",
   "mimetype": "text/x-python",
   "name": "python",
   "nbconvert_exporter": "python",
   "pygments_lexer": "ipython3",
   "version": "3.11.4"
  },
  "orig_nbformat": 4
 },
 "nbformat": 4,
 "nbformat_minor": 2
}
