{
 "cells": [
  {
   "cell_type": "markdown",
   "metadata": {},
   "source": [
    "![dssg_banner](assets/dssg_banner.png)"
   ]
  },
  {
   "cell_type": "markdown",
   "metadata": {},
   "source": [
    "## Getting Started\n",
    "\n",
    "### Optional: Set up Google Colab environment\n",
    "\n",
    "If you work in your local IDE and installed the packages and requirements on your own machine, you can skip this section and start from the import section.\n",
    "Otherwise you can follow and execute this notebook in your browser. For this, click on the button below to open this page in the Colab environment.\n",
    "\n",
    "<a href=\"https://colab.research.google.com/github/DSSGxMunich/land-sealing-dataset-and-analysis/blob/main/src/1_execute_pipeline.ipynb\" target=\"_parent\"> <img src=\"https://colab.research.google.com/assets/colab-badge.svg\" alt=\"Open In Google Colab\"/> </a>\n",
    "\n",
    "Once in Colab, run the cell below to install the packages we will use.\n",
    "What's important to properly set up the notebook:\n",
    "\n",
    "1. Warning: This notebook was not authored by Google. Click on 'Run anyway'.\n",
    "2. When the installation commands are done, there might be \"Restart runtime\" button at the end of the output. Please, *click* it. "
   ]
  },
  {
   "cell_type": "code",
   "execution_count": null,
   "metadata": {},
   "outputs": [],
   "source": [
    "# %pip install json"
   ]
  },
  {
   "cell_type": "markdown",
   "metadata": {},
   "source": [
    "By running the next cell you are going to create a folder in your Google Drive. All the files for this tutorial will be uploaded to this folder. After the first execution you might receive some warning and notification, please follow these instructions:\n",
    "1. Permit this notebook to access your Google Drive files? *Click* on 'Yes', and select your account.\n",
    "2. Google Drive for desktop wants to access your Google Account. *Click* on 'Allow'.\n",
    "\n",
    "At this point, a folder has been created and you can navigate it through the lefthand panel in Colab, you might also have received an email that informs you about the access on your Google Drive. "
   ]
  },
  {
   "cell_type": "code",
   "execution_count": null,
   "metadata": {},
   "outputs": [],
   "source": [
    "# Create a folder in your Google Drive\n",
    "# from google.colab import drive                                                                          \n",
    "# drive.mount('/content/drive')"
   ]
  },
  {
   "cell_type": "code",
   "execution_count": null,
   "metadata": {},
   "outputs": [],
   "source": [
    "# Don't run this cell if you already cloned the repo \n",
    "# !git clone https://github.com/DSSGxMunich/land-sealing-dataset-and-analysis.git"
   ]
  },
  {
   "cell_type": "code",
   "execution_count": null,
   "metadata": {},
   "outputs": [],
   "source": [
    "# %cd land-sealing-dataset-and-analysis"
   ]
  },
  {
   "cell_type": "markdown",
   "metadata": {},
   "source": [
    "## Imports"
   ]
  },
  {
   "cell_type": "code",
   "execution_count": null,
   "metadata": {},
   "outputs": [],
   "source": [
    "import pandas as pd\n",
    "import json\n",
    "\n",
    "from data_pipeline.match_RPlan_BPlan.matching_plans import merge_rp_bp\n",
    "from data_pipeline.match_RPlan_BPlan.matching_plans import export_merged_bp_rp\n",
    "from data_pipeline.nrw_pdf_downloader.geojson_parser import parse_geojson\n",
    "from data_pipeline.nrw_pdf_downloader.nrw_pdf_scraper import run_pdf_downloader\n",
    "from data_pipeline.pdf_scraper.tika_pdf_scraper import pdf_parser_from_folder\n",
    "from features.textual_features.document_texts_creation.create_document_texts import enrich_extracts_with_metadata\n",
    "from features.textual_features.keyword_search.exact_keyword_search import search_df_for_keywords\n",
    "from features.textual_features.keyword_search.contextual_fuzzy_search import search_best_matches_dict\n",
    "\n",
    "from data_pipeline.rplan_content_extraction.rplan_utils import extract_text_and_save_to_txt_files\n",
    "from data_pipeline.rplan_content_extraction.rplan_content_extractor import parse_rplan_directory\n",
    "from data_pipeline.rplan_content_extraction.rplan_utils import parse_result_df\n",
    "from data_pipeline.rplan_content_extraction.rplan_keyword_search import rplan_exact_keyword_search\n",
    "from visualizations.rplan_visualization import plot_keyword_search_results"
   ]
  },
  {
   "cell_type": "markdown",
   "metadata": {},
   "source": [
    "## Prerequisites\n",
    "\n",
    "To run this notebook, you require two geojson files: one containing links to downloadable building plan pdf and one with corresponding geographical information from the regions matching each land parcel. Both files should be saved in an order corresponding to the folder structure you see in the file path below (or adjust the file path)."
   ]
  },
  {
   "cell_type": "markdown",
   "metadata": {
    "collapsed": false
   },
   "source": [
    "# Execution Pipeline"
   ]
  },
  {
   "cell_type": "code",
   "execution_count": null,
   "metadata": {
    "collapsed": false
   },
   "outputs": [],
   "source": [
    "INPUT_BP_FILE_PATH = '../data/nrw/bplan/raw/links/NRW_BP.geojson'\n",
    "INPUT_REGIONS_FILE_PATH = '../data/nrw/rplan/raw/geo/regions_map.geojson'\n",
    "\n",
    "BP_PDF_DIR = '../data/nrw/bplan/raw/pdfs'\n",
    "BP_CSV_FILE_PATH = '../data/nrw/bplan/raw/links/NRW_BP_parsed_links.csv'\n",
    "LAND_PARCELS_FILE_PATH = '../data/nrw/bplan/raw/links/land_parcels.geojson'\n",
    "\n",
    "BP_TEXT_FILE_PATH_JSON = '../data/nrw/bplan/raw/text/bp_text.json' \n",
    "\n",
    "RPLAN_PDF_DIR = \"../data/nrw/rplan/raw/pdfs\"\n",
    "RPLAN_TXT_DIR = \"../data/nrw/rplan/raw/text\"\n",
    "RPLAN_OUTPUT_PATH = \"../data/nrw/rplan/features/regional_plan_sections.json\"\n",
    "RPLAN_KEYWORDS_PATH = \"../data/nrw/rplan/features/rplan_keywords.json\"\n",
    "\n",
    "DOCUMENT_TEXT_FILE_PATH_JSON = '../data/nrw/bplan/raw/text/document_texts.json'\n",
    "\n",
    "EXACT_KEYWORD_DICT_FILEPATHS = {\n",
    "    'features/textual_features/keyword_search/keyword_dict_baunvo.json':\n",
    "    '../data/nrw/bplan/features/keywords/exact_search/baunvo_keywords.csv'\n",
    "    }\n",
    "\"\"\"key: keyword dict path, value: output csv path\"\"\"\n",
    "\n",
    "HOCHWASSER_KEYWORD_DICT_FILEPATH = 'features/textual_features/keyword_search/keyword_dict_hochwasser.json'\n",
    "HOCHWASSER_FUZZY_SEARCH_FILE_PATH_CSV = '../data/nrw/bplan/features/keywords/fuzzy_search/keyword_dict_hochwasser.csv'\n",
    "HOCHWASSER_FUZZY_SEARCH_FILE_PATH_JSON = '../data/nrw/bplan/features/keywords/fuzzy_search/keyword_dict_hochwasser.json'\n",
    "\n",
    "DOCUMENT_ID_COLUMN='filename'\n",
    "TEXT_COLUMN='content'\n",
    "METADATA_COLUMNS = 'metadata'"
   ]
  },
  {
   "cell_type": "markdown",
   "metadata": {},
   "source": [
    "## Step 1: Scrape building plans from NRW geoportal\n",
    "The basis for this scrape is a data set with links to building plans in pdf format (`scanurl`) and further metadata per building plan provided in the [NRW geoportal](https://www.geoportal.nrw/?activetab=map), also made available in this repository (`'../data/nrw/bplan/raw/links/NRW_BP.geojson'`). The information from this file is parsed, relevant links and further information are extracted and the PDF files are then downloaded."
   ]
  },
  {
   "cell_type": "code",
   "execution_count": null,
   "metadata": {},
   "outputs": [],
   "source": [
    "# Parse geojson\n",
    "parsed_geojson = parse_geojson(file_path=INPUT_BP_FILE_PATH,\n",
    "                               output_path = BP_CSV_FILE_PATH)"
   ]
  },
  {
   "cell_type": "code",
   "execution_count": null,
   "metadata": {},
   "outputs": [],
   "source": [
    "parsed_geojson = pd.read_csv(BP_CSV_FILE_PATH)\n",
    "print(parsed_geojson.shape)\n",
    "# Run downloader\n",
    "run_pdf_downloader(input_df=parsed_geojson,\n",
    "                   output_folder=BP_PDF_DIR)"
   ]
  },
  {
   "cell_type": "markdown",
   "metadata": {},
   "source": [
    "To create the data table `land_parcels`, we add columns that refer to the regional plan corresponding to each development plan. It takes as input the same geojson (`INPUT_BP_FILE_PATH)` we were working with before, but also the file that contains geodata of the regions (provided by GreenDIA and also in this repository)."
   ]
  },
  {
   "cell_type": "code",
   "execution_count": null,
   "metadata": {},
   "outputs": [],
   "source": [
    "land_parcels = merge_rp_bp(INPUT_BP_FILE_PATH, INPUT_REGIONS_FILE_PATH)"
   ]
  },
  {
   "cell_type": "code",
   "execution_count": null,
   "metadata": {},
   "outputs": [],
   "source": [
    "export_merged_bp_rp(LAND_PARCELS_FILE_PATH, INPUT_BP_FILE_PATH, INPUT_REGIONS_FILE_PATH)"
   ]
  },
  {
   "cell_type": "code",
   "execution_count": null,
   "metadata": {},
   "outputs": [],
   "source": [
    "# Clearing memory before new executions\n",
    "del parsed_geojson\n",
    "del land_parcels"
   ]
  },
  {
   "cell_type": "markdown",
   "metadata": {},
   "source": [
    "## Step 2: Extract text from PDFs\n",
    "In which we apply OCR to extract the text from each document scraped from the NRW building plan portal. "
   ]
  },
  {
   "cell_type": "code",
   "execution_count": null,
   "metadata": {},
   "outputs": [],
   "source": [
    "parsed_pdfs_df = pdf_parser_from_folder(folder_path=BP_PDF_DIR)\n",
    "\n",
    "parsed_pdfs_json = parsed_pdfs_df.to_json(orient='records')\n",
    "\n",
    "with open(BP_TEXT_FILE_PATH_JSON, 'w') as outputfile:\n",
    "    outputfile.write(parsed_pdfs_json)"
   ]
  },
  {
   "cell_type": "code",
   "execution_count": null,
   "metadata": {},
   "outputs": [],
   "source": [
    "del parsed_pdfs_df\n",
    "del parsed_pdfs_json"
   ]
  },
  {
   "cell_type": "markdown",
   "metadata": {},
   "source": [
    "## Step 3: Enrich extracted building plan texts with information about corresponding land parcels\n",
    "\n",
    "To ultimately create the data table `document_texts`"
   ]
  },
  {
   "cell_type": "code",
   "execution_count": null,
   "metadata": {},
   "outputs": [],
   "source": [
    "bplans_info = pd.read_csv(BP_CSV_FILE_PATH, dtype='unicode')\n",
    "bplans_text = pd.read_json(BP_TEXT_FILE_PATH_JSON)\n",
    "\n",
    "result_df = enrich_extracts_with_metadata(info_df=bplans_info,\n",
    "                                          text_df=bplans_text)"
   ]
  },
  {
   "cell_type": "code",
   "execution_count": null,
   "metadata": {},
   "outputs": [],
   "source": [
    "bp_parsed_links = pd.read_csv('../data/nrw/bplan/raw/links/NRW_BP_parsed_links.csv')\n"
   ]
  },
  {
   "cell_type": "code",
   "execution_count": null,
   "metadata": {},
   "outputs": [],
   "source": [
    "bplans_info['plantyp'].unique()"
   ]
  },
  {
   "cell_type": "code",
   "execution_count": null,
   "metadata": {},
   "outputs": [],
   "source": [
    "# write results to json\n",
    "result_json = result_df.to_json(orient='records')\n",
    "with open(DOCUMENT_TEXT_FILE_PATH_JSON, 'w') as outputfile:\n",
    "    outputfile.write(result_json)"
   ]
  },
  {
   "cell_type": "code",
   "execution_count": null,
   "metadata": {},
   "outputs": [],
   "source": [
    "# Clearing memory\n",
    "del result_df"
   ]
  },
  {
   "cell_type": "markdown",
   "metadata": {},
   "source": [
    "## Step 4: Perform an exact keyword search in extracted texts"
   ]
  },
  {
   "cell_type": "code",
   "execution_count": null,
   "metadata": {},
   "outputs": [],
   "source": [
    "# read in data\n",
    "bp_text_df = pd.read_json(BP_TEXT_FILE_PATH_JSON)"
   ]
  },
  {
   "cell_type": "code",
   "execution_count": null,
   "metadata": {},
   "outputs": [],
   "source": [
    "\n",
    "for keyword_dict_file_path in EXACT_KEYWORD_DICT_FILEPATHS.keys():\n",
    "    with open(keyword_dict_file_path) as f:\n",
    "        keywords_dict= json.load(f) \n",
    "        \n",
    "    result_df = search_df_for_keywords(input_df=bp_text_df,\n",
    "                                   text_column_name=TEXT_COLUMN,\n",
    "                                   id_column_name=DOCUMENT_ID_COLUMN,\n",
    "                                   keyword_dict=keywords_dict)\n",
    "    \n",
    "    result_df.to_csv(EXACT_KEYWORD_DICT_FILEPATHS[keyword_dict_file_path], header=True, index=False)\n"
   ]
  },
  {
   "cell_type": "code",
   "execution_count": null,
   "metadata": {},
   "outputs": [],
   "source": [
    "del result_df"
   ]
  },
  {
   "cell_type": "markdown",
   "metadata": {},
   "source": [
    "## Step 5: Perform an fuzzy keyword search in extracted texts"
   ]
  },
  {
   "cell_type": "code",
   "execution_count": null,
   "metadata": {},
   "outputs": [],
   "source": [
    "! python features/textual_features/keyword_search/contextual_fuzzy_search_parallelised.py"
   ]
  },
  {
   "cell_type": "code",
   "execution_count": null,
   "metadata": {},
   "outputs": [],
   "source": [
    "with open(HOCHWASSER_KEYWORD_DICT_FILEPATH) as f:\n",
    "    HOCHWASSER_KEYWORDS = json.load(f)\n",
    "threshold=85\n",
    "context_words=15\n",
    "all_matches = search_best_matches_dict(input_df=bp_text_df,\n",
    "                                         id_column_name=DOCUMENT_ID_COLUMN,\n",
    "                                         text_column_name=TEXT_COLUMN,\n",
    "                                         keyword_dict=HOCHWASSER_KEYWORDS,\n",
    "                                         threshold=threshold,\n",
    "                                         context_words=context_words)"
   ]
  },
  {
   "cell_type": "code",
   "execution_count": null,
   "metadata": {},
   "outputs": [],
   "source": [
    "all_matches"
   ]
  },
  {
   "cell_type": "code",
   "execution_count": null,
   "metadata": {},
   "outputs": [],
   "source": [
    "all_matches_json = all_matches.to_json(orient='records')\n",
    "with open(HOCHWASSER_FUZZY_SEARCH_FILE_PATH_JSON, 'w') as outputfile:\n",
    "    outputfile.write(all_matches_json)"
   ]
  },
  {
   "cell_type": "markdown",
   "metadata": {},
   "source": [
    "## Step 6: Extract content from regional plans\n",
    "\n",
    "To extract content from regional plans, i.e. parse the text from the pdfs and divide them into chapters / sections. This yields the `regional_plan_sections` dataset."
   ]
  },
  {
   "cell_type": "code",
   "execution_count": 25,
   "metadata": {
    "ExecuteTime": {
     "end_time": "2023-09-25T17:39:19.829933106Z",
     "start_time": "2023-09-25T17:39:11.043847563Z"
    }
   },
   "outputs": [
    {
     "name": "stderr",
     "output_type": "stream",
     "text": [
      "\u001b[32m2023-09-25 19:39:11.052\u001b[0m | \u001b[34m\u001b[1mDEBUG   \u001b[0m | \u001b[36mdata_pipeline.rplan_content_extraction.rplan_content_extractor\u001b[0m:\u001b[36mparse_rplan_directory\u001b[0m:\u001b[36m341\u001b[0m - \u001b[34m\u001b[1m../data/nrw/rplan/raw/text/muenster-2004.txt\u001b[0m\n",
      "\u001b[32m2023-09-25 19:39:11.053\u001b[0m | \u001b[34m\u001b[1mDEBUG   \u001b[0m | \u001b[36mdata_pipeline.rplan_content_extraction.rplan_content_extractor\u001b[0m:\u001b[36mparse_rplan_directory\u001b[0m:\u001b[36m343\u001b[0m - \u001b[34m\u001b[1mProcessing file ../data/nrw/rplan/raw/text/muenster-2004.txt\u001b[0m\n",
      "\u001b[32m2023-09-25 19:39:11.466\u001b[0m | \u001b[34m\u001b[1mDEBUG   \u001b[0m | \u001b[36mdata_pipeline.rplan_content_extraction.rplan_content_extractor\u001b[0m:\u001b[36mparse_rplan_directory\u001b[0m:\u001b[36m341\u001b[0m - \u001b[34m\u001b[1m../data/nrw/rplan/raw/text/bielefeld-_.txt\u001b[0m\n",
      "\u001b[32m2023-09-25 19:39:11.467\u001b[0m | \u001b[34m\u001b[1mDEBUG   \u001b[0m | \u001b[36mdata_pipeline.rplan_content_extraction.rplan_content_extractor\u001b[0m:\u001b[36mparse_rplan_directory\u001b[0m:\u001b[36m343\u001b[0m - \u001b[34m\u001b[1mProcessing file ../data/nrw/rplan/raw/text/bielefeld-_.txt\u001b[0m\n",
      "\u001b[32m2023-09-25 19:39:11.681\u001b[0m | \u001b[34m\u001b[1mDEBUG   \u001b[0m | \u001b[36mdata_pipeline.rplan_content_extraction.rplan_content_extractor\u001b[0m:\u001b[36mparse_rplan_directory\u001b[0m:\u001b[36m341\u001b[0m - \u001b[34m\u001b[1m../data/nrw/rplan/raw/text/arnsberg-2008-siegen.txt\u001b[0m\n",
      "\u001b[32m2023-09-25 19:39:11.681\u001b[0m | \u001b[34m\u001b[1mDEBUG   \u001b[0m | \u001b[36mdata_pipeline.rplan_content_extraction.rplan_content_extractor\u001b[0m:\u001b[36mparse_rplan_directory\u001b[0m:\u001b[36m343\u001b[0m - \u001b[34m\u001b[1mProcessing file ../data/nrw/rplan/raw/text/arnsberg-2008-siegen.txt\u001b[0m\n",
      "\u001b[32m2023-09-25 19:39:11.853\u001b[0m | \u001b[34m\u001b[1mDEBUG   \u001b[0m | \u001b[36mdata_pipeline.rplan_content_extraction.rplan_content_extractor\u001b[0m:\u001b[36mparse_rplan_directory\u001b[0m:\u001b[36m341\u001b[0m - \u001b[34m\u001b[1m../data/nrw/rplan/raw/text/duesseldorf-2018.txt\u001b[0m\n",
      "\u001b[32m2023-09-25 19:39:11.854\u001b[0m | \u001b[34m\u001b[1mDEBUG   \u001b[0m | \u001b[36mdata_pipeline.rplan_content_extraction.rplan_content_extractor\u001b[0m:\u001b[36mparse_rplan_directory\u001b[0m:\u001b[36m343\u001b[0m - \u001b[34m\u001b[1mProcessing file ../data/nrw/rplan/raw/text/duesseldorf-2018.txt\u001b[0m\n",
      "\u001b[32m2023-09-25 19:39:13.070\u001b[0m | \u001b[34m\u001b[1mDEBUG   \u001b[0m | \u001b[36mdata_pipeline.rplan_content_extraction.rplan_content_extractor\u001b[0m:\u001b[36mparse_rplan_directory\u001b[0m:\u001b[36m341\u001b[0m - \u001b[34m\u001b[1m../data/nrw/rplan/raw/text/bonn-2009.txt\u001b[0m\n",
      "\u001b[32m2023-09-25 19:39:13.071\u001b[0m | \u001b[34m\u001b[1mDEBUG   \u001b[0m | \u001b[36mdata_pipeline.rplan_content_extraction.rplan_content_extractor\u001b[0m:\u001b[36mparse_rplan_directory\u001b[0m:\u001b[36m343\u001b[0m - \u001b[34m\u001b[1mProcessing file ../data/nrw/rplan/raw/text/bonn-2009.txt\u001b[0m\n",
      "\u001b[32m2023-09-25 19:39:13.099\u001b[0m | \u001b[34m\u001b[1mDEBUG   \u001b[0m | \u001b[36mdata_pipeline.rplan_content_extraction.rplan_content_extractor\u001b[0m:\u001b[36mparse_rplan_directory\u001b[0m:\u001b[36m341\u001b[0m - \u001b[34m\u001b[1m../data/nrw/rplan/raw/text/detmold-2007-paderborn_hoexter.txt\u001b[0m\n",
      "\u001b[32m2023-09-25 19:39:13.100\u001b[0m | \u001b[34m\u001b[1mDEBUG   \u001b[0m | \u001b[36mdata_pipeline.rplan_content_extraction.rplan_content_extractor\u001b[0m:\u001b[36mparse_rplan_directory\u001b[0m:\u001b[36m343\u001b[0m - \u001b[34m\u001b[1mProcessing file ../data/nrw/rplan/raw/text/detmold-2007-paderborn_hoexter.txt\u001b[0m\n",
      "\u001b[32m2023-09-25 19:39:13.414\u001b[0m | \u001b[34m\u001b[1mDEBUG   \u001b[0m | \u001b[36mdata_pipeline.rplan_content_extraction.rplan_content_extractor\u001b[0m:\u001b[36mparse_rplan_directory\u001b[0m:\u001b[36m341\u001b[0m - \u001b[34m\u001b[1m../data/nrw/rplan/raw/text/köln-2006.txt\u001b[0m\n",
      "\u001b[32m2023-09-25 19:39:13.415\u001b[0m | \u001b[34m\u001b[1mDEBUG   \u001b[0m | \u001b[36mdata_pipeline.rplan_content_extraction.rplan_content_extractor\u001b[0m:\u001b[36mparse_rplan_directory\u001b[0m:\u001b[36m343\u001b[0m - \u001b[34m\u001b[1mProcessing file ../data/nrw/rplan/raw/text/köln-2006.txt\u001b[0m\n",
      "\u001b[32m2023-09-25 19:39:13.420\u001b[0m | \u001b[34m\u001b[1mDEBUG   \u001b[0m | \u001b[36mdata_pipeline.rplan_content_extraction.rplan_content_extractor\u001b[0m:\u001b[36mparse_rplan_directory\u001b[0m:\u001b[36m341\u001b[0m - \u001b[34m\u001b[1m../data/nrw/rplan/raw/text/arnsberg-2012-kreis_soest_hochsauerlandkreis.txt\u001b[0m\n",
      "\u001b[32m2023-09-25 19:39:13.421\u001b[0m | \u001b[34m\u001b[1mDEBUG   \u001b[0m | \u001b[36mdata_pipeline.rplan_content_extraction.rplan_content_extractor\u001b[0m:\u001b[36mparse_rplan_directory\u001b[0m:\u001b[36m343\u001b[0m - \u001b[34m\u001b[1mProcessing file ../data/nrw/rplan/raw/text/arnsberg-2012-kreis_soest_hochsauerlandkreis.txt\u001b[0m\n",
      "\u001b[32m2023-09-25 19:39:13.881\u001b[0m | \u001b[34m\u001b[1mDEBUG   \u001b[0m | \u001b[36mdata_pipeline.rplan_content_extraction.rplan_content_extractor\u001b[0m:\u001b[36mparse_rplan_directory\u001b[0m:\u001b[36m341\u001b[0m - \u001b[34m\u001b[1m../data/nrw/rplan/raw/text/arnsberg-2001-bochum_hagen.txt\u001b[0m\n",
      "\u001b[32m2023-09-25 19:39:13.882\u001b[0m | \u001b[34m\u001b[1mDEBUG   \u001b[0m | \u001b[36mdata_pipeline.rplan_content_extraction.rplan_content_extractor\u001b[0m:\u001b[36mparse_rplan_directory\u001b[0m:\u001b[36m343\u001b[0m - \u001b[34m\u001b[1mProcessing file ../data/nrw/rplan/raw/text/arnsberg-2001-bochum_hagen.txt\u001b[0m\n",
      "\u001b[32m2023-09-25 19:39:14.130\u001b[0m | \u001b[34m\u001b[1mDEBUG   \u001b[0m | \u001b[36mdata_pipeline.rplan_content_extraction.rplan_content_extractor\u001b[0m:\u001b[36mparse_rplan_directory\u001b[0m:\u001b[36m341\u001b[0m - \u001b[34m\u001b[1m../data/nrw/rplan/raw/text/arnsberg-2004-dortmund_unna_hamm.txt\u001b[0m\n",
      "\u001b[32m2023-09-25 19:39:14.130\u001b[0m | \u001b[34m\u001b[1mDEBUG   \u001b[0m | \u001b[36mdata_pipeline.rplan_content_extraction.rplan_content_extractor\u001b[0m:\u001b[36mparse_rplan_directory\u001b[0m:\u001b[36m343\u001b[0m - \u001b[34m\u001b[1mProcessing file ../data/nrw/rplan/raw/text/arnsberg-2004-dortmund_unna_hamm.txt\u001b[0m\n",
      "\u001b[32m2023-09-25 19:39:14.305\u001b[0m | \u001b[34m\u001b[1mDEBUG   \u001b[0m | \u001b[36mdata_pipeline.rplan_content_extraction.rplan_content_extractor\u001b[0m:\u001b[36mparse_rplan_directory\u001b[0m:\u001b[36m341\u001b[0m - \u001b[34m\u001b[1m../data/nrw/rplan/raw/text/ruhr-2009.txt\u001b[0m\n",
      "\u001b[32m2023-09-25 19:39:14.305\u001b[0m | \u001b[34m\u001b[1mDEBUG   \u001b[0m | \u001b[36mdata_pipeline.rplan_content_extraction.rplan_content_extractor\u001b[0m:\u001b[36mparse_rplan_directory\u001b[0m:\u001b[36m343\u001b[0m - \u001b[34m\u001b[1mProcessing file ../data/nrw/rplan/raw/text/ruhr-2009.txt\u001b[0m\n",
      "\u001b[32m2023-09-25 19:39:15.128\u001b[0m | \u001b[34m\u001b[1mDEBUG   \u001b[0m | \u001b[36mdata_pipeline.rplan_content_extraction.rplan_content_extractor\u001b[0m:\u001b[36mparse_rplan_directory\u001b[0m:\u001b[36m341\u001b[0m - \u001b[34m\u001b[1m../data/nrw/rplan/raw/text/aachen-2016.txt\u001b[0m\n",
      "\u001b[32m2023-09-25 19:39:15.128\u001b[0m | \u001b[34m\u001b[1mDEBUG   \u001b[0m | \u001b[36mdata_pipeline.rplan_content_extraction.rplan_content_extractor\u001b[0m:\u001b[36mparse_rplan_directory\u001b[0m:\u001b[36m343\u001b[0m - \u001b[34m\u001b[1mProcessing file ../data/nrw/rplan/raw/text/aachen-2016.txt\u001b[0m\n",
      "\u001b[32m2023-09-25 19:39:15.522\u001b[0m | \u001b[34m\u001b[1mDEBUG   \u001b[0m | \u001b[36mdata_pipeline.rplan_content_extraction.rplan_content_extractor\u001b[0m:\u001b[36mparse_rplan_directory\u001b[0m:\u001b[36m341\u001b[0m - \u001b[34m\u001b[1m../data/nrw/rplan/raw/text/kÔÇØln-2006.txt\u001b[0m\n",
      "\u001b[32m2023-09-25 19:39:15.522\u001b[0m | \u001b[34m\u001b[1mDEBUG   \u001b[0m | \u001b[36mdata_pipeline.rplan_content_extraction.rplan_content_extractor\u001b[0m:\u001b[36mparse_rplan_directory\u001b[0m:\u001b[36m343\u001b[0m - \u001b[34m\u001b[1mProcessing file ../data/nrw/rplan/raw/text/kÔÇØln-2006.txt\u001b[0m\n",
      "\u001b[32m2023-09-25 19:39:15.523\u001b[0m | \u001b[31m\u001b[1mERROR   \u001b[0m | \u001b[36mdata_pipeline.rplan_content_extraction.rplan_content_extractor\u001b[0m:\u001b[36mparse_rplan_directory\u001b[0m:\u001b[36m347\u001b[0m - \u001b[31m\u001b[1mSkipping file ../data/nrw/rplan/raw/text/kÔÇØln-2006.txt due to error Format for file kÔÇØln-2006 not found, maybe it's not in the config file?\u001b[0m\n",
      "\u001b[32m2023-09-25 19:39:15.523\u001b[0m | \u001b[34m\u001b[1mDEBUG   \u001b[0m | \u001b[36mdata_pipeline.rplan_content_extraction.rplan_content_extractor\u001b[0m:\u001b[36mparse_rplan_directory\u001b[0m:\u001b[36m341\u001b[0m - \u001b[34m\u001b[1m../data/nrw/rplan/raw/text/muenster-2014.txt\u001b[0m\n",
      "\u001b[32m2023-09-25 19:39:15.524\u001b[0m | \u001b[34m\u001b[1mDEBUG   \u001b[0m | \u001b[36mdata_pipeline.rplan_content_extraction.rplan_content_extractor\u001b[0m:\u001b[36mparse_rplan_directory\u001b[0m:\u001b[36m343\u001b[0m - \u001b[34m\u001b[1mProcessing file ../data/nrw/rplan/raw/text/muenster-2014.txt\u001b[0m\n",
      "\u001b[32m2023-09-25 19:39:15.811\u001b[0m | \u001b[34m\u001b[1mDEBUG   \u001b[0m | \u001b[36mdata_pipeline.rplan_content_extraction.rplan_content_extractor\u001b[0m:\u001b[36mparse_rplan_directory\u001b[0m:\u001b[36m341\u001b[0m - \u001b[34m\u001b[1m../data/nrw/rplan/raw/text/ruhr-2021.txt\u001b[0m\n",
      "\u001b[32m2023-09-25 19:39:15.811\u001b[0m | \u001b[34m\u001b[1mDEBUG   \u001b[0m | \u001b[36mdata_pipeline.rplan_content_extraction.rplan_content_extractor\u001b[0m:\u001b[36mparse_rplan_directory\u001b[0m:\u001b[36m343\u001b[0m - \u001b[34m\u001b[1mProcessing file ../data/nrw/rplan/raw/text/ruhr-2021.txt\u001b[0m\n",
      "\u001b[32m2023-09-25 19:39:15.855\u001b[0m | \u001b[1mINFO    \u001b[0m | \u001b[36mdata_pipeline.rplan_content_extraction.rplan_content_extractor\u001b[0m:\u001b[36mparse_rplan_directory\u001b[0m:\u001b[36m357\u001b[0m - \u001b[1mParsing done. Saved to ../data/nrw/rplan/features/regional_plan_sections.json\u001b[0m\n"
     ]
    }
   ],
   "source": [
    "extract_text_and_save_to_txt_files(pdf_dir_path=RPLAN_PDF_DIR,\n",
    "                                   txt_dir_path=RPLAN_TXT_DIR)\n",
    "\n",
    "input_df = parse_rplan_directory(txt_dir_path=RPLAN_TXT_DIR,\n",
    "                                 json_output_path=RPLAN_OUTPUT_PATH)\n",
    "\n",
    "input_df = parse_result_df(df=input_df)\n",
    "# save to json\n",
    "input_df.to_json(RPLAN_OUTPUT_PATH)"
   ]
  },
  {
   "cell_type": "markdown",
   "metadata": {
    "collapsed": false
   },
   "source": [
    "## Step 7: Perform an exact keyword search in extracted texts of regional plans"
   ]
  },
  {
   "cell_type": "code",
   "execution_count": 26,
   "metadata": {
    "ExecuteTime": {
     "end_time": "2023-09-25T17:39:21.745836048Z",
     "start_time": "2023-09-25T17:39:19.886336123Z"
    },
    "collapsed": false
   },
   "outputs": [],
   "source": [
    "exact_result,exact_keywords = rplan_exact_keyword_search(input_df=input_df, save_path=RPLAN_KEYWORDS_PATH)"
   ]
  },
  {
   "cell_type": "code",
   "execution_count": 27,
   "metadata": {
    "ExecuteTime": {
     "end_time": "2023-09-25T17:39:22.030058559Z",
     "start_time": "2023-09-25T17:39:21.746892450Z"
    },
    "collapsed": false
   },
   "outputs": [
    {
     "data": {
      "image/png": "[encoded data removed]",
      "text/plain": [
       "<Figure size 1500x500 with 1 Axes>"
      ]
     },
     "metadata": {},
     "output_type": "display_data"
    }
   ],
   "source": [
    "plot_keyword_search_results(result_df=exact_result,\n",
    "                            keyword_columns=exact_keywords,\n",
    "                            title=\"Exact Keyword Search Results\")"
   ]
  },
  {
   "cell_type": "code",
   "execution_count": null,
   "metadata": {},
   "outputs": [],
   "source": [
    "del input_df, exact_result, exact_keywords"
   ]
  },
  {
   "cell_type": "markdown",
   "metadata": {},
   "source": [
    "## Conclusion\n",
    "This notebook provides the code to execute the pipeline which populates the land sealing dataset.\n",
    "Further work is done by 'knowledge_agent.ipynb' which produces data using ChatGPT. Note that this shall require a ChatGPT API key of your own. \n",
    "\n",
    "The 'explorer.ipynb' demonstrates functions which display and explore the complete data set. \n"
   ]
  },
  {
   "cell_type": "code",
   "execution_count": null,
   "metadata": {
    "collapsed": false
   },
   "outputs": [],
   "source": []
  }
 ],
 "metadata": {
  "kernelspec": {
   "display_name": "land-sealing-dssgx",
   "language": "python",
   "name": "python3"
  },
  "language_info": {
   "codemirror_mode": {
    "name": "ipython",
    "version": 3
   },
   "file_extension": ".py",
   "mimetype": "text/x-python",
   "name": "python",
   "nbconvert_exporter": "python",
   "pygments_lexer": "ipython3",
   "version": "3.11.4"
  },
  "orig_nbformat": 4
 },
 "nbformat": 4,
 "nbformat_minor": 2
}
