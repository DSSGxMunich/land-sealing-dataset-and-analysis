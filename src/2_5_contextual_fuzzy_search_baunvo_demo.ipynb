{
 "cells": [
  {
   "cell_type": "markdown",
   "metadata": {},
   "source": [
    "![dssg_banner](assets/dssg_banner.png)"
   ]
  },
  {
   "cell_type": "markdown",
   "metadata": {},
   "source": [
    "## Getting Started\n",
    "\n",
    "### Optional: Set up Google Colab environment\n",
    "\n",
    "If you work in your local IDE and installed the packages and requirements on your own machine, you can skip this section and start from the import section.\n",
    "Otherwise you can follow and execute this notebook in your browser. For this, click on the button below to open this page in the Colab environment.\n",
    "\n",
    "<a href=\"https://colab.research.google.com/github/DSSGxMunich/land-sealing-dataset-and-analysis/blob/main/src/2_5_contextual_fuzzy_keyword_search_baunvo_demo.ipynb\" target=\"_parent\"> <img src=\"https://colab.research.google.com/assets/colab-badge.svg\" alt=\"Open In Google Colab\"/> </a>\n",
    "\n",
    "Once in Colab, run the cell below to install the packages we will use.\n",
    "What's important to properly set up the notebook:\n",
    "\n",
    "1. Warning: This notebook was not authored by Google. Click on 'Run anyway'.\n",
    "2. When the installation commands are done, there might be \"Restart runtime\" button at the end of the output. Please, *click* it. "
   ]
  },
  {
   "cell_type": "code",
   "execution_count": null,
   "metadata": {},
   "outputs": [],
   "source": [
    "# %pip install pandas"
   ]
  },
  {
   "cell_type": "markdown",
   "metadata": {},
   "source": [
    "By running the next cell you are going to create a folder in your Google Drive. All the files for this tutorial will be uploaded to this folder. After the first execution you might receive some warning and notification, please follow these instructions:\n",
    "1. Permit this notebook to access your Google Drive files? *Click* on 'Yes', and select your account.\n",
    "2. Google Drive for desktop wants to access your Google Account. *Click* on 'Allow'.\n",
    "\n",
    "At this point, a folder has been created and you can navigate it through the lefthand panel in Colab, you might also have received an email that informs you about the access on your Google Drive. "
   ]
  },
  {
   "cell_type": "code",
   "execution_count": null,
   "metadata": {},
   "outputs": [],
   "source": [
    "# Create a folder in your Google Drive\n",
    "# from google.colab import drive                                                                          \n",
    "# drive.mount('/content/drive')"
   ]
  },
  {
   "cell_type": "code",
   "execution_count": null,
   "metadata": {},
   "outputs": [],
   "source": [
    "# Don't run this cell if you already cloned the repo \n",
    "# !git clone https://github.com/DSSGxMunich/land-sealing-dataset-and-analysis.git"
   ]
  },
  {
   "cell_type": "code",
   "execution_count": null,
   "metadata": {},
   "outputs": [],
   "source": [
    "# %cd land-sealing-dataset-and-analysis"
   ]
  },
  {
   "cell_type": "markdown",
   "metadata": {},
   "source": [
    "## Imports"
   ]
  },
  {
   "cell_type": "code",
   "execution_count": 1,
   "metadata": {},
   "outputs": [],
   "source": [
    "import pandas as pd\n",
    "\n",
    "from features.textual_features.keyword_search.contextual_fuzzy_search import search_df_for_best_matches\n",
    "\n",
    "pd.set_option('display.max_colwidth', None)\n",
    "pd.set_option('display.max_rows', None)"
   ]
  },
  {
   "cell_type": "markdown",
   "metadata": {},
   "source": [
    "## Prerequisites\n",
    "\n",
    "To run this notebook, you need a file containing the text extracted from building plans, which is to be searched for baunvo keywords (see output of `2_2_pdf_scraper_demo`), or any other input text of your choice. The input file should be saved in an order corresponding to the folder structure you see in the file path below (or adjust the file path)."
   ]
  },
  {
   "cell_type": "markdown",
   "metadata": {},
   "source": [
    "# Contextual fuzzy keyword search\n",
    "\n",
    "**Why contextual?** To get surrounding content rather than keyword only.  \n",
    "**Why fuzzy?** To allow non-exact keyword matching based on a similarity search, e.g. to account for spelling errors or partial extraction from the original PDFs."
   ]
  },
  {
   "cell_type": "markdown",
   "metadata": {},
   "source": [
    "## Prepare data\n",
    "\n",
    "- **Change the folder path** in the code block below to read in the data.\n",
    "- **Specify the relevant column names.** The function that is used in the following expects the input data frame to have (at least) two columns, i.e., one id and one content column. Here, the columns are called `filename` and `content`. If named differently, change the column names in the code below."
   ]
  },
  {
   "cell_type": "code",
   "execution_count": 2,
   "metadata": {},
   "outputs": [],
   "source": [
    "# specify file path\n",
    "INPUT_FILE_PATH = \"../data/nrw/bplan/raw/text/bp_text.csv\"\n",
    "\n",
    "# specify relevant column names\n",
    "ID_COLUMN='filename'\n",
    "TEXT_COLUMN='content'\n",
    "\n",
    "# read in data\n",
    "input_df = pd.read_csv(INPUT_FILE_PATH, names=[ID_COLUMN, TEXT_COLUMN])"
   ]
  },
  {
   "cell_type": "markdown",
   "metadata": {},
   "source": [
    "## Apply fuzzy keyword search to keyword of choice and extract the best matches\n",
    "\n",
    "- Adjust `keyword`\n",
    "- Adjust `threshold`: minimum similarity score\n",
    "- Adjust `context_words`: number of words extracted to contextualise keyword\n",
    "\n",
    "Note: To apply the fuzzy search to multiple keywords at once, `contextual_fuzzy_search_parallelised.py` can be run. Only adjust the file paths and variables in lines 13 to 22. The corresponding dictionary is `keyword_dict_fuzzy` and can easily be adapted if necessary."
   ]
  },
  {
   "cell_type": "code",
   "execution_count": 3,
   "metadata": {},
   "outputs": [],
   "source": [
    "KEYWORD='minimale gebäudehöhe'\n",
    "THRESHOLD=90\n",
    "CONTEXT_WORDS=15"
   ]
  },
  {
   "cell_type": "code",
   "execution_count": 4,
   "metadata": {},
   "outputs": [
    {
     "data": {
      "text/html": [
       "<div>\n",
       "<style scoped>\n",
       "    .dataframe tbody tr th:only-of-type {\n",
       "        vertical-align: middle;\n",
       "    }\n",
       "\n",
       "    .dataframe tbody tr th {\n",
       "        vertical-align: top;\n",
       "    }\n",
       "\n",
       "    .dataframe thead th {\n",
       "        text-align: right;\n",
       "    }\n",
       "</style>\n",
       "<table border=\"1\" class=\"dataframe\">\n",
       "  <thead>\n",
       "    <tr style=\"text-align: right;\">\n",
       "      <th>keyword</th>\n",
       "      <th>minimale gebäudehöhe</th>\n",
       "    </tr>\n",
       "    <tr>\n",
       "      <th>id</th>\n",
       "      <th></th>\n",
       "    </tr>\n",
       "  </thead>\n",
       "  <tbody>\n",
       "    <tr>\n",
       "      <th>2408410_1.pdf</th>\n",
       "      <td>deshalb ist bei der errichtung eines geneigten daches von 6° bis einschließlich 25° dachneigung eine minimale gebäudehöhe von 6,00 metern und eine maximale gebäudehöhe von 8,00 metern einzuhalten. diese festsetzung ermöglicht besonders ;;; dies ist nicht ziel der städtebaulichen entwicklung. daher wird zusätzlich festgesetzt, dass für pultdächer eine minimale gebäudehöhe von 5,00 metern und eine maximale von 7,00 metern gilt. 5 durch die zulässigkeit von</td>\n",
       "    </tr>\n",
       "    <tr>\n",
       "      <th>2408419_1.pdf</th>\n",
       "      <td>zu können. deshalb ist bei der errichtung eines geneigten daches bis einschließlich 25° dachneigung eine minimale gebäudehöhe von 6,00 metern und eine maximale gebäudehöhe von 8,00 metern einzuhalten. diese festsetzung ermöglicht besonders ;;; nicht ziel der städtebaulichen entwicklung. daher wird zusätzlich festgesetzt, dass 6 für einhüftige pultdächer eine minimale gebäudehöhe von 5,00 metern und eine maximale von 7,00 metern gelten. durch v.g. vorgaben, die zulässigkeit</td>\n",
       "    </tr>\n",
       "    <tr>\n",
       "      <th>2408438_1.pdf</th>\n",
       "      <td>bei der errichtung eines geneigten daches mit einer dachneigung von 6° bis einschließlich 25° eine minimale gebäudehöhe von 6,00 metern und eine maximale gebäudehöhe von 8,00 metern einzuhalten. diese festsetzung ermöglicht besonders ;;; nicht ziel der städtebaulichen entwicklung. daher wird zusätz lich festgesetzt, dass für einhüftige pultdächer eine minimale gebäudehöhe von 5,00 metern und eine maximale von 7,00 metern gelten. durch die zulässigkeit von einzel</td>\n",
       "    </tr>\n",
       "    <tr>\n",
       "      <th>2408724_0.pdf</th>\n",
       "      <td>rahmen erhält. zur erreichung dieser zielsetzung wird zusätzlich festgesetzt, dass für einhüftige pult dächer eine minimale gebäudehöhe von 5,00 metern und eine maximale von 7,00 metern gelten. der zur ermittlung der höhe</td>\n",
       "    </tr>\n",
       "    <tr>\n",
       "      <th>2408724_8.pdf</th>\n",
       "      <td>rahmen erhält. zur erreichung dieser zielsetzung wird zusätzlich festgesetzt, dass für einhüftige pult dächer eine minimale gebäudehöhe von 5,00 metern und eine maximale von 7,00 metern gelten. der zur ermittlung der höhe</td>\n",
       "    </tr>\n",
       "    <tr>\n",
       "      <th>2408729_1.pdf</th>\n",
       "      <td>zu können. deshalb ist bei der errichtung eines geneigten daches bis einschließlich 25° dachneigung eine minimale gebäudehöhe von 6,00 metern und eine maximale gebäudehöhe von 8,00 metern einzuhalten. diese festsetzung soll der</td>\n",
       "    </tr>\n",
       "    <tr>\n",
       "      <th>2408758_1.pdf</th>\n",
       "      <td>zu können. deshalb ist bei der errichtung eines geneigten daches bis einschließlich 25° dachneigung eine minimale gebäudehöhe von 6,00 metern und eine maximale gebäudehöhe von 8,00 metern einzuhalten. diese festsetzung ermöglicht besonders</td>\n",
       "    </tr>\n",
       "    <tr>\n",
       "      <th>2408762_1.pdf</th>\n",
       "      <td>ist nicht ziel der städtebaulichen entwicklung. daher wird zusätzlich festgesetzt, dass für einhüftige pultdächer eine minimale gebäudehöhe von 5,00 metern und eine maximale ge bäudehöhe von 7,00 metern gelten. die überbaubare grundstücksfläche</td>\n",
       "    </tr>\n",
       "    <tr>\n",
       "      <th>2408772_1.pdf</th>\n",
       "      <td>zur erreichung dieser zielsetzung wird zusätzlich festgesetzt, dass für einhüftige pultdächer sowie für flachdächer eine minimale gebäudehöhe von 5,00 metern und eine maximale von 7,00 metern gelten. der zur ermittlung der v.g</td>\n",
       "    </tr>\n",
       "  </tbody>\n",
       "</table>\n",
       "</div>"
      ],
      "text/plain": [
       "keyword                                                                                                                                                                                                                                                                                                                                                                                                                                                                                 minimale gebäudehöhe\n",
       "id                                                                                                                                                                                                                                                                                                                                                                                                                                                                                                          \n",
       "2408410_1.pdf                     deshalb ist bei der errichtung eines geneigten daches von 6° bis einschließlich 25° dachneigung eine minimale gebäudehöhe von 6,00 metern und eine maximale gebäudehöhe von 8,00 metern einzuhalten. diese festsetzung ermöglicht besonders ;;; dies ist nicht ziel der städtebaulichen entwicklung. daher wird zusätzlich festgesetzt, dass für pultdächer eine minimale gebäudehöhe von 5,00 metern und eine maximale von 7,00 metern gilt. 5 durch die zulässigkeit von\n",
       "2408419_1.pdf  zu können. deshalb ist bei der errichtung eines geneigten daches bis einschließlich 25° dachneigung eine minimale gebäudehöhe von 6,00 metern und eine maximale gebäudehöhe von 8,00 metern einzuhalten. diese festsetzung ermöglicht besonders ;;; nicht ziel der städtebaulichen entwicklung. daher wird zusätzlich festgesetzt, dass 6 für einhüftige pultdächer eine minimale gebäudehöhe von 5,00 metern und eine maximale von 7,00 metern gelten. durch v.g. vorgaben, die zulässigkeit\n",
       "2408438_1.pdf             bei der errichtung eines geneigten daches mit einer dachneigung von 6° bis einschließlich 25° eine minimale gebäudehöhe von 6,00 metern und eine maximale gebäudehöhe von 8,00 metern einzuhalten. diese festsetzung ermöglicht besonders ;;; nicht ziel der städtebaulichen entwicklung. daher wird zusätz lich festgesetzt, dass für einhüftige pultdächer eine minimale gebäudehöhe von 5,00 metern und eine maximale von 7,00 metern gelten. durch die zulässigkeit von einzel\n",
       "2408724_0.pdf                                                                                                                                                                                                                                                                  rahmen erhält. zur erreichung dieser zielsetzung wird zusätzlich festgesetzt, dass für einhüftige pult dächer eine minimale gebäudehöhe von 5,00 metern und eine maximale von 7,00 metern gelten. der zur ermittlung der höhe\n",
       "2408724_8.pdf                                                                                                                                                                                                                                                                  rahmen erhält. zur erreichung dieser zielsetzung wird zusätzlich festgesetzt, dass für einhüftige pult dächer eine minimale gebäudehöhe von 5,00 metern und eine maximale von 7,00 metern gelten. der zur ermittlung der höhe\n",
       "2408729_1.pdf                                                                                                                                                                                                                                                            zu können. deshalb ist bei der errichtung eines geneigten daches bis einschließlich 25° dachneigung eine minimale gebäudehöhe von 6,00 metern und eine maximale gebäudehöhe von 8,00 metern einzuhalten. diese festsetzung soll der\n",
       "2408758_1.pdf                                                                                                                                                                                                                                                zu können. deshalb ist bei der errichtung eines geneigten daches bis einschließlich 25° dachneigung eine minimale gebäudehöhe von 6,00 metern und eine maximale gebäudehöhe von 8,00 metern einzuhalten. diese festsetzung ermöglicht besonders\n",
       "2408762_1.pdf                                                                                                                                                                                                                                           ist nicht ziel der städtebaulichen entwicklung. daher wird zusätzlich festgesetzt, dass für einhüftige pultdächer eine minimale gebäudehöhe von 5,00 metern und eine maximale ge bäudehöhe von 7,00 metern gelten. die überbaubare grundstücksfläche\n",
       "2408772_1.pdf                                                                                                                                                                                                                                                             zur erreichung dieser zielsetzung wird zusätzlich festgesetzt, dass für einhüftige pultdächer sowie für flachdächer eine minimale gebäudehöhe von 5,00 metern und eine maximale von 7,00 metern gelten. der zur ermittlung der v.g"
      ]
     },
     "execution_count": 4,
     "metadata": {},
     "output_type": "execute_result"
    }
   ],
   "source": [
    "all_matches = search_df_for_best_matches(input_df=input_df,\n",
    "                                         id_column_name=ID_COLUMN,\n",
    "                                         text_column_name=TEXT_COLUMN,\n",
    "                                         keyword=KEYWORD,\n",
    "                                         threshold=THRESHOLD,\n",
    "                                         context_words=CONTEXT_WORDS)\n",
    "\n",
    "all_matches.head(15)"
   ]
  },
  {
   "cell_type": "markdown",
   "metadata": {},
   "source": [
    "# Write results to csv"
   ]
  },
  {
   "cell_type": "code",
   "execution_count": 6,
   "metadata": {},
   "outputs": [
    {
     "name": "stdout",
     "output_type": "stream",
     "text": [
      "The history saving thread hit an unexpected error (OperationalError('database is locked')).History will not be written to the database.\n"
     ]
    }
   ],
   "source": [
    "OUTPUT_FILE_PATH = \"../data/nrw/bplan/features/keywords/fuzzy_search/fuzzy_search_{KEYWORD}.csv\"\n",
    "\n",
    "all_matches.to_csv(OUTPUT_FILE_PATH, header=True)"
   ]
  }
 ],
 "metadata": {
  "kernelspec": {
   "display_name": "landsealing",
   "language": "python",
   "name": "python3"
  },
  "language_info": {
   "codemirror_mode": {
    "name": "ipython",
    "version": 3
   },
   "file_extension": ".py",
   "mimetype": "text/x-python",
   "name": "python",
   "nbconvert_exporter": "python",
   "pygments_lexer": "ipython3",
   "version": "3.11.4"
  },
  "orig_nbformat": 4
 },
 "nbformat": 4,
 "nbformat_minor": 2
}
