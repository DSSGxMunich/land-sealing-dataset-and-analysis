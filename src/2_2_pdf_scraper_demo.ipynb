{
 "cells": [
  {
   "cell_type": "markdown",
   "metadata": {},
   "source": [
    "![dssg_banner](assets/dssg_banner.png)"
   ]
  },
  {
   "cell_type": "markdown",
   "metadata": {},
   "source": [
    "## Getting Started\n",
    "\n",
    "### Optional: Set up Google Colab environment\n",
    "\n",
    "If you work in your local IDE and installed the packages and requirements on your own machine, you can skip this section and start from the import section.\n",
    "Otherwise you can follow and execute this notebook in your browser. For this, click on the button below to open this page in the Colab environment.\n",
    "\n",
    "<a href=\"https://colab.research.google.com/github/DSSGxMunich/land-sealing-dataset-and-analysis/blob/main/src/2_2_pdf_scraper.ipynb\" target=\"_parent\"> <img src=\"https://colab.research.google.com/assets/colab-badge.svg\" alt=\"Open In Google Colab\"/> </a>\n",
    "\n",
    "By running the first cell you are going to create a folder in your Google Drive. All the files for this tutorial will have to be uploaded to this folder. After the first execution you might receive some warning and notification, please follow these instructions:\n",
    "\n",
    "1. Warning: This notebook was not authored by Google. Click on 'Run anyway'.\n",
    "2. Permit this notebook to access your Google Drive files? *Click* on 'Yes', and select your account.\n",
    "3. Google Drive for desktop wants to access your Google Account. *Click* on 'Allow'.\n",
    "\n",
    "At this point, a folder has been created and you can navigate it through the lefthand panel in Colab, you might also have received an email that informs you about the access on your Google Drive. "
   ]
  },
  {
   "cell_type": "code",
   "execution_count": null,
   "metadata": {},
   "outputs": [],
   "source": [
    "# Create a folder in your Google Drive\n",
    "# from google.colab import drive                                                                          \n",
    "# drive.mount('/content/drive')"
   ]
  },
  {
   "cell_type": "code",
   "execution_count": null,
   "metadata": {},
   "outputs": [],
   "source": [
    "# Don't run this cell if you already cloned the repo \n",
    "# !git clone https://github.com/DSSGxMunich/land-sealing-dataset-and-analysis.git"
   ]
  },
  {
   "cell_type": "code",
   "execution_count": null,
   "metadata": {},
   "outputs": [],
   "source": [
    "# %cd land-sealing-dataset-and-analysis"
   ]
  },
  {
   "cell_type": "markdown",
   "metadata": {},
   "source": [
    "## Imports"
   ]
  },
  {
   "cell_type": "code",
   "execution_count": 1,
   "metadata": {
    "ExecuteTime": {
     "end_time": "2023-08-29T14:53:31.657451748Z",
     "start_time": "2023-08-29T14:53:31.110286947Z"
    }
   },
   "outputs": [],
   "source": [
    "from data_pipeline.pdf_scraper.tika_pdf_scraper import pdf_parser_from_folder"
   ]
  },
  {
   "cell_type": "markdown",
   "metadata": {},
   "source": [
    "## Prerequisites\n",
    "\n",
    "This notebook will extract text from PDF documents, i.e., to run this notebook, you need the PDF files of building plans saved in an order corresponding to the folder structure you see in the file path below (or adjust the file path). The previous notebook `2_1_land_parcels_demo` downloads these PDF documents from the NRW geoportal - run the previous notebook if you haven't done so already. Alternatively, you can also use the PDF scraper to extract text from other PDF files of your choice."
   ]
  },
  {
   "cell_type": "markdown",
   "metadata": {},
   "source": [
    "# Illustration of usage of pdf_scraper.py\n",
    "\n",
    "This pdf scraper assumes to-be-scraped documents to be present in a subfolder in the same project (here: `../data/nrw/bplan/raw/pdfs`). Due to storage constraints, the pdfs have however not been uploaded to this Github repository. Make sure to provide files before running the code. While Apache tika (the API used for Optical Character Recognition) technically allows scraping based on URLs too, here, the pdfs were further processed too (e.g., image extraction) and download necessary anyways. Therefore, the pdf scraper expects a folder containing the files (in .pdf or .png format) as input.\n",
    "\n",
    "To use the pdf scraper:\n",
    "- **Install Java** (we originally used version 20.0.2, [download here](https://www.oracle.com/java/technologies/downloads/))\n",
    "- **Adjust the data input and data output in code block 1**: Specify a functioning file path leading to a folder containing pdf/png documents\n",
    "- **Adjust the optional sample_size parameter in code block 2**: Specify the desired sample size or leave empty to consider all."
   ]
  },
  {
   "cell_type": "code",
   "execution_count": 2,
   "metadata": {
    "ExecuteTime": {
     "end_time": "2023-08-29T14:53:31.662985657Z",
     "start_time": "2023-08-29T14:53:31.660812729Z"
    }
   },
   "outputs": [],
   "source": [
    "# code block 1: specify data inputs and outputs\n",
    "INPUT_FOLDER_PATH = \"../data/nrw/bplan/raw/pdfs\"\n",
    "OUTPUT_FILENAME_CSV = \"../data/nrw/bplan/raw/text/bp_text.csv\"\n",
    "OUTPUT_FILENAME_JSON = \"../data/nrw/bplan/raw/text/bp_text.json\""
   ]
  },
  {
   "cell_type": "markdown",
   "metadata": {},
   "source": [
    "## Parse PDFs from folder"
   ]
  },
  {
   "cell_type": "code",
   "execution_count": 3,
   "metadata": {
    "ExecuteTime": {
     "end_time": "2023-08-29T14:53:41.385984734Z",
     "start_time": "2023-08-29T14:53:36.933260644Z"
    }
   },
   "outputs": [
    {
     "name": "stderr",
     "output_type": "stream",
     "text": [
      "2023-09-18 17:03:49.502 | INFO     | data_pipeline.pdf_scraper.tika_pdf_scraper:pdf_parser_from_folder:64 - Parsing file: 2368027_8.pdf\n",
      "2023-09-18 17:03:50,775 [MainThread  ] [WARNI]  Failed to see startup log message; retrying...\n",
      "2023-09-18 17:04:04.482 | INFO     | data_pipeline.pdf_scraper.tika_pdf_scraper:pdf_parser_from_folder:64 - Parsing file: 2368027_6.pdf\n",
      "2023-09-18 17:04:04.867 | INFO     | data_pipeline.pdf_scraper.tika_pdf_scraper:pdf_parser_from_folder:64 - Parsing file: 2220502_14.pdf\n",
      "2023-09-18 17:04:04.957 | INFO     | data_pipeline.pdf_scraper.tika_pdf_scraper:pdf_parser_from_folder:75 - Parsing done.\n"
     ]
    }
   ],
   "source": [
    "# code block 2: apply pdf_parser function to folder containing pdfs\n",
    "parsed_df = pdf_parser_from_folder(folder_path=INPUT_FOLDER_PATH,\n",
    "                                   sample_size=3)"
   ]
  },
  {
   "cell_type": "code",
   "execution_count": 4,
   "metadata": {},
   "outputs": [
    {
     "data": {
      "text/html": [
       "<div>\n",
       "<style scoped>\n",
       "    .dataframe tbody tr th:only-of-type {\n",
       "        vertical-align: middle;\n",
       "    }\n",
       "\n",
       "    .dataframe tbody tr th {\n",
       "        vertical-align: top;\n",
       "    }\n",
       "\n",
       "    .dataframe thead th {\n",
       "        text-align: right;\n",
       "    }\n",
       "</style>\n",
       "<table border=\"1\" class=\"dataframe\">\n",
       "  <thead>\n",
       "    <tr style=\"text-align: right;\">\n",
       "      <th></th>\n",
       "      <th>filename</th>\n",
       "      <th>content</th>\n",
       "      <th>metadata</th>\n",
       "    </tr>\n",
       "  </thead>\n",
       "  <tbody>\n",
       "    <tr>\n",
       "      <th>0</th>\n",
       "      <td>2368027_8.pdf</td>\n",
       "      <td>\\n\\n\\n\\n\\n\\n\\n\\n\\n\\n\\n\\n\\n\\n\\n\\n\\n\\n\\n\\n\\n\\n\\n...</td>\n",
       "      <td>{'pdf:PDFVersion': '1.6', 'xmp:CreatorTool': '...</td>\n",
       "    </tr>\n",
       "    <tr>\n",
       "      <th>1</th>\n",
       "      <td>2368027_6.pdf</td>\n",
       "      <td>\\n\\n\\n\\n\\n\\n\\n\\n\\n\\n\\n\\n\\n\\n\\n\\n\\n\\n\\n\\n\\n\\n\\n...</td>\n",
       "      <td>{'pdf:PDFVersion': '1.6', 'xmp:CreatorTool': '...</td>\n",
       "    </tr>\n",
       "    <tr>\n",
       "      <th>2</th>\n",
       "      <td>2220502_14.pdf</td>\n",
       "      <td>\\n\\n\\n\\n\\n\\n\\n\\n\\n\\n\\n\\n\\n\\n\\n\\n\\n\\n\\n\\n\\n\\n\\n...</td>\n",
       "      <td>{'pdf:unmappedUnicodeCharsPerPage': ['0', '0']...</td>\n",
       "    </tr>\n",
       "  </tbody>\n",
       "</table>\n",
       "</div>"
      ],
      "text/plain": [
       "         filename                                            content  \\\n",
       "0   2368027_8.pdf  \\n\\n\\n\\n\\n\\n\\n\\n\\n\\n\\n\\n\\n\\n\\n\\n\\n\\n\\n\\n\\n\\n\\n...   \n",
       "1   2368027_6.pdf  \\n\\n\\n\\n\\n\\n\\n\\n\\n\\n\\n\\n\\n\\n\\n\\n\\n\\n\\n\\n\\n\\n\\n...   \n",
       "2  2220502_14.pdf  \\n\\n\\n\\n\\n\\n\\n\\n\\n\\n\\n\\n\\n\\n\\n\\n\\n\\n\\n\\n\\n\\n\\n...   \n",
       "\n",
       "                                            metadata  \n",
       "0  {'pdf:PDFVersion': '1.6', 'xmp:CreatorTool': '...  \n",
       "1  {'pdf:PDFVersion': '1.6', 'xmp:CreatorTool': '...  \n",
       "2  {'pdf:unmappedUnicodeCharsPerPage': ['0', '0']...  "
      ]
     },
     "execution_count": 4,
     "metadata": {},
     "output_type": "execute_result"
    }
   ],
   "source": [
    "# code block 3: check results\n",
    "parsed_df.head()"
   ]
  },
  {
   "cell_type": "markdown",
   "metadata": {},
   "source": [
    "## Write results to CSV and json"
   ]
  },
  {
   "cell_type": "code",
   "execution_count": 5,
   "metadata": {},
   "outputs": [],
   "source": [
    "# code block 4:\n",
    "# write results to csv\n",
    "parsed_df.to_csv(OUTPUT_FILENAME_CSV, header=True, index=False)\n",
    "\n",
    "# write results to json\n",
    "result_json = parsed_df.to_json(orient='records')\n",
    "\n",
    "with open(OUTPUT_FILENAME_JSON, 'w') as outputfile:\n",
    "    outputfile.write(result_json)"
   ]
  }
 ],
 "metadata": {
  "kernelspec": {
   "display_name": "landsealing",
   "language": "python",
   "name": "python3"
  },
  "language_info": {
   "codemirror_mode": {
    "name": "ipython",
    "version": 3
   },
   "file_extension": ".py",
   "mimetype": "text/x-python",
   "name": "python",
   "nbconvert_exporter": "python",
   "pygments_lexer": "ipython3",
   "version": "3.11.4"
  },
  "orig_nbformat": 4
 },
 "nbformat": 4,
 "nbformat_minor": 2
}
