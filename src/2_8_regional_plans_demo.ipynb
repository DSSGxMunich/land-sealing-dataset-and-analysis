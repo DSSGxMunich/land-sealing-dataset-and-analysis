{
 "cells": [
  {
   "cell_type": "markdown",
   "metadata": {},
   "source": [
    "![dssg_banner](assets/dssg_banner.png)"
   ]
  },
  {
   "cell_type": "code",
   "execution_count": null,
   "metadata": {
    "collapsed": false
   },
   "outputs": [],
   "source": [
    "# Import the data generation functions\n",
    "from data_pipeline.rplan_content_extraction.rplan_utils import extract_text_and_save_to_txt_files\n",
    "from data_pipeline.rplan_content_extraction.rplan_content_extractor import parse_rplan_directory\n",
    "from data_pipeline.rplan_content_extraction.rplan_utils import parse_result_df\n",
    "\n",
    "# Import the keyword search functions\n",
    "from data_pipeline.rplan_content_extraction.rplan_keyword_search import rplan_exact_keyword_search\n",
    "# Import the visualization function\n",
    "from visualizations.rplan_visualization import plot_keyword_search_results"
   ]
  },
  {
   "cell_type": "markdown",
   "metadata": {
    "collapsed": false
   },
   "source": [
    "# Regional plans\n",
    "This notebook shows how to extract content from regional plans, i.e. parse the text from the pdfs and divide them into chapters / sections."
   ]
  },
  {
   "cell_type": "code",
   "execution_count": null,
   "metadata": {
    "collapsed": false
   },
   "outputs": [],
   "source": [
    "# Set the paths to the PDF and TXT directories\n",
    "RPLAN_PDF_DIR = \"../data/nrw/rplan/raw/pdfs\"\n",
    "RPLAN_TXT_DIR = \"../data/nrw/rplan/raw/text\"\n",
    "RPLAN_OUTPUT_PATH = \"../data/nrw/rplan/features/rplan_content.json\""
   ]
  },
  {
   "cell_type": "markdown",
   "metadata": {
    "collapsed": false
   },
   "source": [
    "## Step 1: Generate content"
   ]
  },
  {
   "cell_type": "code",
   "execution_count": null,
   "metadata": {
    "collapsed": false
   },
   "outputs": [],
   "source": [
    "extract_text_and_save_to_txt_files(pdf_dir_path=RPLAN_PDF_DIR,\n",
    "                                   txt_dir_path=RPLAN_TXT_DIR)\n",
    "\n",
    "input_df = parse_rplan_directory(txt_dir_path=RPLAN_TXT_DIR, \n",
    "                                 json_output_path=RPLAN_OUTPUT_PATH)\n",
    "\n",
    "input_df = parse_result_df(df=input_df)\n",
    "\n",
    "# save df as JSON\n",
    "input_df.to_json(RPLAN_OUTPUT_PATH)"
   ]
  },
  {
   "cell_type": "markdown",
   "metadata": {
    "collapsed": false
   },
   "source": [
    "## Step 2: Exact keyword search\n",
    "\n",
    "Now we perform an exact keyword search on the data and plot the results."
   ]
  },
  {
   "cell_type": "code",
   "execution_count": null,
   "metadata": {
    "collapsed": false
   },
   "outputs": [],
   "source": [
    "exact_result, exact_keywords = rplan_exact_keyword_search(input_df=input_df)\n",
    "plot_keyword_search_results(exact_result, keyword_columns=exact_keywords,\n",
    "                            title=\"Exact Keyword Search Results\")"
   ]
  }
 ],
 "metadata": {
  "kernelspec": {
   "display_name": "Python 3",
   "language": "python",
   "name": "python3"
  },
  "language_info": {
   "codemirror_mode": {
    "name": "ipython",
    "version": 2
   },
   "file_extension": ".py",
   "mimetype": "text/x-python",
   "name": "python",
   "nbconvert_exporter": "python",
   "pygments_lexer": "ipython2",
   "version": "2.7.6"
  }
 },
 "nbformat": 4,
 "nbformat_minor": 0
}
