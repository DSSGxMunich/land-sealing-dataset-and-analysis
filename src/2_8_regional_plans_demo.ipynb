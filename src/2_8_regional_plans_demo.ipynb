{
 "cells": [
  {
   "cell_type": "markdown",
   "metadata": {},
   "source": [
    "![dssg_banner](assets/dssg_banner.png)"
   ]
  },
  {
   "cell_type": "markdown",
   "metadata": {},
   "source": [
    "## Getting Started\n",
    "\n",
    "### Optional: Set up Google Colab environment\n",
    "\n",
    "If you work in your local IDE and installed the packages and requirements on your own machine, you can skip this section and start from the import section.\n",
    "Otherwise you can follow and execute this notebook in your browser. For this, click on the button below to open this page in the Colab environment.\n",
    "\n",
    "<a href=\"https://colab.research.google.com/github/DSSGxMunich/land-sealing-dataset-and-analysis/blob/main/src/2_8_regional_plans_demo.ipynb\" target=\"_parent\"> <img src=\"https://colab.research.google.com/assets/colab-badge.svg\" alt=\"Open In Google Colab\"/> </a>\n",
    "\n",
    "By running the first cell you are going to create a folder in your Google Drive. All the files for this tutorial will have to be uploaded to this folder. After the first execution you might receive some warning and notification, please follow these instructions:\n",
    "\n",
    "1. Warning: This notebook was not authored by Google. Click on 'Run anyway'.\n",
    "2. Permit this notebook to access your Google Drive files? *Click* on 'Yes', and select your account.\n",
    "3. Google Drive for desktop wants to access your Google Account. *Click* on 'Allow'.\n",
    "\n",
    "At this point, a folder has been created and you can navigate it through the lefthand panel in Colab, you might also have received an email that informs you about the access on your Google Drive. "
   ]
  },
  {
   "cell_type": "code",
   "execution_count": null,
   "metadata": {},
   "outputs": [],
   "source": [
    "# Create a folder in your Google Drive\n",
    "# from google.colab import drive                                                                          \n",
    "# drive.mount('/content/drive')"
   ]
  },
  {
   "cell_type": "code",
   "execution_count": null,
   "metadata": {},
   "outputs": [],
   "source": [
    "# Don't run this cell if you already cloned the repo \n",
    "# !git clone https://github.com/DSSGxMunich/land-sealing-dataset-and-analysis.git"
   ]
  },
  {
   "cell_type": "code",
   "execution_count": null,
   "metadata": {},
   "outputs": [],
   "source": [
    "# %cd land-sealing-dataset-and-analysis"
   ]
  },
  {
   "cell_type": "markdown",
   "metadata": {},
   "source": [
    "## Imports"
   ]
  },
  {
   "cell_type": "code",
   "execution_count": null,
   "metadata": {
    "collapsed": false
   },
   "outputs": [],
   "source": [
    "# Import the data generation functions\n",
    "from data_pipeline.rplan_content_extraction.rplan_utils import extract_text_and_save_to_txt_files\n",
    "from data_pipeline.rplan_content_extraction.rplan_content_extractor import parse_rplan_directory\n",
    "from data_pipeline.rplan_content_extraction.rplan_utils import parse_result_df\n",
    "\n",
    "# Import the keyword search functions\n",
    "from data_pipeline.rplan_content_extraction.rplan_keyword_search import rplan_exact_keyword_search\n",
    "# Import the visualization function\n",
    "from visualizations.rplan_visualization import plot_keyword_search_results"
   ]
  },
  {
   "cell_type": "markdown",
   "metadata": {},
   "source": [
    "## Prerequisites\n",
    "\n",
    "To run this notebook, you need PDF files of regional plans saved in an order corresponding to the folder structure you see in the file path below (or adjust the file path)."
   ]
  },
  {
   "cell_type": "markdown",
   "metadata": {
    "collapsed": false
   },
   "source": [
    "# Regional plans\n",
    "This notebook shows how to extract content from regional plans, i.e. parse the text from the pdfs and divide them into chapters / sections."
   ]
  },
  {
   "cell_type": "code",
   "execution_count": null,
   "metadata": {
    "collapsed": false
   },
   "outputs": [],
   "source": [
    "# Set the paths to the PDF and TXT directories\n",
    "RPLAN_PDF_DIR = \"../data/nrw/rplan/raw/pdfs\"\n",
    "RPLAN_TXT_DIR = \"../data/nrw/rplan/raw/text\"\n",
    "RPLAN_OUTPUT_PATH = \"../data/nrw/rplan/features/rplan_content.json\""
   ]
  },
  {
   "cell_type": "markdown",
   "metadata": {
    "collapsed": false
   },
   "source": [
    "## Step 1: Generate content"
   ]
  },
  {
   "cell_type": "code",
   "execution_count": null,
   "metadata": {
    "collapsed": false
   },
   "outputs": [],
   "source": [
    "extract_text_and_save_to_txt_files(pdf_dir_path=RPLAN_PDF_DIR,\n",
    "                                   txt_dir_path=RPLAN_TXT_DIR)\n",
    "\n",
    "input_df = parse_rplan_directory(txt_dir_path=RPLAN_TXT_DIR, \n",
    "                                 json_output_path=RPLAN_OUTPUT_PATH)\n",
    "\n",
    "input_df = parse_result_df(df=input_df)\n",
    "\n",
    "# save df as JSON\n",
    "input_df.to_json(RPLAN_OUTPUT_PATH)"
   ]
  },
  {
   "cell_type": "markdown",
   "metadata": {
    "collapsed": false
   },
   "source": [
    "## Step 2: Exact keyword search\n",
    "\n",
    "Now we perform an exact keyword search on the data and plot the results."
   ]
  },
  {
   "cell_type": "code",
   "execution_count": null,
   "metadata": {
    "collapsed": false
   },
   "outputs": [],
   "source": [
    "exact_result, exact_keywords = rplan_exact_keyword_search(input_df=input_df)\n",
    "plot_keyword_search_results(exact_result, keyword_columns=exact_keywords,\n",
    "                            title=\"Exact Keyword Search Results\")"
   ]
  }
 ],
 "metadata": {
  "kernelspec": {
   "display_name": "Python 3",
   "language": "python",
   "name": "python3"
  },
  "language_info": {
   "codemirror_mode": {
    "name": "ipython",
    "version": 2
   },
   "file_extension": ".py",
   "mimetype": "text/x-python",
   "name": "python",
   "nbconvert_exporter": "python",
   "pygments_lexer": "ipython2",
   "version": "2.7.6"
  }
 },
 "nbformat": 4,
 "nbformat_minor": 0
}
