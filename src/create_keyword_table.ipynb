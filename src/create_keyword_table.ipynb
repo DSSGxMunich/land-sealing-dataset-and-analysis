{
 "cells": [
  {
   "cell_type": "code",
   "execution_count": 2,
   "metadata": {},
   "outputs": [],
   "source": [
    "import os\n",
    "import pandas as pd\n",
    "\n",
    "from features.textual_features.keyword_search.contextual_fuzzy_search import search_df_for_best_matches\n",
    "\n",
    "pd.set_option('display.max_colwidth', None)\n",
    "pd.set_option('display.max_rows', None)"
   ]
  },
  {
   "cell_type": "markdown",
   "metadata": {},
   "source": [
    "# Create keyword table\n",
    "\n",
    "#### What keyword are you interested in? Choose your keyword here:"
   ]
  },
  {
   "cell_type": "code",
   "execution_count": 3,
   "metadata": {},
   "outputs": [],
   "source": [
    "keyword = 'lichtemissionen'"
   ]
  },
  {
   "cell_type": "markdown",
   "metadata": {},
   "source": [
    "#### All other variables may remain the same, but you can also change them as you wish."
   ]
  },
  {
   "cell_type": "code",
   "execution_count": 4,
   "metadata": {},
   "outputs": [],
   "source": [
    "id_column_name = 'filename'\n",
    "text_column_name = 'content'\n",
    "\n",
    "input_df = pd.read_csv(os.path.join(\"..\", \"data\", \"nrw\", \"text\", \"nrw_document_texts.csv\"), header=0)\n",
    "\n",
    "threshold = 99\n",
    "context_words = 10"
   ]
  },
  {
   "cell_type": "markdown",
   "metadata": {},
   "source": [
    "#### Some explanation:\n",
    "\n",
    "- `id_column_name`: 'filename'\n",
    "- `text_column_name`: 'content'\n",
    "\n",
    "These two variables refer to columns in the `input_df`, which is set to 'nrw_document_texts.csv'. If you change the input data, make sure to update the column names too.\n",
    "\n",
    "- `threshold`: 99\n",
    "\n",
    "The search finds keyword matches according to a similarity threshold. If set to 99, only exact matches are found. Choose a lower threshold if you want to find 'fuzzy' matches too, e.g. to account for declination of words, spelling errors or partial extraction from the original PDFs.\n",
    "\n",
    "- `context_words`: 10\n",
    "\n",
    "Setting this parameter allows to get the surrounding content and not only the keyword itself. The specified number of words is extracted before and after the keyword to place it in its context."
   ]
  },
  {
   "cell_type": "markdown",
   "metadata": {},
   "source": [
    "#### Here you can perform the search (no changes needed, just run this cell):"
   ]
  },
  {
   "cell_type": "code",
   "execution_count": 5,
   "metadata": {},
   "outputs": [],
   "source": [
    "all_matches = search_df_for_best_matches(input_df=input_df,\n",
    "                                         id_column_name=id_column_name,\n",
    "                                         text_column_name=text_column_name,\n",
    "                                         keyword=keyword,\n",
    "                                         threshold=threshold,\n",
    "                                         context_words=context_words)"
   ]
  },
  {
   "cell_type": "markdown",
   "metadata": {},
   "source": [
    "#### Check out the results"
   ]
  },
  {
   "cell_type": "code",
   "execution_count": 6,
   "metadata": {},
   "outputs": [
    {
     "data": {
      "text/html": [
       "<div>\n",
       "<style scoped>\n",
       "    .dataframe tbody tr th:only-of-type {\n",
       "        vertical-align: middle;\n",
       "    }\n",
       "\n",
       "    .dataframe tbody tr th {\n",
       "        vertical-align: top;\n",
       "    }\n",
       "\n",
       "    .dataframe thead th {\n",
       "        text-align: right;\n",
       "    }\n",
       "</style>\n",
       "<table border=\"1\" class=\"dataframe\">\n",
       "  <thead>\n",
       "    <tr style=\"text-align: right;\">\n",
       "      <th>keyword</th>\n",
       "      <th>lichtemissionen</th>\n",
       "    </tr>\n",
       "    <tr>\n",
       "      <th>id</th>\n",
       "      <th></th>\n",
       "    </tr>\n",
       "  </thead>\n",
       "  <tbody>\n",
       "    <tr>\n",
       "      <th>116995_4.pdf</th>\n",
       "      <td>fledermaus vorkommen und brutstätten von vögeln zu untersuchen. lärm und lichtemissionen lärm und lichtemissionen sind so weit wie möglich zu begrenzen. ;;; brutstätten von vögeln zu untersuchen. lärm und lichtemissionen lärm und lichtemissionen sind so weit wie möglich zu begrenzen. die beleuchtung mit</td>\n",
       "    </tr>\n",
       "    <tr>\n",
       "      <th>116995_8.pdf</th>\n",
       "      <td>fledermaus vorkommen und brutstätten von vögeln zu untersuchen. lärm und lichtemissionen sind so weit wie möglich zu begrenzen. die beleuchtung mit</td>\n",
       "    </tr>\n",
       "    <tr>\n",
       "      <th>2240212_1.pdf</th>\n",
       "      <td>der beleuchtung sind insekten und fledermausfreundliche leuchtmittel zu bevorzugen und lichtemissionen (insbesondere streulicht) sind durch fachgerechte planung zu reduzieren. ein anstrahlen</td>\n",
       "    </tr>\n",
       "    <tr>\n",
       "      <th>2368027_2.pdf</th>\n",
       "      <td>stunden pro jahr und 30 minuten pro tag zu begrenzen. lichtemissionen zur vermeidung von lichtreflexionen sind die rotorblätter mit einem matten</td>\n",
       "    </tr>\n",
       "    <tr>\n",
       "      <th>2368027_3.pdf</th>\n",
       "      <td>bebauungsplan nr. 9 vdh projektmanagement gmbh erkelenz stand:juli 2013 60 lichtemissionen zur vermeidung von lichtreflexionen sind die rotorblätter mit einem matten</td>\n",
       "    </tr>\n",
       "    <tr>\n",
       "      <th>2368044_1.pdf</th>\n",
       "      <td>tatsächliche beschattungsdauer gemäß den vom lai empfohlenen beurteilungskriterien zu begrenzen. lichtemissionen zur vermeidung von lichtreflexionen sind die rotorblätter mit einem matten</td>\n",
       "    </tr>\n",
       "    <tr>\n",
       "      <th>2368056_5.pdf</th>\n",
       "      <td>stunden pro jahr und 30 minuten pro tag zu begrenzen. lichtemissionen zur vermeidung von lichtreflexionen sind die rotorblätter mit einem matten</td>\n",
       "    </tr>\n",
       "    <tr>\n",
       "      <th>2369290_4.pdf</th>\n",
       "      <td>änderung der bestehenden lichtverhältnisse auszugehen. eine erhebliche beeinträchtigung durch mögliche lichtemissionen (aus dem gebiet heraus) ist allerdings bei ent sprechender ausrichtung</td>\n",
       "    </tr>\n",
       "    <tr>\n",
       "      <th>2369334_2.pdf</th>\n",
       "      <td>die erschütterungen sind bauzeitenbedingt und damit temporär. 2.cc 4 licht lichtemissionen sind durch eine beleuchtung der straßen und stellplätze bereits vorhanden</td>\n",
       "    </tr>\n",
       "    <tr>\n",
       "      <th>2369376_6.pdf</th>\n",
       "      <td>versiegelt und zur sicherung des betriebsablaufes bei bedarf ausgeleuchtet. die lichtemissionen werden sich im verhältnis zu den bestehenden nicht wesentlich erhöhen. ;;; der lebensräume durch verkehrswege emissionen des transport und straßenverkehrs bestehende lichtemissionen im bereich des bestehenden gewerbegebietes 1.2.1.2 wirkfaktoren des vorhabens folgende ;;; der bauzeit � kollisionseffekte durch verkehrsbewegungen sind zu vernachlässigen die lichtemissionen werden sich im verhältnis zu den bestehenden dauerhaft nicht wesentlich</td>\n",
       "    </tr>\n",
       "    <tr>\n",
       "      <th>2369623_1.pdf</th>\n",
       "      <td>anzahl der lichtpunkte etc. ist zu achten, so dass zukünftige lichtemissionen nur unsensible bereiche bestrahlen und die obere baumkronenhälfte als dunkelraum</td>\n",
       "    </tr>\n",
       "    <tr>\n",
       "      <th>2369671_3.pdf</th>\n",
       "      <td>/ 59 200) ist zu verständigen. 5. 6. hinweis zu lichtemissionen auf privaten grundstücken: zur reduzierung von belastungen des umfelds (insbesondere</td>\n",
       "    </tr>\n",
       "    <tr>\n",
       "      <th>2369672_1.pdf</th>\n",
       "      <td>/ 59 200) ist zu verständigen. 5. 6. hinweis zu lichtemissionen auf privaten grundstücken: zur reduzierung von belastungen des umfelds (insbesondere</td>\n",
       "    </tr>\n",
       "    <tr>\n",
       "      <th>2369687_0.pdf</th>\n",
       "      <td>sie müssen regelungsbestandteil des durchführungsvertrages werden. 4. sonstige festsetzungen 4.1 lichtemissionen außerhalb der zulässigen gebäude dürfen auf dem baugrundstück nur umweltfreundliche</td>\n",
       "    </tr>\n",
       "    <tr>\n",
       "      <th>2370690_14.pdf</th>\n",
       "      <td>gestört. bei einer umsetzung der planung ist eine zunahme der lichtemissionen durch gebäude und weg beleuchtung möglich. um potenzielle beeinträchtigungen gering</td>\n",
       "    </tr>\n",
       "  </tbody>\n",
       "</table>\n",
       "</div>"
      ],
      "text/plain": [
       "keyword                                                                                                                                                                                                                                                                                                                                                                                                                                                                                                                                                       lichtemissionen\n",
       "id                                                                                                                                                                                                                                                                                                                                                                                                                                                                                                                                                                           \n",
       "116995_4.pdf                                                                                                                                                                                                                                                 fledermaus vorkommen und brutstätten von vögeln zu untersuchen. lärm und lichtemissionen lärm und lichtemissionen sind so weit wie möglich zu begrenzen. ;;; brutstätten von vögeln zu untersuchen. lärm und lichtemissionen lärm und lichtemissionen sind so weit wie möglich zu begrenzen. die beleuchtung mit\n",
       "116995_8.pdf                                                                                                                                                                                                                                                                                                                                                                                                              fledermaus vorkommen und brutstätten von vögeln zu untersuchen. lärm und lichtemissionen sind so weit wie möglich zu begrenzen. die beleuchtung mit\n",
       "2240212_1.pdf                                                                                                                                                                                                                                                                                                                                                                  der beleuchtung sind insekten und fledermausfreundliche leuchtmittel zu bevorzugen und lichtemissionen (insbesondere streulicht) sind durch fachgerechte planung zu reduzieren. ein anstrahlen\n",
       "2368027_2.pdf                                                                                                                                                                                                                                                                                                                                                                                                                stunden pro jahr und 30 minuten pro tag zu begrenzen. lichtemissionen zur vermeidung von lichtreflexionen sind die rotorblätter mit einem matten\n",
       "2368027_3.pdf                                                                                                                                                                                                                                                                                                                                                                                           bebauungsplan nr. 9 vdh projektmanagement gmbh erkelenz stand:juli 2013 60 lichtemissionen zur vermeidung von lichtreflexionen sind die rotorblätter mit einem matten\n",
       "2368044_1.pdf                                                                                                                                                                                                                                                                                                                                                                     tatsächliche beschattungsdauer gemäß den vom lai empfohlenen beurteilungskriterien zu begrenzen. lichtemissionen zur vermeidung von lichtreflexionen sind die rotorblätter mit einem matten\n",
       "2368056_5.pdf                                                                                                                                                                                                                                                                                                                                                                                                                stunden pro jahr und 30 minuten pro tag zu begrenzen. lichtemissionen zur vermeidung von lichtreflexionen sind die rotorblätter mit einem matten\n",
       "2369290_4.pdf                                                                                                                                                                                                                                                                                                                                                                   änderung der bestehenden lichtverhältnisse auszugehen. eine erhebliche beeinträchtigung durch mögliche lichtemissionen (aus dem gebiet heraus) ist allerdings bei ent sprechender ausrichtung\n",
       "2369334_2.pdf                                                                                                                                                                                                                                                                                                                                                                                            die erschütterungen sind bauzeitenbedingt und damit temporär. 2.cc 4 licht lichtemissionen sind durch eine beleuchtung der straßen und stellplätze bereits vorhanden\n",
       "2369376_6.pdf   versiegelt und zur sicherung des betriebsablaufes bei bedarf ausgeleuchtet. die lichtemissionen werden sich im verhältnis zu den bestehenden nicht wesentlich erhöhen. ;;; der lebensräume durch verkehrswege emissionen des transport und straßenverkehrs bestehende lichtemissionen im bereich des bestehenden gewerbegebietes 1.2.1.2 wirkfaktoren des vorhabens folgende ;;; der bauzeit � kollisionseffekte durch verkehrsbewegungen sind zu vernachlässigen die lichtemissionen werden sich im verhältnis zu den bestehenden dauerhaft nicht wesentlich\n",
       "2369623_1.pdf                                                                                                                                                                                                                                                                                                                                                                                                  anzahl der lichtpunkte etc. ist zu achten, so dass zukünftige lichtemissionen nur unsensible bereiche bestrahlen und die obere baumkronenhälfte als dunkelraum\n",
       "2369671_3.pdf                                                                                                                                                                                                                                                                                                                                                                                                            / 59 200) ist zu verständigen. 5. 6. hinweis zu lichtemissionen auf privaten grundstücken: zur reduzierung von belastungen des umfelds (insbesondere\n",
       "2369672_1.pdf                                                                                                                                                                                                                                                                                                                                                                                                            / 59 200) ist zu verständigen. 5. 6. hinweis zu lichtemissionen auf privaten grundstücken: zur reduzierung von belastungen des umfelds (insbesondere\n",
       "2369687_0.pdf                                                                                                                                                                                                                                                                                                                                                            sie müssen regelungsbestandteil des durchführungsvertrages werden. 4. sonstige festsetzungen 4.1 lichtemissionen außerhalb der zulässigen gebäude dürfen auf dem baugrundstück nur umweltfreundliche\n",
       "2370690_14.pdf                                                                                                                                                                                                                                                                                                                                                                                              gestört. bei einer umsetzung der planung ist eine zunahme der lichtemissionen durch gebäude und weg beleuchtung möglich. um potenzielle beeinträchtigungen gering"
      ]
     },
     "execution_count": 6,
     "metadata": {},
     "output_type": "execute_result"
    }
   ],
   "source": [
    "all_matches.head(15)"
   ]
  },
  {
   "cell_type": "markdown",
   "metadata": {},
   "source": [
    "#### Save to other keywords"
   ]
  },
  {
   "cell_type": "code",
   "execution_count": 15,
   "metadata": {},
   "outputs": [],
   "source": [
    "OUTPUT_FILE_PATH = os.path.join(\"..\", \"data\", \"nrw\", \"features\", \"fuzzy_search\", \"keyword_\")\n",
    "\n",
    "all_matches.to_csv(os.path.join(OUTPUT_FILE_PATH + keyword + \".csv\"), header=True)"
   ]
  }
 ],
 "metadata": {
  "kernelspec": {
   "display_name": "landsealing",
   "language": "python",
   "name": "python3"
  },
  "language_info": {
   "codemirror_mode": {
    "name": "ipython",
    "version": 3
   },
   "file_extension": ".py",
   "mimetype": "text/x-python",
   "name": "python",
   "nbconvert_exporter": "python",
   "pygments_lexer": "ipython3",
   "version": "3.11.4"
  },
  "orig_nbformat": 4
 },
 "nbformat": 4,
 "nbformat_minor": 2
}
