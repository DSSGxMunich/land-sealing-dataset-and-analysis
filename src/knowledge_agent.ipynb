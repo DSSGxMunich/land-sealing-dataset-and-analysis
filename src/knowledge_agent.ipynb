{
 "cells": [
  {
   "cell_type": "code",
   "execution_count": 1,
   "metadata": {},
   "outputs": [],
   "source": [
    "import chardet\n",
    "import openai  # dependency problem: python -m pip install charset-normalizer==2.1.0\n",
    "import os\n",
    "import pandas as pd\n",
    "import numpy as np\n",
    "\n",
    "from features.textual_features.knowledge_extraction_agent.agentic_knowledge_extractor import extract_knowledge_from_df\n",
    "from dotenv import load_dotenv\n",
    "\n",
    "pd.set_option('display.max_colwidth', None)\n",
    "pd.set_option('display.max_rows', None)"
   ]
  },
  {
   "cell_type": "markdown",
   "metadata": {},
   "source": [
    "# Agentic knowledge extractor\n",
    "\n",
    "This notebook uses a Large Language Model (LLM) as an agent in order to extract knowledge from text input. The text input are the results from the fuzzy search, which returns the keyword found embedded in its context (words before and after the keyword). In fact, we are not interested in the keyword itself, but in its actual value. For example, the keyword may be \"Firsthöhe\" (= ridge height), so we'd like to find out the actual height. "
   ]
  },
  {
   "cell_type": "markdown",
   "metadata": {},
   "source": [
    "## Get API key\n",
    "\n",
    "To be able to use the GPT API, add a file to the project root directory titled `.env` and add your API key to it: `OPENAI_API_KEY=[KEY]`"
   ]
  },
  {
   "cell_type": "code",
   "execution_count": 2,
   "metadata": {},
   "outputs": [],
   "source": [
    "load_dotenv()\n",
    "openai.api_key=os.getenv('OPENAI_API_KEY')"
   ]
  },
  {
   "cell_type": "markdown",
   "metadata": {},
   "source": [
    "## Set variables"
   ]
  },
  {
   "cell_type": "code",
   "execution_count": 5,
   "metadata": {},
   "outputs": [],
   "source": [
    "INPUT_FOLDER_PATH = os.path.join(\"..\", \"data\", \"nrw\", \"features\", \"fuzzy_search\", \"traufhöhe_80.csv\")\n",
    "\n",
    "ID_COLUMN='filename'\n",
    "TEXT_COLUMN='content'"
   ]
  },
  {
   "cell_type": "code",
   "execution_count": 6,
   "metadata": {},
   "outputs": [],
   "source": [
    "with open(INPUT_FOLDER_PATH, 'rb') as f:\n",
    "    enc = chardet.detect(f.read())\n",
    "\n",
    "input_df = pd.read_csv(INPUT_FOLDER_PATH,\n",
    "                       names=[ID_COLUMN, TEXT_COLUMN],\n",
    "                       encoding = enc['encoding'], header=None)[10:20]"
   ]
  },
  {
   "cell_type": "markdown",
   "metadata": {},
   "source": [
    "## Specify keyword dictionary\n",
    "\n",
    "Change the keyword _values_ (on the right hand side), if necessary."
   ]
  },
  {
   "cell_type": "code",
   "execution_count": null,
   "metadata": {},
   "outputs": [],
   "source": [
    "keyword_dict = {\n",
    "    'keyword':          'traufhöhe',\n",
    "    'keyword_short':    'th',\n",
    "    'template_name':    'features/textual_features/knowledge_extraction_agent/prompt_templates/knowledge_extraction_th.template',\n",
    "    'filename':         'traufhöhe.csv'\n",
    "    }"
   ]
  },
  {
   "cell_type": "code",
   "execution_count": null,
   "metadata": {},
   "outputs": [
    {
     "name": "stderr",
     "output_type": "stream",
     "text": [
      "2023-09-14 14:21:38.812 | INFO     | features.textual_features.knowledge_extraction_agent.agentic_knowledge_extractor:extract_knowledge_from_df:146 - Relevant keyword(s): traufhöhe\n",
      "2023-09-14 14:21:38.813 | INFO     | features.textual_features.knowledge_extraction_agent.agentic_knowledge_extractor:extract_knowledge_from_df:147 - Extracting relevant info from text snippets via LLM agent.\n",
      "2023-09-14 14:21:50.334 | INFO     | features.textual_features.knowledge_extraction_agent.agentic_knowledge_extractor:extract_knowledge_from_df:165 - Info extracted. Extracting numerical value from info.\n",
      "2023-09-14 14:21:50.338 | INFO     | features.textual_features.knowledge_extraction_agent.agentic_knowledge_extractor:extract_knowledge_from_df:171 - Numerical values extracted. Validating their occurrence in input text.\n",
      "2023-09-14 14:21:50.342 | INFO     | features.textual_features.knowledge_extraction_agent.agentic_knowledge_extractor:extract_knowledge_from_df:180 - Returning results for th.\n"
     ]
    }
   ],
   "source": [
    "all_responses = extract_knowledge_from_df(keyword_dict=keyword_dict,\n",
    "                                          input_df=input_df,\n",
    "                                          id_column_name=ID_COLUMN,\n",
    "                                          text_column_name=TEXT_COLUMN)"
   ]
  },
  {
   "cell_type": "code",
   "execution_count": null,
   "metadata": {},
   "outputs": [
    {
     "data": {
      "text/html": [
       "<div>\n",
       "<style scoped>\n",
       "    .dataframe tbody tr th:only-of-type {\n",
       "        vertical-align: middle;\n",
       "    }\n",
       "\n",
       "    .dataframe tbody tr th {\n",
       "        vertical-align: top;\n",
       "    }\n",
       "\n",
       "    .dataframe thead th {\n",
       "        text-align: right;\n",
       "    }\n",
       "</style>\n",
       "<table border=\"1\" class=\"dataframe\">\n",
       "  <thead>\n",
       "    <tr style=\"text-align: right;\">\n",
       "      <th></th>\n",
       "      <th>id</th>\n",
       "      <th>th_input</th>\n",
       "      <th>th_agent_response</th>\n",
       "      <th>th_extracted_value</th>\n",
       "      <th>validation</th>\n",
       "    </tr>\n",
       "  </thead>\n",
       "  <tbody>\n",
       "    <tr>\n",
       "      <th>10</th>\n",
       "      <td>2220412_1.pdf</td>\n",
       "      <td>nutzung (§ 9 abs. 1 nr. 1 baugb) 2.1 höhe baulicher anlagen (§ 18 baunvo) 2.1.1 trauf und firsthöhe die traufhöhe wird definiert als schnittpunkt der verlängerung der außenkante der außenwand mit der dachhaut (pfannenlage). als firsthöhe gilt der oberste dachabschluss ;;; diejenige straße zugrunde gelegt, von der aus die haupterschließung des gebäudes erfolgt. 2.1.3 bei flachdächern gilt das maß für die traufhöhe als maximale gebäudehöhe. 2.1.4 werden pultdächer errichtet, darf die traufhöhe für die höhere wand um 1,5 m erhöht werden. 3 ;;; gebäudes erfolgt. 2.1.3 bei flachdächern gilt das maß für die traufhöhe als maximale gebäudehöhe. 2.1.4 werden pultdächer errichtet, darf die traufhöhe für die höhere wand um 1,5 m erhöht werden. 3 garagen, carports und stellplätze (§ 9 abs. 1 nr. 4 ;;; als straelen, den 24.4.18 entwurf und bearbeitung: in vertretung: purath gez. purath stadt straelen der bürgermeister essen, den 23.4.18 maximale traufhöhe in meter über th max. maximale firsthöhe in meter über fh max. bezugspunkt bezugspunkt versickerungsanlagen sind mit dem baugesuch der</td>\n",
       "      <td>th: None</td>\n",
       "      <td>NaN</td>\n",
       "      <td>True</td>\n",
       "    </tr>\n",
       "    <tr>\n",
       "      <th>11</th>\n",
       "      <td>2220438_13.pdf</td>\n",
       "      <td>flurgrenze stadt straelen ge abwasserbeseitigung 286 gewerbegebiete firsthöhe gebäude geschoßflächenzahl mass der baul. nutzungart der baulichen nutzung flurstücksgrenze ogemischte bauflächen traufhöhe 1,8 fh grz th a baugrenze aufteilung als hinweis bauweise, baugrenzen offene bauweise abweichende bauweise straßenbegrenzungslinie straßenverkehrsfläche verkehrsflächen natur und ;;; vor geschriebenen veröffentlichung tritt, tritt der straelen, den 25.10.2000 gez. giesen bürgermeister ,ggfls., werbeanlagen sind nur an gebäudeteilen unterhalb der traufhöhe (auch an giebeln) zulässig. an einfriedungen und auf dachflächen sind sie nicht zulässig. je gewerbebetrieb ist die firmenbezeichnung als beleuchtete</td>\n",
       "      <td>th: 1,8 m</td>\n",
       "      <td>1.80</td>\n",
       "      <td>True</td>\n",
       "    </tr>\n",
       "    <tr>\n",
       "      <th>12</th>\n",
       "      <td>2220449_0.pdf</td>\n",
       "      <td>maß der baulichen nutzung das maß der baulichen nutzung wird im vorliegenden bebauungsplan durch die grundflächenzahl (grz) und die maximale trauhöhe (th max.) und firsthöhe (fh max.) bestimmt. grundflächenzahl (grz) das höchstmaß der baulichen nutzung wird für die allgemeinen wohngebiete mit</td>\n",
       "      <td>th max.: 10 m\\nth max.: 12 m\\nth max.: 15 m\\nth max.: 10 m\\nth max.: 10 m\\nth max.: 10</td>\n",
       "      <td>NaN</td>\n",
       "      <td>True</td>\n",
       "    </tr>\n",
       "    <tr>\n",
       "      <th>13</th>\n",
       "      <td>2220497_3.pdf</td>\n",
       "      <td>baulichen nutzung (§ 9 abs. 1 nr. 1 baugb, §§ 16 bis 21a baunvo) grundflächenzahl als höchstmaß 0,4 wr maximale traufhöhe in meternth max anzahl vollgeschosse i 3. bauweise, baulinien, baugrenzen (§ 9 abs. 1 nr. 2 baugb, § 22 und ;;; baulichen nutzung (§ 9 abs. 1 nr. 1 baugb) höhe baulicher anlagen (§ 18 baunvo) oberer bezugspunkt zur ermittlung der traufhöhe (th max) ist der schnittpunkt der außenwand des gebäudes mit der oberkante der dachhaut (pfannenlage). unterer bezugspunkt zur ermittlung der ;;; (th max) ist der schnittpunkt der außenwand des gebäudes mit der oberkante der dachhaut (pfannenlage). unterer bezugspunkt zur ermittlung der traufhöhe (th max) ist jeweils die gemittelte höhe der fertig ausgebauten, an das plangebiet angrenzenden uhlandstraße an der gebäudeseitigen straßenbegrenzungslinie zwischen</td>\n",
       "      <td>th: None</td>\n",
       "      <td>NaN</td>\n",
       "      <td>True</td>\n",
       "    </tr>\n",
       "    <tr>\n",
       "      <th>14</th>\n",
       "      <td>2220497_4.pdf</td>\n",
       "      <td>der bebauungsplan den festsetzungen des ehemaligen bebauungsplanes nr. 5 und entspricht ebenso der derzeitigen bestandssituation. 7.4 höhe baulicher anlagen die traufhöhe für das eingeschossige gebäude wird mit maximal 4,75 m über der an grenzenden vorhandenen erschließungsstraße festgesetzt. damit wird gewährleistet, dass</td>\n",
       "      <td>th: 4,75 m</td>\n",
       "      <td>4.75</td>\n",
       "      <td>True</td>\n",
       "    </tr>\n",
       "    <tr>\n",
       "      <th>15</th>\n",
       "      <td>2220502_13.pdf</td>\n",
       "      <td>der baulichen nutzung (§ 9 abs. 1 baugb, 2. abschnitt baunvo) höhe baulicher anlagen (§ 18 baunvo) das maß der traufhöhe stellt den schnittpunkt zwischen der senkrechten außenfläche und der dachhaut dar. das maß der firsthöhe stellt den obersten dachabschluss dar.</td>\n",
       "      <td>th: None</td>\n",
       "      <td>NaN</td>\n",
       "      <td>True</td>\n",
       "    </tr>\n",
       "    <tr>\n",
       "      <th>16</th>\n",
       "      <td>2220502_15.pdf</td>\n",
       "      <td>flachdächer zulässig. 6.3 zusammenhängende garagen sind im gleichem material, in gleicher farbe und in gleicher dach form auszuführen. 6.4 die traufhöhe der garagen beträgt max. 3 m. 6.5 private stellflächen sind im gleichen pflastermaterial wie angrenzende öffentliche parkplätze oder verkehrsflächen herzustellen.</td>\n",
       "      <td>th: 3 m</td>\n",
       "      <td>3.00</td>\n",
       "      <td>True</td>\n",
       "    </tr>\n",
       "    <tr>\n",
       "      <th>17</th>\n",
       "      <td>2220510_0.pdf</td>\n",
       "      <td>3 baunvo nicht bestandteil des bebauungsplanes. 2. maß der baulichen nutzung (§ 9 abs.1 nr.1 baugb) 2.1 das maß der traufhöhe ergibt sich aus dem schnittpunkt der gedachten geradlinigen verlängerung der außenseite der wand mit der oberkante der dachaut. 2.2 das ;;; baulichen nutzung (§ 9 abs. 1 nr. 1 baugb, §§ 16 bis 21a baunvo) grundflächenzahl als höchstmaß geschossflächenzahl als höchstmaß traufhöhe in meter über bezugspunkt 0,4 0,8 th 6,80 nur einzelhäuser zulässige 4. höchstzulässige zahl der wohnungen in wohngebäuden (§ 9</td>\n",
       "      <td>None</td>\n",
       "      <td>NaN</td>\n",
       "      <td>True</td>\n",
       "    </tr>\n",
       "    <tr>\n",
       "      <th>18</th>\n",
       "      <td>2220511_2.pdf</td>\n",
       "      <td>um 0,25 (somit insgesamt bis maximal 0,65) zulässig. 3. bauhöhen (§§ 16 abs. 3 + 18 baunvo) das maß der traufhöhe stellt den schnittpunkt zwischen der unterkante dachsparren mit der innenseite des außenmauerwerkes dar. das maß der firsthöhe stellt den obersten ;;; von sechs doppelhaushälften und einem zweifamilienhaus sowie der erforderlichen erschließungsstraße mit sechs öffentlichen lageplan o.m. beispielansichten doppelhaus max. 38,5 m traufhöhe über nhn als höchstmaß öffentliche grünfläche mit der zweckbestimmung straßenbegleitgrün (§ 9 abs. 1 nr. 15 und abs. 6 baugb)grünflächen ;;; des außenmauerwerkes dar. das maß der firsthöhe stellt den obersten dachabschluss dar. bei doppelhäusern sind pro hauseinheit einheitliche erdgeschossfußboden und traufhöhen auszuführen. die mindesterdgeschossfußbodenhöhen sind in der planzeichnung festgesetzt. gemäß § 9 abs. 3 baugb i. v. m. § 31 abs.</td>\n",
       "      <td>th: 0,25 m\\nth: 0,65 m\\nth: 38,5 m\\nth: None\\nth: None\\nth: None\\nth: None\\n</td>\n",
       "      <td>0.25</td>\n",
       "      <td>True</td>\n",
       "    </tr>\n",
       "    <tr>\n",
       "      <th>19</th>\n",
       "      <td>2220511_3.pdf</td>\n",
       "      <td>passen sich an die umliegenden bestandsgebäude und ermöglichen eine flexib le anordnung und ausgestaltung neuer baukörper. zahl der vollgeschosse / traufhöhe (th) und firsthöhe (fh) für den gesamten geltungsbereich des vorhabenbezogenen bebauungsplans werden zwei vollgeschosse festgesetzt. die festsetzung leitet sich aus ;;; von 41,5 m über nhn festgesetzt, was einem maß von rund 9,50 m über dem geländeniveau entspricht. die maximal zulässige traufhöhe beträgt 38,5 m über nhn, was rund 6,50 m über dem geländeniveau entspricht. damit wird eine in hinblick auf die</td>\n",
       "      <td>th: 9,50 m, th: 6,50 m, th: 38,5 m, th: 6,50 m, th: 9,50, th</td>\n",
       "      <td>9.50</td>\n",
       "      <td>True</td>\n",
       "    </tr>\n",
       "  </tbody>\n",
       "</table>\n",
       "</div>"
      ],
      "text/plain": [
       "                id  \\\n",
       "10   2220412_1.pdf   \n",
       "11  2220438_13.pdf   \n",
       "12   2220449_0.pdf   \n",
       "13   2220497_3.pdf   \n",
       "14   2220497_4.pdf   \n",
       "15  2220502_13.pdf   \n",
       "16  2220502_15.pdf   \n",
       "17   2220510_0.pdf   \n",
       "18   2220511_2.pdf   \n",
       "19   2220511_3.pdf   \n",
       "\n",
       "                                                                                                                                                                                                                                                                                                                                                                                                                                                                                                                                                                                                                                                                                                                                                                                                                                                                                                                                                                                                                                                                                                                               th_input  \\\n",
       "10  nutzung (§ 9 abs. 1 nr. 1 baugb) 2.1 höhe baulicher anlagen (§ 18 baunvo) 2.1.1 trauf und firsthöhe die traufhöhe wird definiert als schnittpunkt der verlängerung der außenkante der außenwand mit der dachhaut (pfannenlage). als firsthöhe gilt der oberste dachabschluss ;;; diejenige straße zugrunde gelegt, von der aus die haupterschließung des gebäudes erfolgt. 2.1.3 bei flachdächern gilt das maß für die traufhöhe als maximale gebäudehöhe. 2.1.4 werden pultdächer errichtet, darf die traufhöhe für die höhere wand um 1,5 m erhöht werden. 3 ;;; gebäudes erfolgt. 2.1.3 bei flachdächern gilt das maß für die traufhöhe als maximale gebäudehöhe. 2.1.4 werden pultdächer errichtet, darf die traufhöhe für die höhere wand um 1,5 m erhöht werden. 3 garagen, carports und stellplätze (§ 9 abs. 1 nr. 4 ;;; als straelen, den 24.4.18 entwurf und bearbeitung: in vertretung: purath gez. purath stadt straelen der bürgermeister essen, den 23.4.18 maximale traufhöhe in meter über th max. maximale firsthöhe in meter über fh max. bezugspunkt bezugspunkt versickerungsanlagen sind mit dem baugesuch der   \n",
       "11                                                                                                                                                                                                                                                                                                                                                                                                flurgrenze stadt straelen ge abwasserbeseitigung 286 gewerbegebiete firsthöhe gebäude geschoßflächenzahl mass der baul. nutzungart der baulichen nutzung flurstücksgrenze ogemischte bauflächen traufhöhe 1,8 fh grz th a baugrenze aufteilung als hinweis bauweise, baugrenzen offene bauweise abweichende bauweise straßenbegrenzungslinie straßenverkehrsfläche verkehrsflächen natur und ;;; vor geschriebenen veröffentlichung tritt, tritt der straelen, den 25.10.2000 gez. giesen bürgermeister ,ggfls., werbeanlagen sind nur an gebäudeteilen unterhalb der traufhöhe (auch an giebeln) zulässig. an einfriedungen und auf dachflächen sind sie nicht zulässig. je gewerbebetrieb ist die firmenbezeichnung als beleuchtete   \n",
       "12                                                                                                                                                                                                                                                                                                                                                                                                                                                                                                                                                                                                                                                                                                                                                                                                                                maß der baulichen nutzung das maß der baulichen nutzung wird im vorliegenden bebauungsplan durch die grundflächenzahl (grz) und die maximale trauhöhe (th max.) und firsthöhe (fh max.) bestimmt. grundflächenzahl (grz) das höchstmaß der baulichen nutzung wird für die allgemeinen wohngebiete mit   \n",
       "13                                                                                                                                                                                                                                                                             baulichen nutzung (§ 9 abs. 1 nr. 1 baugb, §§ 16 bis 21a baunvo) grundflächenzahl als höchstmaß 0,4 wr maximale traufhöhe in meternth max anzahl vollgeschosse i 3. bauweise, baulinien, baugrenzen (§ 9 abs. 1 nr. 2 baugb, § 22 und ;;; baulichen nutzung (§ 9 abs. 1 nr. 1 baugb) höhe baulicher anlagen (§ 18 baunvo) oberer bezugspunkt zur ermittlung der traufhöhe (th max) ist der schnittpunkt der außenwand des gebäudes mit der oberkante der dachhaut (pfannenlage). unterer bezugspunkt zur ermittlung der ;;; (th max) ist der schnittpunkt der außenwand des gebäudes mit der oberkante der dachhaut (pfannenlage). unterer bezugspunkt zur ermittlung der traufhöhe (th max) ist jeweils die gemittelte höhe der fertig ausgebauten, an das plangebiet angrenzenden uhlandstraße an der gebäudeseitigen straßenbegrenzungslinie zwischen   \n",
       "14                                                                                                                                                                                                                                                                                                                                                                                                                                                                                                                                                                                                                                                                                                                                                                                                 der bebauungsplan den festsetzungen des ehemaligen bebauungsplanes nr. 5 und entspricht ebenso der derzeitigen bestandssituation. 7.4 höhe baulicher anlagen die traufhöhe für das eingeschossige gebäude wird mit maximal 4,75 m über der an grenzenden vorhandenen erschließungsstraße festgesetzt. damit wird gewährleistet, dass   \n",
       "15                                                                                                                                                                                                                                                                                                                                                                                                                                                                                                                                                                                                                                                                                                                                                                                                                                                             der baulichen nutzung (§ 9 abs. 1 baugb, 2. abschnitt baunvo) höhe baulicher anlagen (§ 18 baunvo) das maß der traufhöhe stellt den schnittpunkt zwischen der senkrechten außenfläche und der dachhaut dar. das maß der firsthöhe stellt den obersten dachabschluss dar.   \n",
       "16                                                                                                                                                                                                                                                                                                                                                                                                                                                                                                                                                                                                                                                                                                                                                                                                          flachdächer zulässig. 6.3 zusammenhängende garagen sind im gleichem material, in gleicher farbe und in gleicher dach form auszuführen. 6.4 die traufhöhe der garagen beträgt max. 3 m. 6.5 private stellflächen sind im gleichen pflastermaterial wie angrenzende öffentliche parkplätze oder verkehrsflächen herzustellen.   \n",
       "17                                                                                                                                                                                                                                                                                                                                                                                                                                                                                                                                                                                3 baunvo nicht bestandteil des bebauungsplanes. 2. maß der baulichen nutzung (§ 9 abs.1 nr.1 baugb) 2.1 das maß der traufhöhe ergibt sich aus dem schnittpunkt der gedachten geradlinigen verlängerung der außenseite der wand mit der oberkante der dachaut. 2.2 das ;;; baulichen nutzung (§ 9 abs. 1 nr. 1 baugb, §§ 16 bis 21a baunvo) grundflächenzahl als höchstmaß geschossflächenzahl als höchstmaß traufhöhe in meter über bezugspunkt 0,4 0,8 th 6,80 nur einzelhäuser zulässige 4. höchstzulässige zahl der wohnungen in wohngebäuden (§ 9   \n",
       "18                                                                                                                                                                                                    um 0,25 (somit insgesamt bis maximal 0,65) zulässig. 3. bauhöhen (§§ 16 abs. 3 + 18 baunvo) das maß der traufhöhe stellt den schnittpunkt zwischen der unterkante dachsparren mit der innenseite des außenmauerwerkes dar. das maß der firsthöhe stellt den obersten ;;; von sechs doppelhaushälften und einem zweifamilienhaus sowie der erforderlichen erschließungsstraße mit sechs öffentlichen lageplan o.m. beispielansichten doppelhaus max. 38,5 m traufhöhe über nhn als höchstmaß öffentliche grünfläche mit der zweckbestimmung straßenbegleitgrün (§ 9 abs. 1 nr. 15 und abs. 6 baugb)grünflächen ;;; des außenmauerwerkes dar. das maß der firsthöhe stellt den obersten dachabschluss dar. bei doppelhäusern sind pro hauseinheit einheitliche erdgeschossfußboden und traufhöhen auszuführen. die mindesterdgeschossfußbodenhöhen sind in der planzeichnung festgesetzt. gemäß § 9 abs. 3 baugb i. v. m. § 31 abs.   \n",
       "19                                                                                                                                                                                                                                                                                                                                                                                                                                                                                                                                             passen sich an die umliegenden bestandsgebäude und ermöglichen eine flexib le anordnung und ausgestaltung neuer baukörper. zahl der vollgeschosse / traufhöhe (th) und firsthöhe (fh) für den gesamten geltungsbereich des vorhabenbezogenen bebauungsplans werden zwei vollgeschosse festgesetzt. die festsetzung leitet sich aus ;;; von 41,5 m über nhn festgesetzt, was einem maß von rund 9,50 m über dem geländeniveau entspricht. die maximal zulässige traufhöhe beträgt 38,5 m über nhn, was rund 6,50 m über dem geländeniveau entspricht. damit wird eine in hinblick auf die   \n",
       "\n",
       "                                                                         th_agent_response  \\\n",
       "10                                                                                th: None   \n",
       "11                                                                               th: 1,8 m   \n",
       "12  th max.: 10 m\\nth max.: 12 m\\nth max.: 15 m\\nth max.: 10 m\\nth max.: 10 m\\nth max.: 10   \n",
       "13                                                                                th: None   \n",
       "14                                                                              th: 4,75 m   \n",
       "15                                                                                th: None   \n",
       "16                                                                                 th: 3 m   \n",
       "17                                                                                    None   \n",
       "18            th: 0,25 m\\nth: 0,65 m\\nth: 38,5 m\\nth: None\\nth: None\\nth: None\\nth: None\\n   \n",
       "19                            th: 9,50 m, th: 6,50 m, th: 38,5 m, th: 6,50 m, th: 9,50, th   \n",
       "\n",
       "    th_extracted_value  validation  \n",
       "10                 NaN        True  \n",
       "11                1.80        True  \n",
       "12                 NaN        True  \n",
       "13                 NaN        True  \n",
       "14                4.75        True  \n",
       "15                 NaN        True  \n",
       "16                3.00        True  \n",
       "17                 NaN        True  \n",
       "18                0.25        True  \n",
       "19                9.50        True  "
      ]
     },
     "execution_count": 7,
     "metadata": {},
     "output_type": "execute_result"
    }
   ],
   "source": [
    "all_responses.head(10)"
   ]
  },
  {
   "cell_type": "markdown",
   "metadata": {},
   "source": [
    "## Reset if validation unsuccessful\n",
    "\n",
    "If validation wasn't successful (= False), the extracted_value column should be set back to NaN."
   ]
  },
  {
   "cell_type": "code",
   "execution_count": null,
   "metadata": {},
   "outputs": [
    {
     "data": {
      "text/html": [
       "<div>\n",
       "<style scoped>\n",
       "    .dataframe tbody tr th:only-of-type {\n",
       "        vertical-align: middle;\n",
       "    }\n",
       "\n",
       "    .dataframe tbody tr th {\n",
       "        vertical-align: top;\n",
       "    }\n",
       "\n",
       "    .dataframe thead th {\n",
       "        text-align: right;\n",
       "    }\n",
       "</style>\n",
       "<table border=\"1\" class=\"dataframe\">\n",
       "  <thead>\n",
       "    <tr style=\"text-align: right;\">\n",
       "      <th></th>\n",
       "      <th>id</th>\n",
       "      <th>th_input</th>\n",
       "      <th>th_agent_response</th>\n",
       "      <th>th_extracted_value</th>\n",
       "      <th>validation</th>\n",
       "    </tr>\n",
       "  </thead>\n",
       "  <tbody>\n",
       "    <tr>\n",
       "      <th>10</th>\n",
       "      <td>2220412_1.pdf</td>\n",
       "      <td>nutzung (§ 9 abs. 1 nr. 1 baugb) 2.1 höhe baulicher anlagen (§ 18 baunvo) 2.1.1 trauf und firsthöhe die traufhöhe wird definiert als schnittpunkt der verlängerung der außenkante der außenwand mit der dachhaut (pfannenlage). als firsthöhe gilt der oberste dachabschluss ;;; diejenige straße zugrunde gelegt, von der aus die haupterschließung des gebäudes erfolgt. 2.1.3 bei flachdächern gilt das maß für die traufhöhe als maximale gebäudehöhe. 2.1.4 werden pultdächer errichtet, darf die traufhöhe für die höhere wand um 1,5 m erhöht werden. 3 ;;; gebäudes erfolgt. 2.1.3 bei flachdächern gilt das maß für die traufhöhe als maximale gebäudehöhe. 2.1.4 werden pultdächer errichtet, darf die traufhöhe für die höhere wand um 1,5 m erhöht werden. 3 garagen, carports und stellplätze (§ 9 abs. 1 nr. 4 ;;; als straelen, den 24.4.18 entwurf und bearbeitung: in vertretung: purath gez. purath stadt straelen der bürgermeister essen, den 23.4.18 maximale traufhöhe in meter über th max. maximale firsthöhe in meter über fh max. bezugspunkt bezugspunkt versickerungsanlagen sind mit dem baugesuch der</td>\n",
       "      <td>th: None</td>\n",
       "      <td>NaN</td>\n",
       "      <td>True</td>\n",
       "    </tr>\n",
       "    <tr>\n",
       "      <th>11</th>\n",
       "      <td>2220438_13.pdf</td>\n",
       "      <td>flurgrenze stadt straelen ge abwasserbeseitigung 286 gewerbegebiete firsthöhe gebäude geschoßflächenzahl mass der baul. nutzungart der baulichen nutzung flurstücksgrenze ogemischte bauflächen traufhöhe 1,8 fh grz th a baugrenze aufteilung als hinweis bauweise, baugrenzen offene bauweise abweichende bauweise straßenbegrenzungslinie straßenverkehrsfläche verkehrsflächen natur und ;;; vor geschriebenen veröffentlichung tritt, tritt der straelen, den 25.10.2000 gez. giesen bürgermeister ,ggfls., werbeanlagen sind nur an gebäudeteilen unterhalb der traufhöhe (auch an giebeln) zulässig. an einfriedungen und auf dachflächen sind sie nicht zulässig. je gewerbebetrieb ist die firmenbezeichnung als beleuchtete</td>\n",
       "      <td>th: 1,8 m</td>\n",
       "      <td>1.80</td>\n",
       "      <td>True</td>\n",
       "    </tr>\n",
       "    <tr>\n",
       "      <th>12</th>\n",
       "      <td>2220449_0.pdf</td>\n",
       "      <td>maß der baulichen nutzung das maß der baulichen nutzung wird im vorliegenden bebauungsplan durch die grundflächenzahl (grz) und die maximale trauhöhe (th max.) und firsthöhe (fh max.) bestimmt. grundflächenzahl (grz) das höchstmaß der baulichen nutzung wird für die allgemeinen wohngebiete mit</td>\n",
       "      <td>th max.: 10 m\\nth max.: 12 m\\nth max.: 15 m\\nth max.: 10 m\\nth max.: 10 m\\nth max.: 10</td>\n",
       "      <td>NaN</td>\n",
       "      <td>True</td>\n",
       "    </tr>\n",
       "    <tr>\n",
       "      <th>13</th>\n",
       "      <td>2220497_3.pdf</td>\n",
       "      <td>baulichen nutzung (§ 9 abs. 1 nr. 1 baugb, §§ 16 bis 21a baunvo) grundflächenzahl als höchstmaß 0,4 wr maximale traufhöhe in meternth max anzahl vollgeschosse i 3. bauweise, baulinien, baugrenzen (§ 9 abs. 1 nr. 2 baugb, § 22 und ;;; baulichen nutzung (§ 9 abs. 1 nr. 1 baugb) höhe baulicher anlagen (§ 18 baunvo) oberer bezugspunkt zur ermittlung der traufhöhe (th max) ist der schnittpunkt der außenwand des gebäudes mit der oberkante der dachhaut (pfannenlage). unterer bezugspunkt zur ermittlung der ;;; (th max) ist der schnittpunkt der außenwand des gebäudes mit der oberkante der dachhaut (pfannenlage). unterer bezugspunkt zur ermittlung der traufhöhe (th max) ist jeweils die gemittelte höhe der fertig ausgebauten, an das plangebiet angrenzenden uhlandstraße an der gebäudeseitigen straßenbegrenzungslinie zwischen</td>\n",
       "      <td>th: None</td>\n",
       "      <td>NaN</td>\n",
       "      <td>True</td>\n",
       "    </tr>\n",
       "    <tr>\n",
       "      <th>14</th>\n",
       "      <td>2220497_4.pdf</td>\n",
       "      <td>der bebauungsplan den festsetzungen des ehemaligen bebauungsplanes nr. 5 und entspricht ebenso der derzeitigen bestandssituation. 7.4 höhe baulicher anlagen die traufhöhe für das eingeschossige gebäude wird mit maximal 4,75 m über der an grenzenden vorhandenen erschließungsstraße festgesetzt. damit wird gewährleistet, dass</td>\n",
       "      <td>th: 4,75 m</td>\n",
       "      <td>4.75</td>\n",
       "      <td>True</td>\n",
       "    </tr>\n",
       "  </tbody>\n",
       "</table>\n",
       "</div>"
      ],
      "text/plain": [
       "                id  \\\n",
       "10   2220412_1.pdf   \n",
       "11  2220438_13.pdf   \n",
       "12   2220449_0.pdf   \n",
       "13   2220497_3.pdf   \n",
       "14   2220497_4.pdf   \n",
       "\n",
       "                                                                                                                                                                                                                                                                                                                                                                                                                                                                                                                                                                                                                                                                                                                                                                                                                                                                                                                                                                                                                                                                                                                               th_input  \\\n",
       "10  nutzung (§ 9 abs. 1 nr. 1 baugb) 2.1 höhe baulicher anlagen (§ 18 baunvo) 2.1.1 trauf und firsthöhe die traufhöhe wird definiert als schnittpunkt der verlängerung der außenkante der außenwand mit der dachhaut (pfannenlage). als firsthöhe gilt der oberste dachabschluss ;;; diejenige straße zugrunde gelegt, von der aus die haupterschließung des gebäudes erfolgt. 2.1.3 bei flachdächern gilt das maß für die traufhöhe als maximale gebäudehöhe. 2.1.4 werden pultdächer errichtet, darf die traufhöhe für die höhere wand um 1,5 m erhöht werden. 3 ;;; gebäudes erfolgt. 2.1.3 bei flachdächern gilt das maß für die traufhöhe als maximale gebäudehöhe. 2.1.4 werden pultdächer errichtet, darf die traufhöhe für die höhere wand um 1,5 m erhöht werden. 3 garagen, carports und stellplätze (§ 9 abs. 1 nr. 4 ;;; als straelen, den 24.4.18 entwurf und bearbeitung: in vertretung: purath gez. purath stadt straelen der bürgermeister essen, den 23.4.18 maximale traufhöhe in meter über th max. maximale firsthöhe in meter über fh max. bezugspunkt bezugspunkt versickerungsanlagen sind mit dem baugesuch der   \n",
       "11                                                                                                                                                                                                                                                                                                                                                                                                flurgrenze stadt straelen ge abwasserbeseitigung 286 gewerbegebiete firsthöhe gebäude geschoßflächenzahl mass der baul. nutzungart der baulichen nutzung flurstücksgrenze ogemischte bauflächen traufhöhe 1,8 fh grz th a baugrenze aufteilung als hinweis bauweise, baugrenzen offene bauweise abweichende bauweise straßenbegrenzungslinie straßenverkehrsfläche verkehrsflächen natur und ;;; vor geschriebenen veröffentlichung tritt, tritt der straelen, den 25.10.2000 gez. giesen bürgermeister ,ggfls., werbeanlagen sind nur an gebäudeteilen unterhalb der traufhöhe (auch an giebeln) zulässig. an einfriedungen und auf dachflächen sind sie nicht zulässig. je gewerbebetrieb ist die firmenbezeichnung als beleuchtete   \n",
       "12                                                                                                                                                                                                                                                                                                                                                                                                                                                                                                                                                                                                                                                                                                                                                                                                                                maß der baulichen nutzung das maß der baulichen nutzung wird im vorliegenden bebauungsplan durch die grundflächenzahl (grz) und die maximale trauhöhe (th max.) und firsthöhe (fh max.) bestimmt. grundflächenzahl (grz) das höchstmaß der baulichen nutzung wird für die allgemeinen wohngebiete mit   \n",
       "13                                                                                                                                                                                                                                                                             baulichen nutzung (§ 9 abs. 1 nr. 1 baugb, §§ 16 bis 21a baunvo) grundflächenzahl als höchstmaß 0,4 wr maximale traufhöhe in meternth max anzahl vollgeschosse i 3. bauweise, baulinien, baugrenzen (§ 9 abs. 1 nr. 2 baugb, § 22 und ;;; baulichen nutzung (§ 9 abs. 1 nr. 1 baugb) höhe baulicher anlagen (§ 18 baunvo) oberer bezugspunkt zur ermittlung der traufhöhe (th max) ist der schnittpunkt der außenwand des gebäudes mit der oberkante der dachhaut (pfannenlage). unterer bezugspunkt zur ermittlung der ;;; (th max) ist der schnittpunkt der außenwand des gebäudes mit der oberkante der dachhaut (pfannenlage). unterer bezugspunkt zur ermittlung der traufhöhe (th max) ist jeweils die gemittelte höhe der fertig ausgebauten, an das plangebiet angrenzenden uhlandstraße an der gebäudeseitigen straßenbegrenzungslinie zwischen   \n",
       "14                                                                                                                                                                                                                                                                                                                                                                                                                                                                                                                                                                                                                                                                                                                                                                                                 der bebauungsplan den festsetzungen des ehemaligen bebauungsplanes nr. 5 und entspricht ebenso der derzeitigen bestandssituation. 7.4 höhe baulicher anlagen die traufhöhe für das eingeschossige gebäude wird mit maximal 4,75 m über der an grenzenden vorhandenen erschließungsstraße festgesetzt. damit wird gewährleistet, dass   \n",
       "\n",
       "                                                                         th_agent_response  \\\n",
       "10                                                                                th: None   \n",
       "11                                                                               th: 1,8 m   \n",
       "12  th max.: 10 m\\nth max.: 12 m\\nth max.: 15 m\\nth max.: 10 m\\nth max.: 10 m\\nth max.: 10   \n",
       "13                                                                                th: None   \n",
       "14                                                                              th: 4,75 m   \n",
       "\n",
       "    th_extracted_value  validation  \n",
       "10                 NaN        True  \n",
       "11                1.80        True  \n",
       "12                 NaN        True  \n",
       "13                 NaN        True  \n",
       "14                4.75        True  "
      ]
     },
     "execution_count": 8,
     "metadata": {},
     "output_type": "execute_result"
    }
   ],
   "source": [
    "column_name = f\"{keyword_dict['keyword_short']}_extracted_value\"\n",
    "all_responses.loc[all_responses['validation'] == False, column_name] = np.nan\n",
    "\n",
    "all_responses.head()"
   ]
  }
 ],
 "metadata": {
  "kernelspec": {
   "display_name": "landsealing",
   "language": "python",
   "name": "python3"
  },
  "language_info": {
   "codemirror_mode": {
    "name": "ipython",
    "version": 3
   },
   "file_extension": ".py",
   "mimetype": "text/x-python",
   "name": "python",
   "nbconvert_exporter": "python",
   "pygments_lexer": "ipython3",
   "version": "3.11.4"
  },
  "orig_nbformat": 4
 },
 "nbformat": 4,
 "nbformat_minor": 2
}
