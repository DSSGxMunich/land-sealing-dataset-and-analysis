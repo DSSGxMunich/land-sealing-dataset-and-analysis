{
 "cells": [
  {
   "cell_type": "code",
   "execution_count": 1,
   "metadata": {},
   "outputs": [],
   "source": [
    "import json\n",
    "import os\n",
    "import pandas as pd\n",
    "\n",
    "from contextual_fuzzy_search import search_best_matches_dict\n",
    "\n",
    "pd.set_option('display.max_colwidth', 1000)\n",
    "pd.set_option('display.max_rows', None)"
   ]
  },
  {
   "cell_type": "markdown",
   "metadata": {},
   "source": [
    "# Contextual fuzzy keyword search for flooding-related keywords\n"
   ]
  },
  {
   "cell_type": "markdown",
   "metadata": {},
   "source": [
    "## Prepare data\n",
    "\n",
    "- **Change the folder path** in the code block below to read in the data.\n",
    "- **Specify the relevant column names.** The function that is used in the following expects the input data frame to have (at least) two columns, i.e., one id and one content column. Here, the columns are called `filename` and `content`. If named differently, change the column names in the code below."
   ]
  },
  {
   "cell_type": "code",
   "execution_count": 2,
   "metadata": {},
   "outputs": [],
   "source": [
    "# specify file path\n",
    "BASE_DIR = os.path.join(\"..\", \"..\", \"..\", \"..\", \"data\", \"nrw\")\n",
    "INPUT_FOLDER_PATH = os.path.join(BASE_DIR, \"text\", \"nrw_final_all.csv\")\n",
    "OUTPUT_FILE_PATH = os.path.join(BASE_DIR, \"features\", \"fuzzy_search\", \"hochwasser_keywords\")\n",
    "\n",
    "# specify relevant column names\n",
    "ID_COLUMN='filename'\n",
    "TEXT_COLUMN='content'\n",
    "\n",
    "# read in data\n",
    "input_df = pd.read_csv(INPUT_FOLDER_PATH,\n",
    "                       names=[ID_COLUMN, TEXT_COLUMN])"
   ]
  },
  {
   "cell_type": "markdown",
   "metadata": {},
   "source": [
    "## Apply fuzzy keyword search to keyword of choice and extract the best matches\n",
    "\n",
    "- Adjust `keyword_dict`\n",
    "- Adjust `threshold`: minimum similarity score\n",
    "- Adjust `context_words`: number of words extracted to contextualise keyword\n",
    "\n",
    "Note: To apply the fuzzy search to multiple keywords at once, `contextual_fuzzy_search_parallelised.py` can be run. Only adjust the file paths and variables in lines 13 to 22. The corresponding dictionary is `keyword_dict_fuzzy` and can easily be adapted if necessary."
   ]
  },
  {
   "cell_type": "code",
   "execution_count": 3,
   "metadata": {},
   "outputs": [],
   "source": [
    "with open('keyword_dict_hochwasser.json') as f:\n",
    "    HOCHWASSER_KEYWORDS = json.load(f)\n",
    "\n",
    "THRESHOLD=85\n",
    "CONTEXT_WORDS=15"
   ]
  },
  {
   "cell_type": "code",
   "execution_count": null,
   "metadata": {},
   "outputs": [],
   "source": [
    "all_matches = search_best_matches_dict(input_df=input_df,\n",
    "                                         id_column_name=ID_COLUMN,\n",
    "                                         text_column_name=TEXT_COLUMN,\n",
    "                                         keyword_dict=HOCHWASSER_KEYWORDS,\n",
    "                                         threshold=THRESHOLD,\n",
    "                                         context_words=CONTEXT_WORDS)"
   ]
  },
  {
   "cell_type": "code",
   "execution_count": 5,
   "metadata": {},
   "outputs": [
    {
     "data": {
      "text/html": [
       "<div>\n",
       "<style scoped>\n",
       "    .dataframe tbody tr th:only-of-type {\n",
       "        vertical-align: middle;\n",
       "    }\n",
       "\n",
       "    .dataframe tbody tr th {\n",
       "        vertical-align: top;\n",
       "    }\n",
       "\n",
       "    .dataframe thead th {\n",
       "        text-align: right;\n",
       "    }\n",
       "</style>\n",
       "<table border=\"1\" class=\"dataframe\">\n",
       "  <thead>\n",
       "    <tr style=\"text-align: right;\">\n",
       "      <th>keyword</th>\n",
       "      <th>contextualised_keyword</th>\n",
       "      <th>actual_keyword</th>\n",
       "      <th>category</th>\n",
       "      <th>filename</th>\n",
       "    </tr>\n",
       "  </thead>\n",
       "  <tbody>\n",
       "    <tr>\n",
       "      <th>0</th>\n",
       "      <td>wasserhaushalt gebotene sparsame verwendung des wassers zu erreichen. § 51 a lwg legt fest, dass niederschlagswasser von grundstücken, die nach dem 01.01.1996 erstmals bebaut, befestigt oder an die öffentliche kanalisation angeschlossen ;;; der flächenversiegelung in größerem umfang. da bodenversiegelung und die befestigung von boden die infiltration von niederschlagswasser in den boden und somit eine anreicherung des grundwassers verhindert, wird die grund wasserdargebots und</td>\n",
       "      <td>niederschlagswasser</td>\n",
       "      <td>betroffen_von_überschwemmung</td>\n",
       "      <td>116995_8.pdf</td>\n",
       "    </tr>\n",
       "    <tr>\n",
       "      <th>1</th>\n",
       "      <td>sie auch als besonders schutzwürdigen böden in der bodenkarte nrw ausgewiesen. für eine versickerung von niederschlagswasser sind die anstehenden böden nur bedingt geeignet. die böden der bördelandschaft sind relativ anfällig für ;;; dass die anstehenden böden nur eine bedingte eignung dafür haben. im plangebiet werden voraussichtlich die niederschlagswässer der verkehrsflächen an die öffentliche kanalisation angeschlossen. es ist zu prüfen, ob unbelastetes oberflächen wasser ;;; emissionen sowie der sachgerechte umgang mit abfällen und abwässern\" ➡ die handhabung mit den anfallenden niederschlagswässern wird im weiteren verfahren geklärt. ➡ entsorgung der schmutzwässer über kanalnetz. ➡ nutzung von signalhorn</td>\n",
       "      <td>niederschlagswasser</td>\n",
       "      <td>betroffen_von_überschwemmung</td>\n",
       "      <td>1691739_2.pdf</td>\n",
       "    </tr>\n",
       "    <tr>\n",
       "      <th>2</th>\n",
       "      <td>den grundwas serschutz ist eine gewisse beeinträchtigung gegeben, da durch die versiegelung im plange biet niederschlagswasser nicht mehr ungehindert versickern und zur grundwasseranreiche rung beitragen kann. allerdings wäscht der niederschlag die ;;; hinblick auf den grundwasserschutz eine gewisse schutzwirkung gegeben, da durch die ausbleibende versiegelung im plangebiet niederschlagswasser versickern und zur grundwasseranreicherung beitragen kann. planung: durch die umsetzung der planung wird zusätzlicher boden ;;; umsetzung der planung wird zusätzlicher boden versiegelt, was auswirkungen auf die grundwasserneubildung hat, da das niederschlagswasser im plangebiet nicht mehr umweltbericht flächennutzungsplanänderung nr. 5 feuerwehrgerätehaus giesendorf 17 ungehindert versickern kann. allerdings ;;; 5 feuerwehrgerätehaus giesendorf 17 ungehindert versickern kann. allerdings ist gemäß § 51a lwg nw das niederschlagswasser von grundstücken, die nach dem 1. januar 1996 erstmals bebau...</td>\n",
       "      <td>niederschlagswasser</td>\n",
       "      <td>betroffen_von_überschwemmung</td>\n",
       "      <td>1691740_2.pdf</td>\n",
       "    </tr>\n",
       "    <tr>\n",
       "      <th>3</th>\n",
       "      <td>hinblick auf den grundwasserschutz eine gewisse schutzwirkung gegeben, da durch die ausbleibende versiegelung im plangebiet niederschlagswasser versickern und zur grundwasseranreicherung beitragen kann. aller dings wäscht der niederschlag die durch düngung bedingten ;;; umsetzung der planung wird zusätzlicher boden versiegelt, was auswirkungen auf die grundwasserneubildung hat, da das niederschlagswasser im plangebiet nicht mehr ungehindert versickern kann. allerdings ist gemäß § 51a lwg nw das ;;; im plangebiet nicht mehr ungehindert versickern kann. allerdings ist gemäß § 51a lwg nw das niederschlagswasser von grundstücken, die nach dem 1. januar 1996 erstmals bebaut, befestigt oder an die öffentliche ;;; der allgemeinheit möglich ist. aufgrund der gesetzgebung ist sichergestellt, dass zumindest ein beachtlicher anteil des niederschlagswassers dem natürlichen wasserhaushalt wieder zugeführt wird und so der grundwasserneubildung dient. infolgedessen ergeben sich in</td>\n",
       "      <td>niederschlagswasser</td>\n",
       "      <td>betroffen_von_überschwemmung</td>\n",
       "      <td>1691744_1.pdf</td>\n",
       "    </tr>\n",
       "    <tr>\n",
       "      <th>4</th>\n",
       "      <td>bestehende mischwasserkanalisation. aufgrund der nur geringfügig erhöhten abwassermenge ist die vorhandene entwässerungsinfrastruktur ausreichend. das unverschmutzte niederschlagswasser kann grundsätzlich in zisternen aufgefan gen werden und als brauchwasser zur toilettenspülung, gartenbewässerung o.ä. verwendung</td>\n",
       "      <td>niederschlagswasser</td>\n",
       "      <td>betroffen_von_überschwemmung</td>\n",
       "      <td>1691766_1.pdf</td>\n",
       "    </tr>\n",
       "    <tr>\n",
       "      <th>5</th>\n",
       "      <td>bestehende mischwasserkanalisation. aufgrund der nur geringfügig erhöhten abwassermenge ist die vorhandene entwässerungsinfrastruktur ausreichend. das unverschmutzte niederschlagswasser kann grundsätzlich in zisternen aufgefan gen werden und als brauchwasser zur toilettenspülung, gartenbewässerung o.ä. verwendung</td>\n",
       "      <td>niederschlagswasser</td>\n",
       "      <td>betroffen_von_überschwemmung</td>\n",
       "      <td>1691842_1.pdf</td>\n",
       "    </tr>\n",
       "    <tr>\n",
       "      <th>6</th>\n",
       "      <td>möglichkeiten der entwicklung der gemeinde insbesondere durch wiedernutzbarmachung von flächen, nachverdichtung und andere maßnahmen zur innenentwicklung zu nutzen (§1a abs.2). bundesnaturschutzgesetz (bnatschg) / landschaftsgesetz nw (lg nw) das bundesnaturschutzgesetz (bnatschg) schreibt</td>\n",
       "      <td>innenentwicklung</td>\n",
       "      <td>innenentwicklung</td>\n",
       "      <td>116995_8.pdf</td>\n",
       "    </tr>\n",
       "    <tr>\n",
       "      <th>7</th>\n",
       "      <td>möglichkeiten der entwicklung der gemeinde insbesondere durch wiedernutzbarmachung von flächen, nachverdichtung und andere maßnahmen zur innenentwicklung zu nutzen sowie bodenversiegelungen auf das notwendige maß zu begrenzen. die notwendigkeit der umwandlung landwirtschaftlich ;;; oder als wald genutzter flächen soll begründet werden; dabei sollen ermittlungen zu den möglichkeiten der innenentwicklung zugrunde gelegt werden, zu denen insbesondere brachflächen, gebäudeleerstand, baulücken und andere nachverdichtungsmöglichkeiten zählen können. begründung</td>\n",
       "      <td>innenentwicklung</td>\n",
       "      <td>innenentwicklung</td>\n",
       "      <td>1691739_1.pdf</td>\n",
       "    </tr>\n",
       "    <tr>\n",
       "      <th>8</th>\n",
       "      <td>sparsamer und schonender umgang mit grund und boden durch wiedernutz barmachung von flächen, nachverdichtung und innenentwick lung zur verringerung zusätzlicher inanspruchnahme von bö den  landwirtschaftlich, als wald oder für wohnungszwecke</td>\n",
       "      <td>innenentwicklung</td>\n",
       "      <td>innenentwicklung</td>\n",
       "      <td>1691740_2.pdf</td>\n",
       "    </tr>\n",
       "    <tr>\n",
       "      <th>9</th>\n",
       "      <td>sparsamer und schonender umgang mit grund und boden durch wiedernutz barmachung von flächen, nachverdichtung und innenentwick lung zur verringerung zusätzlicher inanspruchnahme von bö den  landwirtschaftlich, als wald oder für wohnungszwecke</td>\n",
       "      <td>innenentwicklung</td>\n",
       "      <td>innenentwicklung</td>\n",
       "      <td>1691744_1.pdf</td>\n",
       "    </tr>\n",
       "    <tr>\n",
       "      <th>10</th>\n",
       "      <td>möglichkeiten der entwicklung der gemeinde insbesondere durch wiedernutzbarmachung von flächen, nachverdichtung und andere maßnahmen zur innenentwicklung zu nutzen sowie bodenversiegelungen auf das notwendige maß zu begrenzen. die notwendigkeit der umwandlung landwirtschaftlich ;;; oder als wald genutzter flächen soll begründet werden; dabei sollen ermittlungen zu den möglichkeiten der innenentwicklung zugrunde gelegt werden, zu denen insbesondere brachflächen, gebäudeleerstand, baulücken und andere nachverdichtungsmöglichkeiten zählen können. diesbezüglich ;;; die sonderregeln des § 246 abs. 10 baugb ( sonderreglung für flüchtlingsunterkünfte) nicht geeignet eine innenentwicklung umzusetzen, da die sonderregelung lediglich befristet bis zum 31.12.2019 in kraft ist, die stadt elsdorf ;;; im hinblick auf eine mögliche errichtung von flüchtlingsunterkünften untersucht worden. standorte im innenbereich, die einer innenentwicklung.im sinne des o.g. gesetzes darstellen, stehen aufgrund ...</td>\n",
       "      <td>innenentwicklung</td>\n",
       "      <td>innenentwicklung</td>\n",
       "      <td>1691744_2.pdf</td>\n",
       "    </tr>\n",
       "    <tr>\n",
       "      <th>11</th>\n",
       "      <td>voll umfänglich im beplanten innenbereich gem. § 34 baugb. die beabsichtigte städtebauliche zielsetzung dient der innenentwicklung i.s.d. § 1a abs. 2 baugb. stadt elsdorf, bebauungsplan nr. 75 „niederembt, embestraße“, 1. änderung</td>\n",
       "      <td>innenentwicklung</td>\n",
       "      <td>innenentwicklung</td>\n",
       "      <td>1691766_1.pdf</td>\n",
       "    </tr>\n",
       "    <tr>\n",
       "      <th>12</th>\n",
       "      <td>aus der deutschen grundkarte mit geltungsbereich unter abschnitt 2). die beabsichtigte städtebauliche zielsetzung dient der innenentwicklung i.s.d. § 1a abs. 2 baugb. die beabsichtigte bebauungsplanung entspricht der geordneten städtebauli chen entwicklung</td>\n",
       "      <td>innenentwicklung</td>\n",
       "      <td>innenentwicklung</td>\n",
       "      <td>1691842_1.pdf</td>\n",
       "    </tr>\n",
       "  </tbody>\n",
       "</table>\n",
       "</div>"
      ],
      "text/plain": [
       "keyword                                                                                                                                                                                                                                                                                                                                                                                                                                                                                                                                                                                                                                                                                                                                                                                                                                                                                                                                                                                                                   contextualised_keyword  \\\n",
       "0                                                                                                                                                                                                                                                                                                                                                                                                                                                                                                                                              wasserhaushalt gebotene sparsame verwendung des wassers zu erreichen. § 51 a lwg legt fest, dass niederschlagswasser von grundstücken, die nach dem 01.01.1996 erstmals bebaut, befestigt oder an die öffentliche kanalisation angeschlossen ;;; der flächenversiegelung in größerem umfang. da bodenversiegelung und die befestigung von boden die infiltration von niederschlagswasser in den boden und somit eine anreicherung des grundwassers verhindert, wird die grund wasserdargebots und   \n",
       "1                                                                                                                                                                                                                                                                                                sie auch als besonders schutzwürdigen böden in der bodenkarte nrw ausgewiesen. für eine versickerung von niederschlagswasser sind die anstehenden böden nur bedingt geeignet. die böden der bördelandschaft sind relativ anfällig für ;;; dass die anstehenden böden nur eine bedingte eignung dafür haben. im plangebiet werden voraussichtlich die niederschlagswässer der verkehrsflächen an die öffentliche kanalisation angeschlossen. es ist zu prüfen, ob unbelastetes oberflächen wasser ;;; emissionen sowie der sachgerechte umgang mit abfällen und abwässern\" ➡ die handhabung mit den anfallenden niederschlagswässern wird im weiteren verfahren geklärt. ➡ entsorgung der schmutzwässer über kanalnetz. ➡ nutzung von signalhorn   \n",
       "2        den grundwas serschutz ist eine gewisse beeinträchtigung gegeben, da durch die versiegelung im plange biet niederschlagswasser nicht mehr ungehindert versickern und zur grundwasseranreiche rung beitragen kann. allerdings wäscht der niederschlag die ;;; hinblick auf den grundwasserschutz eine gewisse schutzwirkung gegeben, da durch die ausbleibende versiegelung im plangebiet niederschlagswasser versickern und zur grundwasseranreicherung beitragen kann. planung: durch die umsetzung der planung wird zusätzlicher boden ;;; umsetzung der planung wird zusätzlicher boden versiegelt, was auswirkungen auf die grundwasserneubildung hat, da das niederschlagswasser im plangebiet nicht mehr umweltbericht flächennutzungsplanänderung nr. 5 feuerwehrgerätehaus giesendorf 17 ungehindert versickern kann. allerdings ;;; 5 feuerwehrgerätehaus giesendorf 17 ungehindert versickern kann. allerdings ist gemäß § 51a lwg nw das niederschlagswasser von grundstücken, die nach dem 1. januar 1996 erstmals bebau...   \n",
       "3                           hinblick auf den grundwasserschutz eine gewisse schutzwirkung gegeben, da durch die ausbleibende versiegelung im plangebiet niederschlagswasser versickern und zur grundwasseranreicherung beitragen kann. aller dings wäscht der niederschlag die durch düngung bedingten ;;; umsetzung der planung wird zusätzlicher boden versiegelt, was auswirkungen auf die grundwasserneubildung hat, da das niederschlagswasser im plangebiet nicht mehr ungehindert versickern kann. allerdings ist gemäß § 51a lwg nw das ;;; im plangebiet nicht mehr ungehindert versickern kann. allerdings ist gemäß § 51a lwg nw das niederschlagswasser von grundstücken, die nach dem 1. januar 1996 erstmals bebaut, befestigt oder an die öffentliche ;;; der allgemeinheit möglich ist. aufgrund der gesetzgebung ist sichergestellt, dass zumindest ein beachtlicher anteil des niederschlagswassers dem natürlichen wasserhaushalt wieder zugeführt wird und so der grundwasserneubildung dient. infolgedessen ergeben sich in   \n",
       "4                                                                                                                                                                                                                                                                                                                                                                                                                                                                                                                                                                                                                                                                                                                     bestehende mischwasserkanalisation. aufgrund der nur geringfügig erhöhten abwassermenge ist die vorhandene entwässerungsinfrastruktur ausreichend. das unverschmutzte niederschlagswasser kann grundsätzlich in zisternen aufgefan gen werden und als brauchwasser zur toilettenspülung, gartenbewässerung o.ä. verwendung   \n",
       "5                                                                                                                                                                                                                                                                                                                                                                                                                                                                                                                                                                                                                                                                                                                     bestehende mischwasserkanalisation. aufgrund der nur geringfügig erhöhten abwassermenge ist die vorhandene entwässerungsinfrastruktur ausreichend. das unverschmutzte niederschlagswasser kann grundsätzlich in zisternen aufgefan gen werden und als brauchwasser zur toilettenspülung, gartenbewässerung o.ä. verwendung   \n",
       "6                                                                                                                                                                                                                                                                                                                                                                                                                                                                                                                                                                                                                                                                                                                                             möglichkeiten der entwicklung der gemeinde insbesondere durch wiedernutzbarmachung von flächen, nachverdichtung und andere maßnahmen zur innenentwicklung zu nutzen (§1a abs.2). bundesnaturschutzgesetz (bnatschg) / landschaftsgesetz nw (lg nw) das bundesnaturschutzgesetz (bnatschg) schreibt   \n",
       "7                                                                                                                                                                                                                                                                                                                                                                                                                                                               möglichkeiten der entwicklung der gemeinde insbesondere durch wiedernutzbarmachung von flächen, nachverdichtung und andere maßnahmen zur innenentwicklung zu nutzen sowie bodenversiegelungen auf das notwendige maß zu begrenzen. die notwendigkeit der umwandlung landwirtschaftlich ;;; oder als wald genutzter flächen soll begründet werden; dabei sollen ermittlungen zu den möglichkeiten der innenentwicklung zugrunde gelegt werden, zu denen insbesondere brachflächen, gebäudeleerstand, baulücken und andere nachverdichtungsmöglichkeiten zählen können. begründung   \n",
       "8                                                                                                                                                                                                                                                                                                                                                                                                                                                                                                                                                                                                                                                                                                                                                                                             sparsamer und schonender umgang mit grund und boden durch wiedernutz barmachung von flächen, nachverdichtung und innenentwick lung zur verringerung zusätzlicher inanspruchnahme von bö den  landwirtschaftlich, als wald oder für wohnungszwecke   \n",
       "9                                                                                                                                                                                                                                                                                                                                                                                                                                                                                                                                                                                                                                                                                                                                                                                             sparsamer und schonender umgang mit grund und boden durch wiedernutz barmachung von flächen, nachverdichtung und innenentwick lung zur verringerung zusätzlicher inanspruchnahme von bö den  landwirtschaftlich, als wald oder für wohnungszwecke   \n",
       "10       möglichkeiten der entwicklung der gemeinde insbesondere durch wiedernutzbarmachung von flächen, nachverdichtung und andere maßnahmen zur innenentwicklung zu nutzen sowie bodenversiegelungen auf das notwendige maß zu begrenzen. die notwendigkeit der umwandlung landwirtschaftlich ;;; oder als wald genutzter flächen soll begründet werden; dabei sollen ermittlungen zu den möglichkeiten der innenentwicklung zugrunde gelegt werden, zu denen insbesondere brachflächen, gebäudeleerstand, baulücken und andere nachverdichtungsmöglichkeiten zählen können. diesbezüglich ;;; die sonderregeln des § 246 abs. 10 baugb ( sonderreglung für flüchtlingsunterkünfte) nicht geeignet eine innenentwicklung umzusetzen, da die sonderregelung lediglich befristet bis zum 31.12.2019 in kraft ist, die stadt elsdorf ;;; im hinblick auf eine mögliche errichtung von flüchtlingsunterkünften untersucht worden. standorte im innenbereich, die einer innenentwicklung.im sinne des o.g. gesetzes darstellen, stehen aufgrund ...   \n",
       "11                                                                                                                                                                                                                                                                                                                                                                                                                                                                                                                                                                                                                                                                                                                                                                                                        voll umfänglich im beplanten innenbereich gem. § 34 baugb. die beabsichtigte städtebauliche zielsetzung dient der innenentwicklung i.s.d. § 1a abs. 2 baugb. stadt elsdorf, bebauungsplan nr. 75 „niederembt, embestraße“, 1. änderung   \n",
       "12                                                                                                                                                                                                                                                                                                                                                                                                                                                                                                                                                                                                                                                                                                                                                                              aus der deutschen grundkarte mit geltungsbereich unter abschnitt 2). die beabsichtigte städtebauliche zielsetzung dient der innenentwicklung i.s.d. § 1a abs. 2 baugb. die beabsichtigte bebauungsplanung entspricht der geordneten städtebauli chen entwicklung   \n",
       "\n",
       "keyword       actual_keyword                      category       filename  \n",
       "0        niederschlagswasser  betroffen_von_überschwemmung   116995_8.pdf  \n",
       "1        niederschlagswasser  betroffen_von_überschwemmung  1691739_2.pdf  \n",
       "2        niederschlagswasser  betroffen_von_überschwemmung  1691740_2.pdf  \n",
       "3        niederschlagswasser  betroffen_von_überschwemmung  1691744_1.pdf  \n",
       "4        niederschlagswasser  betroffen_von_überschwemmung  1691766_1.pdf  \n",
       "5        niederschlagswasser  betroffen_von_überschwemmung  1691842_1.pdf  \n",
       "6           innenentwicklung              innenentwicklung   116995_8.pdf  \n",
       "7           innenentwicklung              innenentwicklung  1691739_1.pdf  \n",
       "8           innenentwicklung              innenentwicklung  1691740_2.pdf  \n",
       "9           innenentwicklung              innenentwicklung  1691744_1.pdf  \n",
       "10          innenentwicklung              innenentwicklung  1691744_2.pdf  \n",
       "11          innenentwicklung              innenentwicklung  1691766_1.pdf  \n",
       "12          innenentwicklung              innenentwicklung  1691842_1.pdf  "
      ]
     },
     "execution_count": 5,
     "metadata": {},
     "output_type": "execute_result"
    }
   ],
   "source": [
    "all_matches.head(15)"
   ]
  },
  {
   "cell_type": "markdown",
   "metadata": {},
   "source": [
    "# Write results to csv and json"
   ]
  },
  {
   "cell_type": "code",
   "execution_count": 6,
   "metadata": {},
   "outputs": [],
   "source": [
    "# write to csv\n",
    "all_matches.to_csv(os.path.join(OUTPUT_FILE_PATH + \".csv\"), header=True, index=False)\n",
    "\n",
    "# write to json\n",
    "all_matches_json = all_matches.to_json(orient='records')\n",
    "with open(OUTPUT_FILE_PATH + \".json\", 'w') as outputfile:\n",
    "    outputfile.write(all_matches_json)"
   ]
  }
 ],
 "metadata": {
  "kernelspec": {
   "display_name": "landsealing",
   "language": "python",
   "name": "python3"
  },
  "language_info": {
   "codemirror_mode": {
    "name": "ipython",
    "version": 3
   },
   "file_extension": ".py",
   "mimetype": "text/x-python",
   "name": "python",
   "nbconvert_exporter": "python",
   "pygments_lexer": "ipython3",
   "version": "3.11.4"
  },
  "orig_nbformat": 4
 },
 "nbformat": 4,
 "nbformat_minor": 2
}
