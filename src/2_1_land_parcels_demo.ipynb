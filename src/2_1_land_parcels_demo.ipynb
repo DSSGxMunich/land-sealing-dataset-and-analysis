{
 "cells": [
  {
   "cell_type": "markdown",
   "metadata": {},
   "source": [
    "![dssg_banner](assets/dssg_banner.png)"
   ]
  },
  {
   "cell_type": "code",
   "execution_count": 1,
   "metadata": {
    "is_executing": true
   },
   "outputs": [],
   "source": [
    "import os\n",
    "\n",
    "from data_pipeline.nrw_pdf_downloader.geojson_parser import parse_geojson\n",
    "from data_pipeline.nrw_pdf_downloader.nrw_pdf_scraper import run_pdf_downloader\n",
    "from data_pipeline.match_RPlan_BPlan.matching_plans import merge_rp_bp\n",
    "from data_pipeline.match_RPlan_BPlan.matching_plans import export_merged_bp_rp"
   ]
  },
  {
   "cell_type": "markdown",
   "metadata": {},
   "source": [
    "# Get started: PDF downloader for land parcels of Bebauungspläne\n",
    "\n",
    "The first step necessary to run the BP downloader is to have a database that contains links to different building plans in PDF format. The input for this was the information provided in the [NRW geoportal](https://www.geoportal.nrw/?activetab=map). Clicking on the download button there, you should be able to select all the areas of NRW, select to download information from Bebauungsplane and get the information in GeoPackage format (gpkg extension). \n",
    "\n",
    "This extension can be loaded into any GIS interface, and exported into a geojson format. This is the format that the functions finally take as input.\n",
    "\n",
    "- `parse_geojson:` parses geojson file with download links to different building plans. It iterates over all rows and checks if the url matches the pattern of a osp-plan.de link without a list format, meaning than the scan url is not directly to a pdf, but the pdf is contained somewhere in the html of the page. If the url matches the pattern, the html of the page is downloaded and parsed with beautiful soup. All links that start with https://www.o-sp.de/download/ are extracted and written to a dataframe.\n",
    "    - to parse only a sample of the rows, set a sample size defined by sample_n.\n",
    "    \n",
    "    $~$\n",
    "\n",
    "- `run_pdf_downloader:` goes through a GDF with PDF download links and downloads all the files. Links that return error are saved in a csv called error_links in the defined output folder. \n",
    "    - to parse only a sample of the rows, set a sample size defined by sample_n. "
   ]
  },
  {
   "cell_type": "markdown",
   "metadata": {},
   "source": [
    "## Necessary file path specifications:"
   ]
  },
  {
   "cell_type": "code",
   "execution_count": 8,
   "metadata": {
    "collapsed": false,
    "is_executing": true
   },
   "outputs": [],
   "source": [
    "INPUT_BP_FILE_PATH = os.path.join(\"..\", \"data\",\"nrw\", \"bplan\", \"raw\", \"links\", \"NRW_BP.geojson\")\n",
    "OUTPUT_PDF_FOLDER_PATH = os.path.join(\"..\", \"data\", \"nrw\", \"bplan\", \"raw\", \"pdfs\")\n",
    "OUTPUT_CSV_PATH = os.path.join(\"..\", \"data\", \"nrw\", \"bplan\", \"raw\", \"links\", \"NRW_BP_parsed_links.csv\")\n",
    "OUTPUT_LAND_PARCELS_PATH = os.path.join(\"..\", \"data\", \"nrw\", \"bplan\", \"raw\", \"links\", \"land_parcels.geojson\")\n",
    "INPUT_REGIONS_FILE_PATH = os.path.join( \"..\", \"data\",\"nrw\", \"rplan\", \"raw\", \"geo\", \"regions_map.geojson\")"
   ]
  },
  {
   "cell_type": "markdown",
   "metadata": {},
   "source": [
    "## Now, let's start the process:"
   ]
  },
  {
   "cell_type": "code",
   "execution_count": 3,
   "metadata": {
    "is_executing": true
   },
   "outputs": [
    {
     "name": "stderr",
     "output_type": "stream",
     "text": [
      "100%|██████████| 5/5 [00:00<00:00,  8.54it/s]\n"
     ]
    }
   ],
   "source": [
    "df = parse_geojson(file_path=INPUT_BP_FILE_PATH,\n",
    "                   sample_n = 5,\n",
    "                   output_path = OUTPUT_CSV_PATH)"
   ]
  },
  {
   "cell_type": "markdown",
   "metadata": {},
   "source": [
    "## Run the downloader and save the pdfs in output folder:"
   ]
  },
  {
   "cell_type": "code",
   "execution_count": 4,
   "metadata": {
    "is_executing": true
   },
   "outputs": [
    {
     "name": "stderr",
     "output_type": "stream",
     "text": [
      "  0%|          | 0/3 [00:00<?, ?it/s]"
     ]
    },
    {
     "name": "stderr",
     "output_type": "stream",
     "text": [
      "100%|██████████| 3/3 [00:01<00:00,  1.82it/s]\n"
     ]
    }
   ],
   "source": [
    "run_pdf_downloader(input_df=df,\n",
    "                   output_folder=OUTPUT_PDF_FOLDER_PATH,\n",
    "                   sample_n=3)"
   ]
  },
  {
   "cell_type": "markdown",
   "metadata": {},
   "source": [
    "## Enrich bplan info to create `land_parcels.csv`\n",
    "\n",
    "To generate the file `land_parcels.csv` we need the columns from the original NRW_BP but we also need to add the columns that refer to the regional plans that match each parcel. For that, we will use the function merge_rp_bp stored in the module match_rplan_bplan.matching_plans. It takes as input the same `INPUT_BP_FILE_PATH` we were working with, but also the file that contains geodata of the regions (provided by GreenDIA)."
   ]
  },
  {
   "cell_type": "code",
   "execution_count": 9,
   "metadata": {},
   "outputs": [],
   "source": [
    "land_parcels = merge_rp_bp(path_bp_geo=INPUT_BP_FILE_PATH,\n",
    "                           path_rp_geo=INPUT_REGIONS_FILE_PATH)"
   ]
  },
  {
   "cell_type": "markdown",
   "metadata": {},
   "source": [
    "The result is a dataframe that contains all the original columns from the BP dataset and the columns from the regions. The *relevant* columns in this dataset are:\n",
    "\n",
    "- **objectid:** unique numeric ID of the building plan. \n",
    "- **geometry:** contains the spatial information of the polygons. \n",
    "- **kommune:** name of the municipality.\n",
    "- **name:** name of the building plan.\n",
    "- **datum:** date of the building plan. \n",
    "- **regional_plan_id:** unique numeric ID of the regional plan. \n",
    "- **regional_plan_name:** nominal name of the regional plan. "
   ]
  },
  {
   "cell_type": "code",
   "execution_count": 10,
   "metadata": {},
   "outputs": [
    {
     "data": {
      "text/html": [
       "<div>\n",
       "<style scoped>\n",
       "    .dataframe tbody tr th:only-of-type {\n",
       "        vertical-align: middle;\n",
       "    }\n",
       "\n",
       "    .dataframe tbody tr th {\n",
       "        vertical-align: top;\n",
       "    }\n",
       "\n",
       "    .dataframe thead th {\n",
       "        text-align: right;\n",
       "    }\n",
       "</style>\n",
       "<table border=\"1\" class=\"dataframe\">\n",
       "  <thead>\n",
       "    <tr style=\"text-align: right;\">\n",
       "      <th></th>\n",
       "      <th>objectid</th>\n",
       "      <th>geometry</th>\n",
       "      <th>planid</th>\n",
       "      <th>levelplan</th>\n",
       "      <th>name</th>\n",
       "      <th>kommune</th>\n",
       "      <th>gkz</th>\n",
       "      <th>nr</th>\n",
       "      <th>besch</th>\n",
       "      <th>aend</th>\n",
       "      <th>...</th>\n",
       "      <th>aendnr</th>\n",
       "      <th>begruendurl</th>\n",
       "      <th>umweltberurl</th>\n",
       "      <th>erklaerungurl</th>\n",
       "      <th>shape_Length</th>\n",
       "      <th>shape_Area</th>\n",
       "      <th>regional_plan_id</th>\n",
       "      <th>regional_plan_name</th>\n",
       "      <th>ART</th>\n",
       "      <th>LND</th>\n",
       "    </tr>\n",
       "  </thead>\n",
       "  <tbody>\n",
       "    <tr>\n",
       "      <th>0</th>\n",
       "      <td>84060</td>\n",
       "      <td>POLYGON ((7.28543 50.82280, 7.28728 50.82179, ...</td>\n",
       "      <td>DE_05382060_Siegburg_BP93/1</td>\n",
       "      <td>infra-local</td>\n",
       "      <td>Im Klausgarten, Braschosser Straße, Am Kreuztor</td>\n",
       "      <td>Siegburg</td>\n",
       "      <td>05382060</td>\n",
       "      <td>93/1</td>\n",
       "      <td>None</td>\n",
       "      <td>None</td>\n",
       "      <td>...</td>\n",
       "      <td>None</td>\n",
       "      <td>None</td>\n",
       "      <td>None</td>\n",
       "      <td>None</td>\n",
       "      <td>868.647801</td>\n",
       "      <td>3.196032e+04</td>\n",
       "      <td>5022</td>\n",
       "      <td>Region Bonn/Rhein-Sieg</td>\n",
       "      <td>Teilabschnitt</td>\n",
       "      <td>5</td>\n",
       "    </tr>\n",
       "    <tr>\n",
       "      <th>126</th>\n",
       "      <td>559438</td>\n",
       "      <td>POLYGON ((7.39385 50.90281, 7.39416 50.90240, ...</td>\n",
       "      <td>DE_05382036_02_32</td>\n",
       "      <td>infra-local</td>\n",
       "      <td>32. Änderung des Bebauungsplanes Nr. 2 „Much-K...</td>\n",
       "      <td>Much</td>\n",
       "      <td>05382036</td>\n",
       "      <td>0</td>\n",
       "      <td>None</td>\n",
       "      <td>32.  Änderung</td>\n",
       "      <td>...</td>\n",
       "      <td>32</td>\n",
       "      <td>https://www.much.de/zukunft/bauleitplanungen</td>\n",
       "      <td>https://www.much.de/zukunft/bauleitplanungen</td>\n",
       "      <td>None</td>\n",
       "      <td>473.229327</td>\n",
       "      <td>4.467916e+03</td>\n",
       "      <td>5022</td>\n",
       "      <td>Region Bonn/Rhein-Sieg</td>\n",
       "      <td>Teilabschnitt</td>\n",
       "      <td>5</td>\n",
       "    </tr>\n",
       "    <tr>\n",
       "      <th>2722</th>\n",
       "      <td>2257588</td>\n",
       "      <td>POLYGON ((7.12896 50.77292, 7.12899 50.77292, ...</td>\n",
       "      <td>DE_05314000_00</td>\n",
       "      <td>local</td>\n",
       "      <td>Flächennutzungsplan der Bundesstadt Bonn</td>\n",
       "      <td>Bonn</td>\n",
       "      <td>05314000</td>\n",
       "      <td>00</td>\n",
       "      <td></td>\n",
       "      <td></td>\n",
       "      <td>...</td>\n",
       "      <td>None</td>\n",
       "      <td>None</td>\n",
       "      <td>None</td>\n",
       "      <td>None</td>\n",
       "      <td>69372.039264</td>\n",
       "      <td>1.410146e+08</td>\n",
       "      <td>5022</td>\n",
       "      <td>Region Bonn/Rhein-Sieg</td>\n",
       "      <td>Teilabschnitt</td>\n",
       "      <td>5</td>\n",
       "    </tr>\n",
       "    <tr>\n",
       "      <th>3436</th>\n",
       "      <td>2367967</td>\n",
       "      <td>MULTIPOLYGON (((7.23255 50.91855, 7.23242 50.9...</td>\n",
       "      <td>DE_05378028_9aenderungI_Ur</td>\n",
       "      <td>local</td>\n",
       "      <td>9. Änderung §34_Urschrift</td>\n",
       "      <td>Rösrath</td>\n",
       "      <td>05378028</td>\n",
       "      <td>9aenderungI_Ur</td>\n",
       "      <td>Breide und Durbusch</td>\n",
       "      <td>Urschrift</td>\n",
       "      <td>...</td>\n",
       "      <td>None</td>\n",
       "      <td>http://www.roesrath.de/34-9.-aenderung-breide-...</td>\n",
       "      <td></td>\n",
       "      <td></td>\n",
       "      <td>739.659941</td>\n",
       "      <td>7.348491e+03</td>\n",
       "      <td>5022</td>\n",
       "      <td>Region Bonn/Rhein-Sieg</td>\n",
       "      <td>Teilabschnitt</td>\n",
       "      <td>5</td>\n",
       "    </tr>\n",
       "    <tr>\n",
       "      <th>3444</th>\n",
       "      <td>2367975</td>\n",
       "      <td>MULTIPOLYGON (((7.19091 50.88535, 7.19112 50.8...</td>\n",
       "      <td>DE_05378028_1aenderungundUrschriftI_Ur</td>\n",
       "      <td>local</td>\n",
       "      <td>1. Änderung und Urschrift §34_Urschrift</td>\n",
       "      <td>Rösrath</td>\n",
       "      <td>05378028</td>\n",
       "      <td>1aenderungundUrschriftI_Ur</td>\n",
       "      <td></td>\n",
       "      <td>Urschrift</td>\n",
       "      <td>...</td>\n",
       "      <td>None</td>\n",
       "      <td>http://www.roesrath.de/34-urfassung-und-1.-aen...</td>\n",
       "      <td></td>\n",
       "      <td></td>\n",
       "      <td>56630.267941</td>\n",
       "      <td>6.082747e+06</td>\n",
       "      <td>5022</td>\n",
       "      <td>Region Bonn/Rhein-Sieg</td>\n",
       "      <td>Teilabschnitt</td>\n",
       "      <td>5</td>\n",
       "    </tr>\n",
       "  </tbody>\n",
       "</table>\n",
       "<p>5 rows × 30 columns</p>\n",
       "</div>"
      ],
      "text/plain": [
       "      objectid                                           geometry  \\\n",
       "0        84060  POLYGON ((7.28543 50.82280, 7.28728 50.82179, ...   \n",
       "126     559438  POLYGON ((7.39385 50.90281, 7.39416 50.90240, ...   \n",
       "2722   2257588  POLYGON ((7.12896 50.77292, 7.12899 50.77292, ...   \n",
       "3436   2367967  MULTIPOLYGON (((7.23255 50.91855, 7.23242 50.9...   \n",
       "3444   2367975  MULTIPOLYGON (((7.19091 50.88535, 7.19112 50.8...   \n",
       "\n",
       "                                      planid    levelplan  \\\n",
       "0                DE_05382060_Siegburg_BP93/1  infra-local   \n",
       "126                        DE_05382036_02_32  infra-local   \n",
       "2722                          DE_05314000_00        local   \n",
       "3436              DE_05378028_9aenderungI_Ur        local   \n",
       "3444  DE_05378028_1aenderungundUrschriftI_Ur        local   \n",
       "\n",
       "                                                   name   kommune       gkz  \\\n",
       "0       Im Klausgarten, Braschosser Straße, Am Kreuztor  Siegburg  05382060   \n",
       "126   32. Änderung des Bebauungsplanes Nr. 2 „Much-K...      Much  05382036   \n",
       "2722           Flächennutzungsplan der Bundesstadt Bonn      Bonn  05314000   \n",
       "3436                          9. Änderung §34_Urschrift   Rösrath  05378028   \n",
       "3444            1. Änderung und Urschrift §34_Urschrift   Rösrath  05378028   \n",
       "\n",
       "                              nr                besch           aend  ...  \\\n",
       "0                           93/1                 None           None  ...   \n",
       "126                            0                 None  32.  Änderung  ...   \n",
       "2722                          00                                      ...   \n",
       "3436              9aenderungI_Ur  Breide und Durbusch      Urschrift  ...   \n",
       "3444  1aenderungundUrschriftI_Ur                           Urschrift  ...   \n",
       "\n",
       "     aendnr                                        begruendurl  \\\n",
       "0      None                                               None   \n",
       "126      32       https://www.much.de/zukunft/bauleitplanungen   \n",
       "2722   None                                               None   \n",
       "3436   None  http://www.roesrath.de/34-9.-aenderung-breide-...   \n",
       "3444   None  http://www.roesrath.de/34-urfassung-und-1.-aen...   \n",
       "\n",
       "                                      umweltberurl erklaerungurl  \\\n",
       "0                                             None          None   \n",
       "126   https://www.much.de/zukunft/bauleitplanungen          None   \n",
       "2722                                          None          None   \n",
       "3436                                                               \n",
       "3444                                                               \n",
       "\n",
       "      shape_Length    shape_Area regional_plan_id      regional_plan_name  \\\n",
       "0       868.647801  3.196032e+04             5022  Region Bonn/Rhein-Sieg   \n",
       "126     473.229327  4.467916e+03             5022  Region Bonn/Rhein-Sieg   \n",
       "2722  69372.039264  1.410146e+08             5022  Region Bonn/Rhein-Sieg   \n",
       "3436    739.659941  7.348491e+03             5022  Region Bonn/Rhein-Sieg   \n",
       "3444  56630.267941  6.082747e+06             5022  Region Bonn/Rhein-Sieg   \n",
       "\n",
       "                ART  LND  \n",
       "0     Teilabschnitt    5  \n",
       "126   Teilabschnitt    5  \n",
       "2722  Teilabschnitt    5  \n",
       "3436  Teilabschnitt    5  \n",
       "3444  Teilabschnitt    5  \n",
       "\n",
       "[5 rows x 30 columns]"
      ]
     },
     "execution_count": 10,
     "metadata": {},
     "output_type": "execute_result"
    }
   ],
   "source": [
    "land_parcels.head()"
   ]
  },
  {
   "cell_type": "markdown",
   "metadata": {},
   "source": [
    "File can be exported with the function export_merged_BP_RP() (runs the same as merge_RP_BP, but have to add output_path parameter) in the module, or by using *to_file* from the geopandas module. We will do a run of the export function. "
   ]
  },
  {
   "cell_type": "code",
   "execution_count": 12,
   "metadata": {},
   "outputs": [],
   "source": [
    "export_merged_bp_rp(output_path=OUTPUT_LAND_PARCELS_PATH,\n",
    "                    path_bp_geo=INPUT_BP_FILE_PATH,\n",
    "                    path_rp_geo=INPUT_REGIONS_FILE_PATH)\n",
    "                "
   ]
  }
 ],
 "metadata": {
  "kernelspec": {
   "display_name": "land-sealing-dssgx",
   "language": "python",
   "name": "python3"
  },
  "language_info": {
   "codemirror_mode": {
    "name": "ipython",
    "version": 3
   },
   "file_extension": ".py",
   "mimetype": "text/x-python",
   "name": "python",
   "nbconvert_exporter": "python",
   "pygments_lexer": "ipython3",
   "version": "3.11.4"
  },
  "orig_nbformat": 4
 },
 "nbformat": 4,
 "nbformat_minor": 2
}
